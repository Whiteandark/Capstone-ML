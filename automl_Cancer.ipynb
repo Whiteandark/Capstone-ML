{
  "cells": [
    {
      "cell_type": "markdown",
      "source": [
        "# Automated ML\n",
        "\n",
        "TODO: Import Dependencies. In the cell below, import all the dependencies that you will need to complete the project."
      ],
      "metadata": {}
    },
    {
      "cell_type": "markdown",
      "source": [
        "## Dataset\n",
        "\n",
        "### Overview\n",
        "TODO: In this markdown cell, give an overview of the dataset you are using. Also mention the task you will be performing.\n",
        "\n",
        "\n",
        "TODO: Get data. In the cell below, write code to access the data you will be using in this project. Remember that the dataset needs to be external."
      ],
      "metadata": {}
    },
    {
      "cell_type": "code",
      "source": [
        "from azureml.core import Workspace, Experiment\n",
        "from azureml.core.compute import ComputeTarget, AmlCompute\n",
        "from azureml.widgets import RunDetails\n",
        "import os\n",
        "import joblib\n",
        "\n",
        "from azureml.train.automl import AutoMLConfig\n",
        "from pprint import pprint # Used in printing automl model parameters\n",
        "from azureml.core import Model # Used to get model information\n",
        "from azureml.core.experiment import Experiment\n",
        "from azureml.core.workspace import Workspace\n",
        "\n",
        "ws = Workspace.from_config()\n",
        "\n",
        "experiment_name = 'Cervical-Cancer-Predict'\n",
        "#project_folder = './Capstone-project'\n",
        "\n",
        "experiment=Experiment(ws, experiment_name)"
      ],
      "outputs": [],
      "execution_count": 1,
      "metadata": {
        "gather": {
          "logged": 1617895422868
        },
        "jupyter": {
          "outputs_hidden": false,
          "source_hidden": false
        },
        "nteract": {
          "transient": {
            "deleting": false
          }
        }
      }
    },
    {
      "cell_type": "code",
      "source": [
        "from azureml.core.compute import ComputeTarget, AmlCompute\n",
        "from azureml.core.compute_target import ComputeTargetException\n",
        "\n",
        "compute_cluster_name = 'cluster-capstone'\n",
        "\n",
        "try:\n",
        "    compute_target = ComputeTarget(workspace=ws, name = compute_cluster_name)\n",
        "    print('Found the compute cluster')\n",
        "\n",
        "except ComputeTargetException:\n",
        "    compute_config = AmlCompute.provisioning_configuration(vm_size=\"STANDARD_D3_V2\", max_nodes=4)\n",
        "    compute_target = ComputeTarget.create(ws, compute_cluster_name, compute_config)\n",
        "    compute_target.wait_for_completion(show_output=True)"
      ],
      "outputs": [
        {
          "output_type": "stream",
          "name": "stdout",
          "text": [
            "Creating\n",
            "Succeeded\n",
            "AmlCompute wait for completion finished\n",
            "\n",
            "Minimum number of nodes requested have been provisioned\n"
          ]
        }
      ],
      "execution_count": 2,
      "metadata": {
        "collapsed": true,
        "jupyter": {
          "source_hidden": false,
          "outputs_hidden": false
        },
        "nteract": {
          "transient": {
            "deleting": false
          }
        },
        "gather": {
          "logged": 1617937602172
        }
      }
    },
    {
      "cell_type": "markdown",
      "source": [
        "Create an environment : "
      ],
      "metadata": {
        "nteract": {
          "transient": {
            "deleting": false
          }
        }
      }
    },
    {
      "cell_type": "markdown",
      "source": [
        "%%writefile conda_dependencies.yml\r\n",
        "\r\n",
        "dependencies:\r\n",
        "- python=3.6.9\r\n",
        "- scikit-learn==0.24.1\r\n",
        "- pip:\r\n",
        "  - xgboost==0.90\r\n",
        "  - azureml-defaults"
      ],
      "metadata": {
        "nteract": {
          "transient": {
            "deleting": false
          }
        }
      }
    },
    {
      "cell_type": "markdown",
      "source": [
        "Register the environment to the workspace :"
      ],
      "metadata": {
        "nteract": {
          "transient": {
            "deleting": false
          }
        }
      }
    },
    {
      "cell_type": "markdown",
      "source": [
        "from azureml.core import Environment\r\n",
        "\r\n",
        "Automlenv = Environment.from_conda_specification(name = 'Automlenv', file_path = './conda_dependencies.yml')\r\n",
        "\r\n",
        "Automlenv.register(workspace=ws)\r\n",
        "Automlenv.python.conda_dependencies.serialize_to_string()"
      ],
      "metadata": {
        "nteract": {
          "transient": {
            "deleting": false
          }
        }
      }
    },
    {
      "cell_type": "code",
      "source": [
        "# Try to load the dataset from the Workspace. Otherwise, create it from the file\r\n",
        "# NOTE: update the key to match the dataset name\r\n",
        "from azureml.core.dataset import Dataset\r\n",
        "from azureml.data.dataset_factory import TabularDatasetFactory\r\n",
        "found = False\r\n",
        "key = 'Cervical Cancer risk'\r\n",
        "description_text = 'Cervical Cancer Behavior Risk Data Set'\r\n",
        "\r\n",
        "if key in ws.datasets.keys(): \r\n",
        "        found = True\r\n",
        "        dataset = ws.datasets[key] \r\n",
        "\r\n",
        "if not found:\r\n",
        "        # Create AML Dataset and register it into Workspace\r\n",
        "        example_data = 'https://archive.ics.uci.edu/ml/machine-learning-databases/00537/sobar-72.csv'\r\n",
        "        dataset = TabularDatasetFactory.from_delimited_files(example_data)       \r\n",
        "        #Register Dataset in Workspace\r\n",
        "        dataset = dataset.register(workspace=ws,\r\n",
        "                                   name=key,\r\n",
        "                                   description=description_text)\r\n",
        "\r\n",
        "\r\n",
        "df = dataset.to_pandas_dataframe()\r\n",
        "df.describe()"
      ],
      "outputs": [
        {
          "output_type": "execute_result",
          "execution_count": 11,
          "data": {
            "text/plain": "       behavior_sexualRisk  behavior_eating  behavior_personalHygine  \\\ncount            72.000000        72.000000                72.000000   \nmean              9.666667        12.791667                11.083333   \nstd               1.186782         2.361293                 3.033847   \nmin               2.000000         3.000000                 3.000000   \n25%              10.000000        11.000000                 9.000000   \n50%              10.000000        13.000000                11.000000   \n75%              10.000000        15.000000                14.000000   \nmax              10.000000        15.000000                15.000000   \n\n       intention_aggregation  intention_commitment  attitude_consistency  \\\ncount              72.000000             72.000000             72.000000   \nmean                7.902778             13.347222              7.180556   \nstd                 2.738148              2.374511              1.522844   \nmin                 2.000000              6.000000              2.000000   \n25%                 6.000000             11.000000              6.000000   \n50%                10.000000             15.000000              7.000000   \n75%                10.000000             15.000000              8.000000   \nmax                10.000000             15.000000             10.000000   \n\n       attitude_spontaneity  norm_significantPerson  norm_fulfillment  \\\ncount             72.000000               72.000000         72.000000   \nmean               8.611111                3.125000          8.486111   \nstd                1.515698                1.845722          4.907577   \nmin                4.000000                1.000000          3.000000   \n25%                8.000000                1.000000          3.000000   \n50%                9.000000                3.000000          7.000000   \n75%               10.000000                5.000000         14.000000   \nmax               10.000000                5.000000         15.000000   \n\n       perception_vulnerability  perception_severity  motivation_strength  \\\ncount                 72.000000            72.000000            72.000000   \nmean                   8.513889             5.388889            12.652778   \nstd                    4.275686             3.400727             3.207209   \nmin                    3.000000             2.000000             3.000000   \n25%                    5.000000             2.000000            11.000000   \n50%                    8.000000             4.000000            14.000000   \n75%                   13.000000             9.000000            15.000000   \nmax                   15.000000            10.000000            15.000000   \n\n       motivation_willingness  socialSupport_emotionality  \\\ncount               72.000000                   72.000000   \nmean                 9.694444                    8.097222   \nstd                  4.130406                    4.243171   \nmin                  3.000000                    3.000000   \n25%                  7.000000                    3.000000   \n50%                 11.000000                    9.000000   \n75%                 13.000000                   11.250000   \nmax                 15.000000                   15.000000   \n\n       socialSupport_appreciation  socialSupport_instrumental  \\\ncount                   72.000000                   72.000000   \nmean                     6.166667                   10.375000   \nstd                      2.897303                    4.316485   \nmin                      2.000000                    3.000000   \n25%                      3.750000                    6.750000   \n50%                      6.500000                   12.000000   \n75%                      9.000000                   14.250000   \nmax                     10.000000                   15.000000   \n\n       empowerment_knowledge  empowerment_abilities  empowerment_desires  \\\ncount              72.000000              72.000000            72.000000   \nmean               10.541667               9.319444            10.277778   \nstd                 4.366768               4.181874             4.482273   \nmin                 3.000000               3.000000             3.000000   \n25%                 7.000000               5.000000             6.750000   \n50%                12.000000              10.000000            11.000000   \n75%                15.000000              13.000000            15.000000   \nmax                15.000000              15.000000            15.000000   \n\n       ca_cervix  \ncount  72.000000  \nmean    0.291667  \nstd     0.457719  \nmin     0.000000  \n25%     0.000000  \n50%     0.000000  \n75%     1.000000  \nmax     1.000000  ",
            "text/html": "<div>\n<style scoped>\n    .dataframe tbody tr th:only-of-type {\n        vertical-align: middle;\n    }\n\n    .dataframe tbody tr th {\n        vertical-align: top;\n    }\n\n    .dataframe thead th {\n        text-align: right;\n    }\n</style>\n<table border=\"1\" class=\"dataframe\">\n  <thead>\n    <tr style=\"text-align: right;\">\n      <th></th>\n      <th>behavior_sexualRisk</th>\n      <th>behavior_eating</th>\n      <th>behavior_personalHygine</th>\n      <th>intention_aggregation</th>\n      <th>intention_commitment</th>\n      <th>attitude_consistency</th>\n      <th>attitude_spontaneity</th>\n      <th>norm_significantPerson</th>\n      <th>norm_fulfillment</th>\n      <th>perception_vulnerability</th>\n      <th>perception_severity</th>\n      <th>motivation_strength</th>\n      <th>motivation_willingness</th>\n      <th>socialSupport_emotionality</th>\n      <th>socialSupport_appreciation</th>\n      <th>socialSupport_instrumental</th>\n      <th>empowerment_knowledge</th>\n      <th>empowerment_abilities</th>\n      <th>empowerment_desires</th>\n      <th>ca_cervix</th>\n    </tr>\n  </thead>\n  <tbody>\n    <tr>\n      <th>count</th>\n      <td>72.000000</td>\n      <td>72.000000</td>\n      <td>72.000000</td>\n      <td>72.000000</td>\n      <td>72.000000</td>\n      <td>72.000000</td>\n      <td>72.000000</td>\n      <td>72.000000</td>\n      <td>72.000000</td>\n      <td>72.000000</td>\n      <td>72.000000</td>\n      <td>72.000000</td>\n      <td>72.000000</td>\n      <td>72.000000</td>\n      <td>72.000000</td>\n      <td>72.000000</td>\n      <td>72.000000</td>\n      <td>72.000000</td>\n      <td>72.000000</td>\n      <td>72.000000</td>\n    </tr>\n    <tr>\n      <th>mean</th>\n      <td>9.666667</td>\n      <td>12.791667</td>\n      <td>11.083333</td>\n      <td>7.902778</td>\n      <td>13.347222</td>\n      <td>7.180556</td>\n      <td>8.611111</td>\n      <td>3.125000</td>\n      <td>8.486111</td>\n      <td>8.513889</td>\n      <td>5.388889</td>\n      <td>12.652778</td>\n      <td>9.694444</td>\n      <td>8.097222</td>\n      <td>6.166667</td>\n      <td>10.375000</td>\n      <td>10.541667</td>\n      <td>9.319444</td>\n      <td>10.277778</td>\n      <td>0.291667</td>\n    </tr>\n    <tr>\n      <th>std</th>\n      <td>1.186782</td>\n      <td>2.361293</td>\n      <td>3.033847</td>\n      <td>2.738148</td>\n      <td>2.374511</td>\n      <td>1.522844</td>\n      <td>1.515698</td>\n      <td>1.845722</td>\n      <td>4.907577</td>\n      <td>4.275686</td>\n      <td>3.400727</td>\n      <td>3.207209</td>\n      <td>4.130406</td>\n      <td>4.243171</td>\n      <td>2.897303</td>\n      <td>4.316485</td>\n      <td>4.366768</td>\n      <td>4.181874</td>\n      <td>4.482273</td>\n      <td>0.457719</td>\n    </tr>\n    <tr>\n      <th>min</th>\n      <td>2.000000</td>\n      <td>3.000000</td>\n      <td>3.000000</td>\n      <td>2.000000</td>\n      <td>6.000000</td>\n      <td>2.000000</td>\n      <td>4.000000</td>\n      <td>1.000000</td>\n      <td>3.000000</td>\n      <td>3.000000</td>\n      <td>2.000000</td>\n      <td>3.000000</td>\n      <td>3.000000</td>\n      <td>3.000000</td>\n      <td>2.000000</td>\n      <td>3.000000</td>\n      <td>3.000000</td>\n      <td>3.000000</td>\n      <td>3.000000</td>\n      <td>0.000000</td>\n    </tr>\n    <tr>\n      <th>25%</th>\n      <td>10.000000</td>\n      <td>11.000000</td>\n      <td>9.000000</td>\n      <td>6.000000</td>\n      <td>11.000000</td>\n      <td>6.000000</td>\n      <td>8.000000</td>\n      <td>1.000000</td>\n      <td>3.000000</td>\n      <td>5.000000</td>\n      <td>2.000000</td>\n      <td>11.000000</td>\n      <td>7.000000</td>\n      <td>3.000000</td>\n      <td>3.750000</td>\n      <td>6.750000</td>\n      <td>7.000000</td>\n      <td>5.000000</td>\n      <td>6.750000</td>\n      <td>0.000000</td>\n    </tr>\n    <tr>\n      <th>50%</th>\n      <td>10.000000</td>\n      <td>13.000000</td>\n      <td>11.000000</td>\n      <td>10.000000</td>\n      <td>15.000000</td>\n      <td>7.000000</td>\n      <td>9.000000</td>\n      <td>3.000000</td>\n      <td>7.000000</td>\n      <td>8.000000</td>\n      <td>4.000000</td>\n      <td>14.000000</td>\n      <td>11.000000</td>\n      <td>9.000000</td>\n      <td>6.500000</td>\n      <td>12.000000</td>\n      <td>12.000000</td>\n      <td>10.000000</td>\n      <td>11.000000</td>\n      <td>0.000000</td>\n    </tr>\n    <tr>\n      <th>75%</th>\n      <td>10.000000</td>\n      <td>15.000000</td>\n      <td>14.000000</td>\n      <td>10.000000</td>\n      <td>15.000000</td>\n      <td>8.000000</td>\n      <td>10.000000</td>\n      <td>5.000000</td>\n      <td>14.000000</td>\n      <td>13.000000</td>\n      <td>9.000000</td>\n      <td>15.000000</td>\n      <td>13.000000</td>\n      <td>11.250000</td>\n      <td>9.000000</td>\n      <td>14.250000</td>\n      <td>15.000000</td>\n      <td>13.000000</td>\n      <td>15.000000</td>\n      <td>1.000000</td>\n    </tr>\n    <tr>\n      <th>max</th>\n      <td>10.000000</td>\n      <td>15.000000</td>\n      <td>15.000000</td>\n      <td>10.000000</td>\n      <td>15.000000</td>\n      <td>10.000000</td>\n      <td>10.000000</td>\n      <td>5.000000</td>\n      <td>15.000000</td>\n      <td>15.000000</td>\n      <td>10.000000</td>\n      <td>15.000000</td>\n      <td>15.000000</td>\n      <td>15.000000</td>\n      <td>10.000000</td>\n      <td>15.000000</td>\n      <td>15.000000</td>\n      <td>15.000000</td>\n      <td>15.000000</td>\n      <td>1.000000</td>\n    </tr>\n  </tbody>\n</table>\n</div>"
          },
          "metadata": {}
        }
      ],
      "execution_count": 11,
      "metadata": {
        "collapsed": true,
        "jupyter": {
          "source_hidden": false,
          "outputs_hidden": false
        },
        "nteract": {
          "transient": {
            "deleting": false
          }
        },
        "gather": {
          "logged": 1617938156276
        }
      }
    },
    {
      "cell_type": "code",
      "source": [
        "dataset.take(5).to_pandas_dataframe()"
      ],
      "outputs": [
        {
          "output_type": "execute_result",
          "execution_count": 12,
          "data": {
            "text/plain": "   behavior_sexualRisk  behavior_eating  behavior_personalHygine  \\\n0                   10               13                       12   \n1                   10               11                       11   \n2                   10               15                        3   \n3                   10               11                       10   \n4                    8               11                        7   \n\n   intention_aggregation  intention_commitment  attitude_consistency  \\\n0                      4                     7                     9   \n1                     10                    14                     7   \n2                      2                    14                     8   \n3                     10                    15                     7   \n4                      8                    10                     7   \n\n   attitude_spontaneity  norm_significantPerson  norm_fulfillment  \\\n0                    10                       1                 8   \n1                     7                       5                 5   \n2                    10                       1                 4   \n3                     7                       1                 5   \n4                     8                       1                 5   \n\n   perception_vulnerability  perception_severity  motivation_strength  \\\n0                         7                    3                   14   \n1                         4                    2                   15   \n2                         7                    2                    7   \n3                         4                    2                   15   \n4                         3                    2                   15   \n\n   motivation_willingness  socialSupport_emotionality  \\\n0                       8                           5   \n1                      13                           7   \n2                       3                           3   \n3                      13                           7   \n4                       5                           3   \n\n   socialSupport_appreciation  socialSupport_instrumental  \\\n0                           7                          12   \n1                           6                           5   \n2                           6                          11   \n3                           4                           4   \n4                           6                          12   \n\n   empowerment_knowledge  empowerment_abilities  empowerment_desires  \\\n0                     12                     11                    8   \n1                      5                      4                    4   \n2                      3                      3                   15   \n3                      4                      4                    4   \n4                      5                      4                    7   \n\n   ca_cervix  \n0          1  \n1          1  \n2          1  \n3          1  \n4          1  ",
            "text/html": "<div>\n<style scoped>\n    .dataframe tbody tr th:only-of-type {\n        vertical-align: middle;\n    }\n\n    .dataframe tbody tr th {\n        vertical-align: top;\n    }\n\n    .dataframe thead th {\n        text-align: right;\n    }\n</style>\n<table border=\"1\" class=\"dataframe\">\n  <thead>\n    <tr style=\"text-align: right;\">\n      <th></th>\n      <th>behavior_sexualRisk</th>\n      <th>behavior_eating</th>\n      <th>behavior_personalHygine</th>\n      <th>intention_aggregation</th>\n      <th>intention_commitment</th>\n      <th>attitude_consistency</th>\n      <th>attitude_spontaneity</th>\n      <th>norm_significantPerson</th>\n      <th>norm_fulfillment</th>\n      <th>perception_vulnerability</th>\n      <th>perception_severity</th>\n      <th>motivation_strength</th>\n      <th>motivation_willingness</th>\n      <th>socialSupport_emotionality</th>\n      <th>socialSupport_appreciation</th>\n      <th>socialSupport_instrumental</th>\n      <th>empowerment_knowledge</th>\n      <th>empowerment_abilities</th>\n      <th>empowerment_desires</th>\n      <th>ca_cervix</th>\n    </tr>\n  </thead>\n  <tbody>\n    <tr>\n      <th>0</th>\n      <td>10</td>\n      <td>13</td>\n      <td>12</td>\n      <td>4</td>\n      <td>7</td>\n      <td>9</td>\n      <td>10</td>\n      <td>1</td>\n      <td>8</td>\n      <td>7</td>\n      <td>3</td>\n      <td>14</td>\n      <td>8</td>\n      <td>5</td>\n      <td>7</td>\n      <td>12</td>\n      <td>12</td>\n      <td>11</td>\n      <td>8</td>\n      <td>1</td>\n    </tr>\n    <tr>\n      <th>1</th>\n      <td>10</td>\n      <td>11</td>\n      <td>11</td>\n      <td>10</td>\n      <td>14</td>\n      <td>7</td>\n      <td>7</td>\n      <td>5</td>\n      <td>5</td>\n      <td>4</td>\n      <td>2</td>\n      <td>15</td>\n      <td>13</td>\n      <td>7</td>\n      <td>6</td>\n      <td>5</td>\n      <td>5</td>\n      <td>4</td>\n      <td>4</td>\n      <td>1</td>\n    </tr>\n    <tr>\n      <th>2</th>\n      <td>10</td>\n      <td>15</td>\n      <td>3</td>\n      <td>2</td>\n      <td>14</td>\n      <td>8</td>\n      <td>10</td>\n      <td>1</td>\n      <td>4</td>\n      <td>7</td>\n      <td>2</td>\n      <td>7</td>\n      <td>3</td>\n      <td>3</td>\n      <td>6</td>\n      <td>11</td>\n      <td>3</td>\n      <td>3</td>\n      <td>15</td>\n      <td>1</td>\n    </tr>\n    <tr>\n      <th>3</th>\n      <td>10</td>\n      <td>11</td>\n      <td>10</td>\n      <td>10</td>\n      <td>15</td>\n      <td>7</td>\n      <td>7</td>\n      <td>1</td>\n      <td>5</td>\n      <td>4</td>\n      <td>2</td>\n      <td>15</td>\n      <td>13</td>\n      <td>7</td>\n      <td>4</td>\n      <td>4</td>\n      <td>4</td>\n      <td>4</td>\n      <td>4</td>\n      <td>1</td>\n    </tr>\n    <tr>\n      <th>4</th>\n      <td>8</td>\n      <td>11</td>\n      <td>7</td>\n      <td>8</td>\n      <td>10</td>\n      <td>7</td>\n      <td>8</td>\n      <td>1</td>\n      <td>5</td>\n      <td>3</td>\n      <td>2</td>\n      <td>15</td>\n      <td>5</td>\n      <td>3</td>\n      <td>6</td>\n      <td>12</td>\n      <td>5</td>\n      <td>4</td>\n      <td>7</td>\n      <td>1</td>\n    </tr>\n  </tbody>\n</table>\n</div>"
          },
          "metadata": {}
        }
      ],
      "execution_count": 12,
      "metadata": {
        "collapsed": true,
        "jupyter": {
          "source_hidden": false,
          "outputs_hidden": false
        },
        "nteract": {
          "transient": {
            "deleting": false
          }
        },
        "gather": {
          "logged": 1617938165687
        }
      }
    },
    {
      "cell_type": "markdown",
      "source": [
        "## AutoML Configuration\n",
        "\n",
        "TODO: Explain why you chose the automl settings and cofiguration you used below."
      ],
      "metadata": {}
    },
    {
      "cell_type": "code",
      "source": [
        "from azureml.train.automl import AutoMLConfig\r\n",
        "# TODO: Put your automl settings here\r\n",
        "automl_settings = {\r\n",
        "    \"experiment_timeout_minutes\": 20,\r\n",
        "    \"max_concurrent_iterations\": 4,\r\n",
        "    \"primary_metric\" : 'accuracy'\r\n",
        "}\r\n",
        "\r\n",
        "# TODO: Put your automl config here\r\n",
        "automl_config = AutoMLConfig(\r\n",
        "        task='classification',\r\n",
        "        training_data=dataset,\r\n",
        "        label_column_name='ca_cervix',\r\n",
        "        n_cross_validations=5,\r\n",
        "        **automl_settings\r\n",
        "        )"
      ],
      "outputs": [],
      "execution_count": 13,
      "metadata": {
        "collapsed": true,
        "jupyter": {
          "source_hidden": false,
          "outputs_hidden": false
        },
        "nteract": {
          "transient": {
            "deleting": false
          }
        },
        "gather": {
          "logged": 1617938206720
        }
      }
    },
    {
      "cell_type": "code",
      "source": [
        "# TODO: Submit your experiment\n",
        "remote_run = experiment.submit(automl_config, show_output=True)"
      ],
      "outputs": [
        {
          "output_type": "stream",
          "name": "stdout",
          "text": [
            "No run_configuration provided, running on local with default configuration\n",
            "Running on local machine\n",
            "Parent Run ID: AutoML_08564e6b-b5ae-43f2-8279-72b59211afff\n",
            "\n",
            "Current status: DatasetEvaluation. Gathering dataset statistics.\n",
            "Current status: FeaturesGeneration. Generating features for the dataset.\n",
            "Current status: DatasetFeaturization. Beginning to fit featurizers and featurize the dataset.\n",
            "Current status: DatasetFeaturizationCompleted. Completed fit featurizers and featurizing the dataset.\n",
            "Current status: DatasetCrossValidationSplit. Generating individually featurized CV splits.\n",
            "\n",
            "****************************************************************************************************\n",
            "DATA GUARDRAILS: \n",
            "\n",
            "TYPE:         Class balancing detection\n",
            "STATUS:       PASSED\n",
            "DESCRIPTION:  Your inputs were analyzed, and all classes are balanced in your training data.\n",
            "              Learn more about imbalanced data: https://aka.ms/AutomatedMLImbalancedData\n",
            "\n",
            "****************************************************************************************************\n",
            "\n",
            "TYPE:         Missing feature values imputation\n",
            "STATUS:       PASSED\n",
            "DESCRIPTION:  No feature missing values were detected in the training data.\n",
            "              Learn more about missing value imputation: https://aka.ms/AutomatedMLFeaturization\n",
            "\n",
            "****************************************************************************************************\n",
            "\n",
            "TYPE:         High cardinality feature detection\n",
            "STATUS:       PASSED\n",
            "DESCRIPTION:  Your inputs were analyzed, and no high cardinality features were detected.\n",
            "              Learn more about high cardinality feature handling: https://aka.ms/AutomatedMLFeaturization\n",
            "\n",
            "****************************************************************************************************\n",
            "Current status: ModelSelection. Beginning model selection.\n",
            "\n",
            "****************************************************************************************************\n",
            "ITERATION: The iteration being evaluated.\n",
            "PIPELINE: A summary description of the pipeline being evaluated.\n",
            "DURATION: Time taken for the current iteration.\n",
            "METRIC: The result of computing score on the fitted pipeline.\n",
            "BEST: The best observed score thus far.\n",
            "****************************************************************************************************\n",
            "\n",
            " ITERATION   PIPELINE                                       DURATION      METRIC      BEST\n",
            "         0   MaxAbsScaler LightGBM                          0:00:26       0.8086    0.8086\n",
            "         1                                                  0:00:08          nan    0.8086\n",
            "ERROR: FitException:\n",
            "\tMessage: /anaconda/envs/azureml_py36/lib/libxgboost.so: undefined symbol: XGDMatrixSetDenseInfo\n",
            "\tInnerException: AttributeError: /anaconda/envs/azureml_py36/lib/libxgboost.so: undefined symbol: XGDMatrixSetDenseInfo\n",
            "\tErrorResponse \n",
            "{\n",
            "    \"error\": {\n",
            "        \"code\": \"SystemError\",\n",
            "        \"message\": \"Encountered an internal AutoML error. Error Message/Code: FitException. Additional Info: FitException:\\n\\tMessage: /anaconda/envs/azureml_py36/lib/libxgboost.so: undefined symbol: XGDMatrixSetDenseInfo\\n\\tInnerException: None\\n\\tErrorResponse \\n{\\n    \\\"error\\\": {\\n        \\\"message\\\": \\\"/anaconda/envs/azureml_py36/lib/libxgboost.so: undefined symbol: XGDMatrixSetDenseInfo\\\",\\n        \\\"target\\\": \\\"Xgboost\\\",\\n        \\\"reference_code\\\": \\\"Xgboost\\\"\\n    }\\n}\",\n",
            "        \"details_uri\": \"https://docs.microsoft.com/azure/machine-learning/resource-known-issues#automated-machine-learning\",\n",
            "        \"target\": \"Xgboost\",\n",
            "        \"inner_error\": {\n",
            "            \"code\": \"ClientError\",\n",
            "            \"inner_error\": {\n",
            "                \"code\": \"AutoMLInternal\"\n",
            "            }\n",
            "        },\n",
            "        \"reference_code\": \"Xgboost\"\n",
            "    }\n",
            "}\n",
            "         2   MinMaxScaler RandomForest                      0:00:31       0.8343    0.8343\n",
            "         3   MinMaxScaler RandomForest                      0:00:25       0.8629    0.8629\n",
            "         4   MinMaxScaler RandomForest                      0:00:25       0.8619    0.8629\n",
            "         5   MinMaxScaler SVM                               0:00:30       0.8486    0.8629\n",
            "         6   MaxAbsScaler GradientBoosting                  0:00:25       0.8352    0.8629\n",
            "         7   StandardScalerWrapper RandomForest             0:00:24       0.8629    0.8629\n",
            "         8                                                  0:00:11          nan    0.8629\n",
            "ERROR: FitException:\n",
            "\tMessage: /anaconda/envs/azureml_py36/lib/libxgboost.so: undefined symbol: XGDMatrixSetDenseInfo\n",
            "\tInnerException: AttributeError: /anaconda/envs/azureml_py36/lib/libxgboost.so: undefined symbol: XGDMatrixSetDenseInfo\n",
            "\tErrorResponse \n",
            "{\n",
            "    \"error\": {\n",
            "        \"code\": \"SystemError\",\n",
            "        \"message\": \"Encountered an internal AutoML error. Error Message/Code: FitException. Additional Info: FitException:\\n\\tMessage: /anaconda/envs/azureml_py36/lib/libxgboost.so: undefined symbol: XGDMatrixSetDenseInfo\\n\\tInnerException: None\\n\\tErrorResponse \\n{\\n    \\\"error\\\": {\\n        \\\"message\\\": \\\"/anaconda/envs/azureml_py36/lib/libxgboost.so: undefined symbol: XGDMatrixSetDenseInfo\\\",\\n        \\\"target\\\": \\\"Xgboost\\\",\\n        \\\"reference_code\\\": \\\"Xgboost\\\"\\n    }\\n}\",\n",
            "        \"details_uri\": \"https://docs.microsoft.com/azure/machine-learning/resource-known-issues#automated-machine-learning\",\n",
            "        \"target\": \"Xgboost\",\n",
            "        \"inner_error\": {\n",
            "            \"code\": \"ClientError\",\n",
            "            \"inner_error\": {\n",
            "                \"code\": \"AutoMLInternal\"\n",
            "            }\n",
            "        },\n",
            "        \"reference_code\": \"Xgboost\"\n",
            "    }\n",
            "}\n",
            "         9   MaxAbsScaler SVM                               0:00:35       0.8762    0.8762\n",
            "        10   MaxAbsScaler LightGBM                          0:00:26       0.8086    0.8762\n",
            "        11   RobustScaler ExtremeRandomTrees                0:00:28       0.8914    0.8914\n",
            "        12   MaxAbsScaler GradientBoosting                  0:00:24       0.8219    0.8914\n",
            "        13                                                  0:00:07          nan    0.8914\n",
            "ERROR: FitException:\n",
            "\tMessage: /anaconda/envs/azureml_py36/lib/libxgboost.so: undefined symbol: XGDMatrixSetDenseInfo\n",
            "\tInnerException: AttributeError: /anaconda/envs/azureml_py36/lib/libxgboost.so: undefined symbol: XGDMatrixSetDenseInfo\n",
            "\tErrorResponse \n",
            "{\n",
            "    \"error\": {\n",
            "        \"code\": \"SystemError\",\n",
            "        \"message\": \"Encountered an internal AutoML error. Error Message/Code: FitException. Additional Info: FitException:\\n\\tMessage: /anaconda/envs/azureml_py36/lib/libxgboost.so: undefined symbol: XGDMatrixSetDenseInfo\\n\\tInnerException: None\\n\\tErrorResponse \\n{\\n    \\\"error\\\": {\\n        \\\"message\\\": \\\"/anaconda/envs/azureml_py36/lib/libxgboost.so: undefined symbol: XGDMatrixSetDenseInfo\\\",\\n        \\\"target\\\": \\\"Xgboost\\\",\\n        \\\"reference_code\\\": \\\"Xgboost\\\"\\n    }\\n}\",\n",
            "        \"details_uri\": \"https://docs.microsoft.com/azure/machine-learning/resource-known-issues#automated-machine-learning\",\n",
            "        \"target\": \"Xgboost\",\n",
            "        \"inner_error\": {\n",
            "            \"code\": \"ClientError\",\n",
            "            \"inner_error\": {\n",
            "                \"code\": \"AutoMLInternal\"\n",
            "            }\n",
            "        },\n",
            "        \"reference_code\": \"Xgboost\"\n",
            "    }\n",
            "}\n",
            "        14   MinMaxScaler LightGBM                          0:00:24       0.8352    0.8914\n",
            "        15   RobustScaler KNN                               0:00:25       0.8638    0.8914\n",
            "        16   MaxAbsScaler LightGBM                          0:00:24       0.8067    0.8914\n",
            "        17   StandardScalerWrapper LightGBM                 0:00:24       0.7933    0.8914\n",
            "        18   MaxAbsScaler LightGBM                          0:00:29       0.7371    0.8914\n",
            "        19   RobustScaler ExtremeRandomTrees                0:00:29       0.8914    0.8914\n",
            "        20   MaxAbsScaler LightGBM                          0:00:30       0.8210    0.8914\n",
            "        21   MinMaxScaler LightGBM                          0:00:30       0.8648    0.8914\n",
            "        22   MinMaxScaler LightGBM                          0:00:29       0.8352    0.8914\n",
            "        23   MaxAbsScaler LightGBM                          0:00:24       0.7933    0.8914\n",
            "        24   MinMaxScaler LogisticRegression                0:00:25       0.9171    0.9171\n",
            "        25   TruncatedSVDWrapper LogisticRegression         0:00:23       0.8352    0.9171\n",
            "        26   MaxAbsScaler ExtremeRandomTrees                0:00:27       0.8495    0.9171\n",
            "        27   StandardScalerWrapper LogisticRegression       0:00:24       0.8619    0.9171\n",
            "        28   StandardScalerWrapper LogisticRegression       0:00:30       0.8619    0.9171\n",
            "        29   RobustScaler KNN                               0:00:25       0.8486    0.9171\n",
            "        30   StandardScalerWrapper LogisticRegression       0:00:26       0.8905    0.9171\n",
            "        31   SparseNormalizer GradientBoosting              0:00:24       0.8362    0.9171\n",
            "        32   MaxAbsScaler ExtremeRandomTrees                0:00:26       0.8210    0.9171\n",
            "        33   RobustScaler RandomForest                      0:00:32       0.8371    0.9171\n",
            "        34   StandardScalerWrapper LightGBM                 0:00:35       0.8352    0.9171\n",
            "        35   StandardScalerWrapper LogisticRegression       0:00:30       0.8333    0.9171\n",
            "        36   MinMaxScaler LightGBM                          0:00:25       0.8219    0.9171\n",
            "        37   SparseNormalizer LightGBM                      0:00:25       0.8086    0.9171\n",
            "        38   SparseNormalizer LightGBM                      0:00:30       0.7952    0.9171\n",
            "        39   RobustScaler KNN                               0:00:26       0.8495    0.9171\n",
            "        40   PCA LogisticRegression                         0:00:26       0.9048    0.9171\n",
            "        41   SparseNormalizer LightGBM                      0:00:25       0.8076    0.9171\n",
            "        42   StandardScalerWrapper LightGBM                 0:00:31       0.7800    0.9171\n",
            "        43   MinMaxScaler LightGBM                          0:00:24       0.8076    0.9171\n",
            "        44   VotingEnsemble                                 0:00:26       0.9181    0.9181\n",
            "        45   StackEnsemble                                  0:00:25       0.8914    0.9181\n",
            "Stopping criteria reached at iteration 46. Ending experiment.\n",
            "****************************************************************************************************\n",
            "Current status: BestRunExplainModel. Best run model explanations started\n",
            "Current status: ModelExplanationDataSetSetup. Model explanations data setup completed\n",
            "Current status: PickSurrogateModel. Choosing LightGBM as the surrogate model for explanations\n",
            "Current status: EngineeredFeatureExplanations. Computation of engineered features started\n",
            "Current status: EngineeredFeatureExplanations. Computation of engineered features completed\n",
            "Current status: RawFeaturesExplanations. Computation of raw features started\n",
            "Current status: RawFeaturesExplanations. Computation of raw features completed\n",
            "Current status: BestRunExplainModel. Best run model explanations completed\n",
            "****************************************************************************************************\n"
          ]
        }
      ],
      "execution_count": 14,
      "metadata": {
        "gather": {
          "logged": 1617939651872
        },
        "jupyter": {
          "outputs_hidden": false,
          "source_hidden": false
        },
        "nteract": {
          "transient": {
            "deleting": false
          }
        }
      }
    },
    {
      "cell_type": "markdown",
      "source": [
        "## Run Details\n",
        "\n",
        "OPTIONAL: Write about the different models trained and their performance. Why do you think some models did better than others?\n",
        "\n",
        "TODO: In the cell below, use the `RunDetails` widget to show the different experiments."
      ],
      "metadata": {}
    },
    {
      "cell_type": "code",
      "source": [
        "from azureml.widgets import RunDetails\r\n",
        "\r\n",
        "RunDetails(remote_run).show()\r\n",
        "#remote_run.wait_for_completion(show_output=True)"
      ],
      "outputs": [
        {
          "output_type": "display_data",
          "data": {
            "text/plain": "_AutoMLWidget(widget_settings={'childWidgetDisplay': 'popup', 'send_telemetry': False, 'log_level': 'INFO', 's…",
            "application/vnd.jupyter.widget-view+json": {
              "version_major": 2,
              "version_minor": 0,
              "model_id": "6ec9fca8a3024943aa6e292de0c47645"
            }
          },
          "metadata": {}
        },
        {
          "output_type": "display_data",
          "data": {
            "application/aml.mini.widget.v1": "{\"status\": \"Completed\", \"workbench_run_details_uri\": \"https://ml.azure.com/experiments/Cervical-Cancer-Predict/runs/AutoML_08564e6b-b5ae-43f2-8279-72b59211afff?wsid=/subscriptions/08429d2c-c480-438d-b360-41b472ce37a7/resourcegroups/ml/workspaces/udacity-projects\", \"run_id\": \"AutoML_08564e6b-b5ae-43f2-8279-72b59211afff\", \"run_properties\": {\"run_id\": \"AutoML_08564e6b-b5ae-43f2-8279-72b59211afff\", \"created_utc\": \"2021-04-09T03:17:27.128563Z\", \"properties\": {\"num_iterations\": \"1000\", \"training_type\": \"TrainFull\", \"acquisition_function\": \"EI\", \"primary_metric\": \"accuracy\", \"train_split\": \"0\", \"acquisition_parameter\": \"0\", \"num_cross_validation\": \"5\", \"target\": \"local\", \"AMLSettingsJsonString\": \"{\\\"path\\\":null,\\\"name\\\":\\\"Cervical-Cancer-Predict\\\",\\\"subscription_id\\\":\\\"08429d2c-c480-438d-b360-41b472ce37a7\\\",\\\"resource_group\\\":\\\"ml\\\",\\\"workspace_name\\\":\\\"udacity-projects\\\",\\\"region\\\":\\\"eastus2\\\",\\\"compute_target\\\":\\\"local\\\",\\\"spark_service\\\":null,\\\"azure_service\\\":\\\"Microsoft.AzureNotebookVM\\\",\\\"many_models\\\":false,\\\"pipeline_fetch_max_batch_size\\\":1,\\\"iterations\\\":1000,\\\"primary_metric\\\":\\\"accuracy\\\",\\\"task_type\\\":\\\"classification\\\",\\\"data_script\\\":null,\\\"validation_size\\\":0.0,\\\"n_cross_validations\\\":5,\\\"y_min\\\":null,\\\"y_max\\\":null,\\\"num_classes\\\":2,\\\"featurization\\\":\\\"auto\\\",\\\"_ignore_package_version_incompatibilities\\\":false,\\\"is_timeseries\\\":false,\\\"max_cores_per_iteration\\\":1,\\\"max_concurrent_iterations\\\":4,\\\"iteration_timeout_minutes\\\":null,\\\"mem_in_mb\\\":null,\\\"enforce_time_on_windows\\\":false,\\\"experiment_timeout_minutes\\\":20,\\\"experiment_exit_score\\\":null,\\\"whitelist_models\\\":null,\\\"blacklist_algos\\\":[\\\"TensorFlowLinearClassifier\\\",\\\"TensorFlowDNN\\\"],\\\"supported_models\\\":[\\\"LinearSVM\\\",\\\"LogisticRegression\\\",\\\"RandomForest\\\",\\\"MultinomialNaiveBayes\\\",\\\"GradientBoosting\\\",\\\"TensorFlowDNN\\\",\\\"LightGBM\\\",\\\"KNN\\\",\\\"AveragedPerceptronClassifier\\\",\\\"TensorFlowLinearClassifier\\\",\\\"ExtremeRandomTrees\\\",\\\"BernoulliNaiveBayes\\\",\\\"SGD\\\",\\\"DecisionTree\\\",\\\"XGBoostClassifier\\\",\\\"SVM\\\"],\\\"private_models\\\":[],\\\"auto_blacklist\\\":true,\\\"blacklist_samples_reached\\\":false,\\\"exclude_nan_labels\\\":true,\\\"verbosity\\\":20,\\\"_debug_log\\\":\\\"automl.log\\\",\\\"show_warnings\\\":false,\\\"model_explainability\\\":true,\\\"service_url\\\":null,\\\"sdk_url\\\":null,\\\"sdk_packages\\\":null,\\\"enable_onnx_compatible_models\\\":false,\\\"enable_split_onnx_featurizer_estimator_models\\\":false,\\\"vm_type\\\":null,\\\"telemetry_verbosity\\\":20,\\\"send_telemetry\\\":true,\\\"enable_dnn\\\":false,\\\"scenario\\\":\\\"SDK-1.13.0\\\",\\\"environment_label\\\":null,\\\"force_text_dnn\\\":false,\\\"enable_feature_sweeping\\\":true,\\\"enable_early_stopping\\\":false,\\\"early_stopping_n_iters\\\":10,\\\"metrics\\\":null,\\\"enable_ensembling\\\":true,\\\"enable_stack_ensembling\\\":true,\\\"ensemble_iterations\\\":15,\\\"enable_tf\\\":false,\\\"enable_subsampling\\\":null,\\\"subsample_seed\\\":null,\\\"enable_nimbusml\\\":false,\\\"enable_streaming\\\":false,\\\"force_streaming\\\":false,\\\"track_child_runs\\\":true,\\\"allowed_private_models\\\":[],\\\"label_column_name\\\":\\\"ca_cervix\\\",\\\"weight_column_name\\\":null,\\\"cv_split_column_names\\\":null,\\\"enable_local_managed\\\":false,\\\"_local_managed_run_id\\\":null,\\\"cost_mode\\\":1,\\\"lag_length\\\":0,\\\"metric_operation\\\":\\\"maximize\\\",\\\"preprocess\\\":true}\", \"DataPrepJsonString\": \"{\\\\\\\"training_data\\\\\\\": \\\\\\\"{\\\\\\\\\\\\\\\"blocks\\\\\\\\\\\\\\\": [{\\\\\\\\\\\\\\\"id\\\\\\\\\\\\\\\": \\\\\\\\\\\\\\\"eeb62ed7-9ca4-46be-a0f0-f31cc47f3a43\\\\\\\\\\\\\\\", \\\\\\\\\\\\\\\"type\\\\\\\\\\\\\\\": \\\\\\\\\\\\\\\"Microsoft.DPrep.GetFilesBlock\\\\\\\\\\\\\\\", \\\\\\\\\\\\\\\"arguments\\\\\\\\\\\\\\\": {\\\\\\\\\\\\\\\"isArchive\\\\\\\\\\\\\\\": false, \\\\\\\\\\\\\\\"path\\\\\\\\\\\\\\\": {\\\\\\\\\\\\\\\"target\\\\\\\\\\\\\\\": 4, \\\\\\\\\\\\\\\"resourceDetails\\\\\\\\\\\\\\\": [{\\\\\\\\\\\\\\\"path\\\\\\\\\\\\\\\": \\\\\\\\\\\\\\\"https://archive.ics.uci.edu/ml/machine-learning-databases/00537/sobar-72.csv\\\\\\\\\\\\\\\"}]}}, \\\\\\\\\\\\\\\"localData\\\\\\\\\\\\\\\": {}, \\\\\\\\\\\\\\\"isEnabled\\\\\\\\\\\\\\\": true, \\\\\\\\\\\\\\\"name\\\\\\\\\\\\\\\": null, \\\\\\\\\\\\\\\"annotation\\\\\\\\\\\\\\\": null}, {\\\\\\\\\\\\\\\"id\\\\\\\\\\\\\\\": \\\\\\\\\\\\\\\"3c5d6987-8ea6-453b-a9bf-fddcad763fd8\\\\\\\\\\\\\\\", \\\\\\\\\\\\\\\"type\\\\\\\\\\\\\\\": \\\\\\\\\\\\\\\"Microsoft.DPrep.ParseDelimitedBlock\\\\\\\\\\\\\\\", \\\\\\\\\\\\\\\"arguments\\\\\\\\\\\\\\\": {\\\\\\\\\\\\\\\"columnHeadersMode\\\\\\\\\\\\\\\": 3, \\\\\\\\\\\\\\\"fileEncoding\\\\\\\\\\\\\\\": 0, \\\\\\\\\\\\\\\"handleQuotedLineBreaks\\\\\\\\\\\\\\\": false, \\\\\\\\\\\\\\\"preview\\\\\\\\\\\\\\\": false, \\\\\\\\\\\\\\\"separator\\\\\\\\\\\\\\\": \\\\\\\\\\\\\\\",\\\\\\\\\\\\\\\", \\\\\\\\\\\\\\\"skipRows\\\\\\\\\\\\\\\": 0, \\\\\\\\\\\\\\\"skipRowsMode\\\\\\\\\\\\\\\": 0}, \\\\\\\\\\\\\\\"localData\\\\\\\\\\\\\\\": {}, \\\\\\\\\\\\\\\"isEnabled\\\\\\\\\\\\\\\": true, \\\\\\\\\\\\\\\"name\\\\\\\\\\\\\\\": null, \\\\\\\\\\\\\\\"annotation\\\\\\\\\\\\\\\": null}, {\\\\\\\\\\\\\\\"id\\\\\\\\\\\\\\\": \\\\\\\\\\\\\\\"fa956842-225b-442f-a7e8-03efa3b4f84f\\\\\\\\\\\\\\\", \\\\\\\\\\\\\\\"type\\\\\\\\\\\\\\\": \\\\\\\\\\\\\\\"Microsoft.DPrep.DropColumnsBlock\\\\\\\\\\\\\\\", \\\\\\\\\\\\\\\"arguments\\\\\\\\\\\\\\\": {\\\\\\\\\\\\\\\"columns\\\\\\\\\\\\\\\": {\\\\\\\\\\\\\\\"type\\\\\\\\\\\\\\\": 0, \\\\\\\\\\\\\\\"details\\\\\\\\\\\\\\\": {\\\\\\\\\\\\\\\"selectedColumns\\\\\\\\\\\\\\\": [\\\\\\\\\\\\\\\"Path\\\\\\\\\\\\\\\"]}}}, \\\\\\\\\\\\\\\"localData\\\\\\\\\\\\\\\": {}, \\\\\\\\\\\\\\\"isEnabled\\\\\\\\\\\\\\\": true, \\\\\\\\\\\\\\\"name\\\\\\\\\\\\\\\": null, \\\\\\\\\\\\\\\"annotation\\\\\\\\\\\\\\\": null}, {\\\\\\\\\\\\\\\"id\\\\\\\\\\\\\\\": \\\\\\\\\\\\\\\"4a3f03b4-51ad-4edc-9943-87507859994e\\\\\\\\\\\\\\\", \\\\\\\\\\\\\\\"type\\\\\\\\\\\\\\\": \\\\\\\\\\\\\\\"Microsoft.DPrep.SetColumnTypesBlock\\\\\\\\\\\\\\\", \\\\\\\\\\\\\\\"arguments\\\\\\\\\\\\\\\": {\\\\\\\\\\\\\\\"columnConversion\\\\\\\\\\\\\\\": [{\\\\\\\\\\\\\\\"column\\\\\\\\\\\\\\\": {\\\\\\\\\\\\\\\"type\\\\\\\\\\\\\\\": 2, \\\\\\\\\\\\\\\"details\\\\\\\\\\\\\\\": {\\\\\\\\\\\\\\\"selectedColumn\\\\\\\\\\\\\\\": \\\\\\\\\\\\\\\"behavior_sexualRisk\\\\\\\\\\\\\\\"}}, \\\\\\\\\\\\\\\"typeProperty\\\\\\\\\\\\\\\": 2}, {\\\\\\\\\\\\\\\"column\\\\\\\\\\\\\\\": {\\\\\\\\\\\\\\\"type\\\\\\\\\\\\\\\": 2, \\\\\\\\\\\\\\\"details\\\\\\\\\\\\\\\": {\\\\\\\\\\\\\\\"selectedColumn\\\\\\\\\\\\\\\": \\\\\\\\\\\\\\\"behavior_eating\\\\\\\\\\\\\\\"}}, \\\\\\\\\\\\\\\"typeProperty\\\\\\\\\\\\\\\": 2}, {\\\\\\\\\\\\\\\"column\\\\\\\\\\\\\\\": {\\\\\\\\\\\\\\\"type\\\\\\\\\\\\\\\": 2, \\\\\\\\\\\\\\\"details\\\\\\\\\\\\\\\": {\\\\\\\\\\\\\\\"selectedColumn\\\\\\\\\\\\\\\": \\\\\\\\\\\\\\\"behavior_personalHygine\\\\\\\\\\\\\\\"}}, \\\\\\\\\\\\\\\"typeProperty\\\\\\\\\\\\\\\": 2}, {\\\\\\\\\\\\\\\"column\\\\\\\\\\\\\\\": {\\\\\\\\\\\\\\\"type\\\\\\\\\\\\\\\": 2, \\\\\\\\\\\\\\\"details\\\\\\\\\\\\\\\": {\\\\\\\\\\\\\\\"selectedColumn\\\\\\\\\\\\\\\": \\\\\\\\\\\\\\\"intention_aggregation\\\\\\\\\\\\\\\"}}, \\\\\\\\\\\\\\\"typeProperty\\\\\\\\\\\\\\\": 2}, {\\\\\\\\\\\\\\\"column\\\\\\\\\\\\\\\": {\\\\\\\\\\\\\\\"type\\\\\\\\\\\\\\\": 2, \\\\\\\\\\\\\\\"details\\\\\\\\\\\\\\\": {\\\\\\\\\\\\\\\"selectedColumn\\\\\\\\\\\\\\\": \\\\\\\\\\\\\\\"intention_commitment\\\\\\\\\\\\\\\"}}, \\\\\\\\\\\\\\\"typeProperty\\\\\\\\\\\\\\\": 2}, {\\\\\\\\\\\\\\\"column\\\\\\\\\\\\\\\": {\\\\\\\\\\\\\\\"type\\\\\\\\\\\\\\\": 2, \\\\\\\\\\\\\\\"details\\\\\\\\\\\\\\\": {\\\\\\\\\\\\\\\"selectedColumn\\\\\\\\\\\\\\\": \\\\\\\\\\\\\\\"attitude_consistency\\\\\\\\\\\\\\\"}}, \\\\\\\\\\\\\\\"typeProperty\\\\\\\\\\\\\\\": 2}, {\\\\\\\\\\\\\\\"column\\\\\\\\\\\\\\\": {\\\\\\\\\\\\\\\"type\\\\\\\\\\\\\\\": 2, \\\\\\\\\\\\\\\"details\\\\\\\\\\\\\\\": {\\\\\\\\\\\\\\\"selectedColumn\\\\\\\\\\\\\\\": \\\\\\\\\\\\\\\"attitude_spontaneity\\\\\\\\\\\\\\\"}}, \\\\\\\\\\\\\\\"typeProperty\\\\\\\\\\\\\\\": 2}, {\\\\\\\\\\\\\\\"column\\\\\\\\\\\\\\\": {\\\\\\\\\\\\\\\"type\\\\\\\\\\\\\\\": 2, \\\\\\\\\\\\\\\"details\\\\\\\\\\\\\\\": {\\\\\\\\\\\\\\\"selectedColumn\\\\\\\\\\\\\\\": \\\\\\\\\\\\\\\"norm_significantPerson\\\\\\\\\\\\\\\"}}, \\\\\\\\\\\\\\\"typeProperty\\\\\\\\\\\\\\\": 2}, {\\\\\\\\\\\\\\\"column\\\\\\\\\\\\\\\": {\\\\\\\\\\\\\\\"type\\\\\\\\\\\\\\\": 2, \\\\\\\\\\\\\\\"details\\\\\\\\\\\\\\\": {\\\\\\\\\\\\\\\"selectedColumn\\\\\\\\\\\\\\\": \\\\\\\\\\\\\\\"norm_fulfillment\\\\\\\\\\\\\\\"}}, \\\\\\\\\\\\\\\"typeProperty\\\\\\\\\\\\\\\": 2}, {\\\\\\\\\\\\\\\"column\\\\\\\\\\\\\\\": {\\\\\\\\\\\\\\\"type\\\\\\\\\\\\\\\": 2, \\\\\\\\\\\\\\\"details\\\\\\\\\\\\\\\": {\\\\\\\\\\\\\\\"selectedColumn\\\\\\\\\\\\\\\": \\\\\\\\\\\\\\\"perception_vulnerability\\\\\\\\\\\\\\\"}}, \\\\\\\\\\\\\\\"typeProperty\\\\\\\\\\\\\\\": 2}, {\\\\\\\\\\\\\\\"column\\\\\\\\\\\\\\\": {\\\\\\\\\\\\\\\"type\\\\\\\\\\\\\\\": 2, \\\\\\\\\\\\\\\"details\\\\\\\\\\\\\\\": {\\\\\\\\\\\\\\\"selectedColumn\\\\\\\\\\\\\\\": \\\\\\\\\\\\\\\"perception_severity\\\\\\\\\\\\\\\"}}, \\\\\\\\\\\\\\\"typeProperty\\\\\\\\\\\\\\\": 2}, {\\\\\\\\\\\\\\\"column\\\\\\\\\\\\\\\": {\\\\\\\\\\\\\\\"type\\\\\\\\\\\\\\\": 2, \\\\\\\\\\\\\\\"details\\\\\\\\\\\\\\\": {\\\\\\\\\\\\\\\"selectedColumn\\\\\\\\\\\\\\\": \\\\\\\\\\\\\\\"motivation_strength\\\\\\\\\\\\\\\"}}, \\\\\\\\\\\\\\\"typeProperty\\\\\\\\\\\\\\\": 2}, {\\\\\\\\\\\\\\\"column\\\\\\\\\\\\\\\": {\\\\\\\\\\\\\\\"type\\\\\\\\\\\\\\\": 2, \\\\\\\\\\\\\\\"details\\\\\\\\\\\\\\\": {\\\\\\\\\\\\\\\"selectedColumn\\\\\\\\\\\\\\\": \\\\\\\\\\\\\\\"motivation_willingness\\\\\\\\\\\\\\\"}}, \\\\\\\\\\\\\\\"typeProperty\\\\\\\\\\\\\\\": 2}, {\\\\\\\\\\\\\\\"column\\\\\\\\\\\\\\\": {\\\\\\\\\\\\\\\"type\\\\\\\\\\\\\\\": 2, \\\\\\\\\\\\\\\"details\\\\\\\\\\\\\\\": {\\\\\\\\\\\\\\\"selectedColumn\\\\\\\\\\\\\\\": \\\\\\\\\\\\\\\"socialSupport_emotionality\\\\\\\\\\\\\\\"}}, \\\\\\\\\\\\\\\"typeProperty\\\\\\\\\\\\\\\": 2}, {\\\\\\\\\\\\\\\"column\\\\\\\\\\\\\\\": {\\\\\\\\\\\\\\\"type\\\\\\\\\\\\\\\": 2, \\\\\\\\\\\\\\\"details\\\\\\\\\\\\\\\": {\\\\\\\\\\\\\\\"selectedColumn\\\\\\\\\\\\\\\": \\\\\\\\\\\\\\\"socialSupport_appreciation\\\\\\\\\\\\\\\"}}, \\\\\\\\\\\\\\\"typeProperty\\\\\\\\\\\\\\\": 2}, {\\\\\\\\\\\\\\\"column\\\\\\\\\\\\\\\": {\\\\\\\\\\\\\\\"type\\\\\\\\\\\\\\\": 2, \\\\\\\\\\\\\\\"details\\\\\\\\\\\\\\\": {\\\\\\\\\\\\\\\"selectedColumn\\\\\\\\\\\\\\\": \\\\\\\\\\\\\\\"socialSupport_instrumental\\\\\\\\\\\\\\\"}}, \\\\\\\\\\\\\\\"typeProperty\\\\\\\\\\\\\\\": 2}, {\\\\\\\\\\\\\\\"column\\\\\\\\\\\\\\\": {\\\\\\\\\\\\\\\"type\\\\\\\\\\\\\\\": 2, \\\\\\\\\\\\\\\"details\\\\\\\\\\\\\\\": {\\\\\\\\\\\\\\\"selectedColumn\\\\\\\\\\\\\\\": \\\\\\\\\\\\\\\"empowerment_knowledge\\\\\\\\\\\\\\\"}}, \\\\\\\\\\\\\\\"typeProperty\\\\\\\\\\\\\\\": 2}, {\\\\\\\\\\\\\\\"column\\\\\\\\\\\\\\\": {\\\\\\\\\\\\\\\"type\\\\\\\\\\\\\\\": 2, \\\\\\\\\\\\\\\"details\\\\\\\\\\\\\\\": {\\\\\\\\\\\\\\\"selectedColumn\\\\\\\\\\\\\\\": \\\\\\\\\\\\\\\"empowerment_abilities\\\\\\\\\\\\\\\"}}, \\\\\\\\\\\\\\\"typeProperty\\\\\\\\\\\\\\\": 2}, {\\\\\\\\\\\\\\\"column\\\\\\\\\\\\\\\": {\\\\\\\\\\\\\\\"type\\\\\\\\\\\\\\\": 2, \\\\\\\\\\\\\\\"details\\\\\\\\\\\\\\\": {\\\\\\\\\\\\\\\"selectedColumn\\\\\\\\\\\\\\\": \\\\\\\\\\\\\\\"empowerment_desires\\\\\\\\\\\\\\\"}}, \\\\\\\\\\\\\\\"typeProperty\\\\\\\\\\\\\\\": 2}, {\\\\\\\\\\\\\\\"column\\\\\\\\\\\\\\\": {\\\\\\\\\\\\\\\"type\\\\\\\\\\\\\\\": 2, \\\\\\\\\\\\\\\"details\\\\\\\\\\\\\\\": {\\\\\\\\\\\\\\\"selectedColumn\\\\\\\\\\\\\\\": \\\\\\\\\\\\\\\"ca_cervix\\\\\\\\\\\\\\\"}}, \\\\\\\\\\\\\\\"typeProperty\\\\\\\\\\\\\\\": 2}]}, \\\\\\\\\\\\\\\"localData\\\\\\\\\\\\\\\": {}, \\\\\\\\\\\\\\\"isEnabled\\\\\\\\\\\\\\\": true, \\\\\\\\\\\\\\\"name\\\\\\\\\\\\\\\": null, \\\\\\\\\\\\\\\"annotation\\\\\\\\\\\\\\\": null}], \\\\\\\\\\\\\\\"inspectors\\\\\\\\\\\\\\\": [], \\\\\\\\\\\\\\\"meta\\\\\\\\\\\\\\\": {\\\\\\\\\\\\\\\"savedDatasetId\\\\\\\\\\\\\\\": \\\\\\\\\\\\\\\"a6906971-7286-4e1c-95f3-0d5a82b7f47f\\\\\\\\\\\\\\\", \\\\\\\\\\\\\\\"datasetType\\\\\\\\\\\\\\\": \\\\\\\\\\\\\\\"tabular\\\\\\\\\\\\\\\", \\\\\\\\\\\\\\\"subscriptionId\\\\\\\\\\\\\\\": \\\\\\\\\\\\\\\"08429d2c-c480-438d-b360-41b472ce37a7\\\\\\\\\\\\\\\", \\\\\\\\\\\\\\\"workspaceId\\\\\\\\\\\\\\\": \\\\\\\\\\\\\\\"38b126bf-a42e-4035-ae7d-881f98c36309\\\\\\\\\\\\\\\", \\\\\\\\\\\\\\\"workspaceLocation\\\\\\\\\\\\\\\": \\\\\\\\\\\\\\\"eastus2\\\\\\\\\\\\\\\"}}\\\\\\\", \\\\\\\"activities\\\\\\\": 0}\", \"EnableSubsampling\": null, \"runTemplate\": \"AutoML\", \"azureml.runsource\": \"automl\", \"display_task_type\": \"classification\", \"dependencies_versions\": \"{\\\"azureml-widgets\\\": \\\"1.22.0\\\", \\\"azureml-train\\\": \\\"1.22.0\\\", \\\"azureml-train-restclients-hyperdrive\\\": \\\"1.22.0\\\", \\\"azureml-train-core\\\": \\\"1.22.0\\\", \\\"azureml-train-automl\\\": \\\"1.22.0\\\", \\\"azureml-train-automl-runtime\\\": \\\"1.22.0\\\", \\\"azureml-train-automl-client\\\": \\\"1.22.0\\\", \\\"azureml-tensorboard\\\": \\\"1.22.0\\\", \\\"azureml-telemetry\\\": \\\"1.22.0\\\", \\\"azureml-sdk\\\": \\\"1.22.0\\\", \\\"azureml-samples\\\": \\\"0+unknown\\\", \\\"azureml-pipeline\\\": \\\"1.22.0\\\", \\\"azureml-pipeline-steps\\\": \\\"1.22.0\\\", \\\"azureml-pipeline-core\\\": \\\"1.22.0\\\", \\\"azureml-opendatasets\\\": \\\"1.22.0\\\", \\\"azureml-model-management-sdk\\\": \\\"1.0.1b6.post1\\\", \\\"azureml-mlflow\\\": \\\"1.22.0\\\", \\\"azureml-interpret\\\": \\\"1.22.0\\\", \\\"azureml-explain-model\\\": \\\"1.22.0\\\", \\\"azureml-defaults\\\": \\\"1.22.0\\\", \\\"azureml-dataset-runtime\\\": \\\"1.22.0\\\", \\\"azureml-dataprep\\\": \\\"2.9.1\\\", \\\"azureml-dataprep-rslex\\\": \\\"1.7.0\\\", \\\"azureml-dataprep-native\\\": \\\"29.0.0\\\", \\\"azureml-datadrift\\\": \\\"1.22.0\\\", \\\"azureml-core\\\": \\\"1.22.0\\\", \\\"azureml-contrib-services\\\": \\\"1.22.0\\\", \\\"azureml-contrib-server\\\": \\\"1.22.0\\\", \\\"azureml-contrib-reinforcementlearning\\\": \\\"1.22.0\\\", \\\"azureml-contrib-pipeline-steps\\\": \\\"1.22.0\\\", \\\"azureml-contrib-notebook\\\": \\\"1.22.0\\\", \\\"azureml-contrib-interpret\\\": \\\"1.22.0\\\", \\\"azureml-contrib-gbdt\\\": \\\"1.22.0\\\", \\\"azureml-contrib-fairness\\\": \\\"1.22.0\\\", \\\"azureml-contrib-dataset\\\": \\\"1.22.0\\\", \\\"azureml-cli-common\\\": \\\"1.22.0\\\", \\\"azureml-automl-runtime\\\": \\\"1.22.0\\\", \\\"azureml-automl-core\\\": \\\"1.22.0\\\", \\\"azureml-accel-models\\\": \\\"1.22.0\\\"}\", \"_aml_system_scenario_identification\": \"Local.Parent\", \"ClientSdkVersion\": \"1.22.0\", \"ClientType\": \"SDK\", \"environment_cpu_name\": \"AzureML-AutoML\", \"environment_cpu_label\": \"prod\", \"environment_gpu_name\": \"AzureML-AutoML-GPU\", \"environment_gpu_label\": \"prod\", \"root_attribution\": \"automl\", \"attribution\": \"AutoML\", \"Orchestrator\": \"AutoML\", \"_azureml.ComputeTargetType\": \"local\", \"ProblemInfoJsonString\": \"{\\\"dataset_num_categorical\\\": 0, \\\"is_sparse\\\": false, \\\"subsampling\\\": false, \\\"dataset_classes\\\": 2, \\\"dataset_features\\\": 19, \\\"dataset_samples\\\": 72, \\\"single_frequency_class_detected\\\": false}\", \"feature_skus\": \"automatedml_sdk_guardrails\"}, \"tags\": {\"model_explain_run\": \"best_run\", \"best_score\": \"0.9180952380952381\", \"best_pipeline\": \"VotingEnsemble\", \"automl_best_child_run_id\": \"AutoML_08564e6b-b5ae-43f2-8279-72b59211afff_44\", \"model_explain_best_run_child_id\": \"AutoML_08564e6b-b5ae-43f2-8279-72b59211afff_44\"}, \"end_time_utc\": \"2021-04-09T03:38:43.976847Z\", \"status\": \"Completed\", \"log_files\": {}, \"log_groups\": [], \"run_duration\": \"0:21:16\", \"run_number\": \"153\", \"run_queued_details\": {\"status\": \"Completed\", \"details\": null}}, \"child_runs\": [{\"run_id\": \"AutoML_08564e6b-b5ae-43f2-8279-72b59211afff_0\", \"run_number\": 154, \"metric\": null, \"status\": \"Completed\", \"run_type\": null, \"training_percent\": \"100\", \"start_time\": \"2021-04-09T03:17:41.289585Z\", \"end_time\": \"2021-04-09T03:18:07.363007Z\", \"created_time\": \"2021-04-09T03:17:41.172137Z\", \"created_time_dt\": \"2021-04-09T03:17:41.172137Z\", \"duration\": \"0:00:26\", \"iteration\": \"0\", \"goal\": \"accuracy_max\", \"run_name\": \"MaxAbsScaler, LightGBM\", \"run_properties\": \"copy=True\", \"primary_metric\": 0.80857143, \"best_metric\": 0.80857143}, {\"run_id\": \"AutoML_08564e6b-b5ae-43f2-8279-72b59211afff_1\", \"run_number\": 155, \"metric\": null, \"status\": \"Failed\", \"run_type\": null, \"training_percent\": \"100\", \"start_time\": \"2021-04-09T03:18:07.702947Z\", \"end_time\": \"2021-04-09T03:18:16.408282Z\", \"created_time\": \"2021-04-09T03:18:07.586926Z\", \"created_time_dt\": \"2021-04-09T03:18:07.586926Z\", \"duration\": \"0:00:08\", \"iteration\": \"1\", \"goal\": \"accuracy_max\", \"run_name\": \"MaxAbsScaler, XGBoostClassifier\", \"run_properties\": \"\"}, {\"run_id\": \"AutoML_08564e6b-b5ae-43f2-8279-72b59211afff_2\", \"run_number\": 156, \"metric\": null, \"status\": \"Completed\", \"run_type\": null, \"training_percent\": \"100\", \"start_time\": \"2021-04-09T03:18:17.114168Z\", \"end_time\": \"2021-04-09T03:18:48.42532Z\", \"created_time\": \"2021-04-09T03:18:16.99628Z\", \"created_time_dt\": \"2021-04-09T03:18:16.99628Z\", \"duration\": \"0:00:31\", \"iteration\": \"2\", \"goal\": \"accuracy_max\", \"run_name\": \"MinMaxScaler, RandomForest\", \"run_properties\": \"copy=True, feature_range=(0, 1\", \"primary_metric\": 0.83428571, \"best_metric\": 0.83428571}, {\"run_id\": \"AutoML_08564e6b-b5ae-43f2-8279-72b59211afff_3\", \"run_number\": 157, \"metric\": null, \"status\": \"Completed\", \"run_type\": null, \"training_percent\": \"100\", \"start_time\": \"2021-04-09T03:18:49.76906Z\", \"end_time\": \"2021-04-09T03:19:14.875352Z\", \"created_time\": \"2021-04-09T03:18:49.660892Z\", \"created_time_dt\": \"2021-04-09T03:18:49.660892Z\", \"duration\": \"0:00:25\", \"iteration\": \"3\", \"goal\": \"accuracy_max\", \"run_name\": \"MinMaxScaler, RandomForest\", \"run_properties\": \"copy=True, feature_range=(0, 1\", \"primary_metric\": 0.86285714, \"best_metric\": 0.86285714}, {\"run_id\": \"AutoML_08564e6b-b5ae-43f2-8279-72b59211afff_4\", \"run_number\": 158, \"metric\": null, \"status\": \"Completed\", \"run_type\": null, \"training_percent\": \"100\", \"start_time\": \"2021-04-09T03:19:16.368201Z\", \"end_time\": \"2021-04-09T03:19:41.597155Z\", \"created_time\": \"2021-04-09T03:19:16.276873Z\", \"created_time_dt\": \"2021-04-09T03:19:16.276873Z\", \"duration\": \"0:00:25\", \"iteration\": \"4\", \"goal\": \"accuracy_max\", \"run_name\": \"MinMaxScaler, RandomForest\", \"run_properties\": \"copy=True, feature_range=(0, 1\", \"primary_metric\": 0.86190476, \"best_metric\": 0.86285714}, {\"run_id\": \"AutoML_08564e6b-b5ae-43f2-8279-72b59211afff_5\", \"run_number\": 159, \"metric\": null, \"status\": \"Completed\", \"run_type\": null, \"training_percent\": \"100\", \"start_time\": \"2021-04-09T03:19:42.990145Z\", \"end_time\": \"2021-04-09T03:20:12.946965Z\", \"created_time\": \"2021-04-09T03:19:42.890626Z\", \"created_time_dt\": \"2021-04-09T03:19:42.890626Z\", \"duration\": \"0:00:30\", \"iteration\": \"5\", \"goal\": \"accuracy_max\", \"run_name\": \"MinMaxScaler, SVM\", \"run_properties\": \"copy=True, feature_range=(0, 1\", \"primary_metric\": 0.84857143, \"best_metric\": 0.86285714}, {\"run_id\": \"AutoML_08564e6b-b5ae-43f2-8279-72b59211afff_6\", \"run_number\": 160, \"metric\": null, \"status\": \"Completed\", \"run_type\": null, \"training_percent\": \"100\", \"start_time\": \"2021-04-09T03:20:14.218214Z\", \"end_time\": \"2021-04-09T03:20:39.445072Z\", \"created_time\": \"2021-04-09T03:20:14.102899Z\", \"created_time_dt\": \"2021-04-09T03:20:14.102899Z\", \"duration\": \"0:00:25\", \"iteration\": \"6\", \"goal\": \"accuracy_max\", \"run_name\": \"MaxAbsScaler, GradientBoosting\", \"run_properties\": \"copy=True\", \"primary_metric\": 0.8352381, \"best_metric\": 0.86285714}, {\"run_id\": \"AutoML_08564e6b-b5ae-43f2-8279-72b59211afff_7\", \"run_number\": 161, \"metric\": null, \"status\": \"Completed\", \"run_type\": null, \"training_percent\": \"100\", \"start_time\": \"2021-04-09T03:20:41.080679Z\", \"end_time\": \"2021-04-09T03:21:05.925449Z\", \"created_time\": \"2021-04-09T03:20:40.948325Z\", \"created_time_dt\": \"2021-04-09T03:20:40.948325Z\", \"duration\": \"0:00:24\", \"iteration\": \"7\", \"goal\": \"accuracy_max\", \"run_name\": \"StandardScalerWrapper, RandomForest\", \"run_properties\": \"<azureml.automl.runtime.shared.model_wrappers.StandardScalerWrapper object at 0x7fa37d1d1630\", \"primary_metric\": 0.86285714, \"best_metric\": 0.86285714}, {\"run_id\": \"AutoML_08564e6b-b5ae-43f2-8279-72b59211afff_8\", \"run_number\": 162, \"metric\": null, \"status\": \"Failed\", \"run_type\": null, \"training_percent\": \"100\", \"start_time\": \"2021-04-09T03:21:07.147597Z\", \"end_time\": \"2021-04-09T03:21:17.661632Z\", \"created_time\": \"2021-04-09T03:21:07.052785Z\", \"created_time_dt\": \"2021-04-09T03:21:07.052785Z\", \"duration\": \"0:00:10\", \"iteration\": \"8\", \"goal\": \"accuracy_max\", \"run_name\": \"SparseNormalizer, XGBoostClassifier\", \"run_properties\": \"\"}, {\"run_id\": \"AutoML_08564e6b-b5ae-43f2-8279-72b59211afff_9\", \"run_number\": 163, \"metric\": null, \"status\": \"Completed\", \"run_type\": null, \"training_percent\": \"100\", \"start_time\": \"2021-04-09T03:21:20.108828Z\", \"end_time\": \"2021-04-09T03:21:54.93674Z\", \"created_time\": \"2021-04-09T03:21:19.649653Z\", \"created_time_dt\": \"2021-04-09T03:21:19.649653Z\", \"duration\": \"0:00:35\", \"iteration\": \"9\", \"goal\": \"accuracy_max\", \"run_name\": \"MaxAbsScaler, SVM\", \"run_properties\": \"copy=True\", \"primary_metric\": 0.87619048, \"best_metric\": 0.87619048}, {\"run_id\": \"AutoML_08564e6b-b5ae-43f2-8279-72b59211afff_10\", \"run_number\": 164, \"metric\": null, \"status\": \"Completed\", \"run_type\": null, \"training_percent\": \"100\", \"start_time\": \"2021-04-09T03:21:57.128694Z\", \"end_time\": \"2021-04-09T03:22:23.811331Z\", \"created_time\": \"2021-04-09T03:21:56.768314Z\", \"created_time_dt\": \"2021-04-09T03:21:56.768314Z\", \"duration\": \"0:00:27\", \"iteration\": \"10\", \"goal\": \"accuracy_max\", \"run_name\": \"MaxAbsScaler, LightGBM\", \"run_properties\": \"copy=True\", \"primary_metric\": 0.80857143, \"best_metric\": 0.87619048}, {\"run_id\": \"AutoML_08564e6b-b5ae-43f2-8279-72b59211afff_11\", \"run_number\": 165, \"metric\": null, \"status\": \"Completed\", \"run_type\": null, \"training_percent\": \"100\", \"start_time\": \"2021-04-09T03:22:25.148775Z\", \"end_time\": \"2021-04-09T03:22:53.510072Z\", \"created_time\": \"2021-04-09T03:22:25.015841Z\", \"created_time_dt\": \"2021-04-09T03:22:25.015841Z\", \"duration\": \"0:00:28\", \"iteration\": \"11\", \"goal\": \"accuracy_max\", \"run_name\": \"RobustScaler, ExtremeRandomTrees\", \"run_properties\": \"copy=True, quantile_range=[25, 75], with_centering=False,\\n             with_scaling=False\", \"primary_metric\": 0.89142857, \"best_metric\": 0.89142857}, {\"run_id\": \"AutoML_08564e6b-b5ae-43f2-8279-72b59211afff_12\", \"run_number\": 166, \"metric\": null, \"status\": \"Completed\", \"run_type\": null, \"training_percent\": \"100\", \"start_time\": \"2021-04-09T03:22:54.802134Z\", \"end_time\": \"2021-04-09T03:23:18.903147Z\", \"created_time\": \"2021-04-09T03:22:54.672447Z\", \"created_time_dt\": \"2021-04-09T03:22:54.672447Z\", \"duration\": \"0:00:24\", \"iteration\": \"12\", \"goal\": \"accuracy_max\", \"run_name\": \"MaxAbsScaler, GradientBoosting\", \"run_properties\": \"copy=True\", \"primary_metric\": 0.82190476, \"best_metric\": 0.89142857}, {\"run_id\": \"AutoML_08564e6b-b5ae-43f2-8279-72b59211afff_13\", \"run_number\": 167, \"metric\": null, \"status\": \"Failed\", \"run_type\": null, \"training_percent\": \"100\", \"start_time\": \"2021-04-09T03:23:20.186658Z\", \"end_time\": \"2021-04-09T03:23:27.998806Z\", \"created_time\": \"2021-04-09T03:23:20.06905Z\", \"created_time_dt\": \"2021-04-09T03:23:20.06905Z\", \"duration\": \"0:00:07\", \"iteration\": \"13\", \"goal\": \"accuracy_max\", \"run_name\": \"SparseNormalizer, XGBoostClassifier\", \"run_properties\": \"\"}, {\"run_id\": \"AutoML_08564e6b-b5ae-43f2-8279-72b59211afff_14\", \"run_number\": 168, \"metric\": null, \"status\": \"Completed\", \"run_type\": null, \"training_percent\": \"100\", \"start_time\": \"2021-04-09T03:23:29.432498Z\", \"end_time\": \"2021-04-09T03:23:53.730832Z\", \"created_time\": \"2021-04-09T03:23:29.313703Z\", \"created_time_dt\": \"2021-04-09T03:23:29.313703Z\", \"duration\": \"0:00:24\", \"iteration\": \"14\", \"goal\": \"accuracy_max\", \"run_name\": \"MinMaxScaler, LightGBM\", \"run_properties\": \"copy=True, feature_range=(0, 1\", \"primary_metric\": 0.8352381, \"best_metric\": 0.89142857}, {\"run_id\": \"AutoML_08564e6b-b5ae-43f2-8279-72b59211afff_15\", \"run_number\": 169, \"metric\": null, \"status\": \"Completed\", \"run_type\": null, \"training_percent\": \"100\", \"start_time\": \"2021-04-09T03:23:55.0488Z\", \"end_time\": \"2021-04-09T03:24:20.139Z\", \"created_time\": \"2021-04-09T03:23:54.927204Z\", \"created_time_dt\": \"2021-04-09T03:23:54.927204Z\", \"duration\": \"0:00:25\", \"iteration\": \"15\", \"goal\": \"accuracy_max\", \"run_name\": \"RobustScaler, KNN\", \"run_properties\": \"copy=True, quantile_range=[25, 75], with_centering=True,\\n             with_scaling=True\", \"primary_metric\": 0.86380952, \"best_metric\": 0.89142857}, {\"run_id\": \"AutoML_08564e6b-b5ae-43f2-8279-72b59211afff_16\", \"run_number\": 170, \"metric\": null, \"status\": \"Completed\", \"run_type\": null, \"training_percent\": \"100\", \"start_time\": \"2021-04-09T03:24:21.76312Z\", \"end_time\": \"2021-04-09T03:24:45.681808Z\", \"created_time\": \"2021-04-09T03:24:21.65469Z\", \"created_time_dt\": \"2021-04-09T03:24:21.65469Z\", \"duration\": \"0:00:24\", \"iteration\": \"16\", \"goal\": \"accuracy_max\", \"run_name\": \"MaxAbsScaler, LightGBM\", \"run_properties\": \"copy=True\", \"primary_metric\": 0.80666667, \"best_metric\": 0.89142857}, {\"run_id\": \"AutoML_08564e6b-b5ae-43f2-8279-72b59211afff_17\", \"run_number\": 171, \"metric\": null, \"status\": \"Completed\", \"run_type\": null, \"training_percent\": \"100\", \"start_time\": \"2021-04-09T03:24:47.231344Z\", \"end_time\": \"2021-04-09T03:25:11.247145Z\", \"created_time\": \"2021-04-09T03:24:47.096515Z\", \"created_time_dt\": \"2021-04-09T03:24:47.096515Z\", \"duration\": \"0:00:24\", \"iteration\": \"17\", \"goal\": \"accuracy_max\", \"run_name\": \"StandardScalerWrapper, LightGBM\", \"run_properties\": \"<azureml.automl.runtime.shared.model_wrappers.StandardScalerWrapper object at 0x7fa37d1066d8\", \"primary_metric\": 0.79333333, \"best_metric\": 0.89142857}, {\"run_id\": \"AutoML_08564e6b-b5ae-43f2-8279-72b59211afff_18\", \"run_number\": 172, \"metric\": null, \"status\": \"Completed\", \"run_type\": null, \"training_percent\": \"100\", \"start_time\": \"2021-04-09T03:25:12.608566Z\", \"end_time\": \"2021-04-09T03:25:41.634289Z\", \"created_time\": \"2021-04-09T03:25:12.451468Z\", \"created_time_dt\": \"2021-04-09T03:25:12.451468Z\", \"duration\": \"0:00:29\", \"iteration\": \"18\", \"goal\": \"accuracy_max\", \"run_name\": \"MaxAbsScaler, LightGBM\", \"run_properties\": \"copy=True\", \"primary_metric\": 0.73714286, \"best_metric\": 0.89142857}, {\"run_id\": \"AutoML_08564e6b-b5ae-43f2-8279-72b59211afff_19\", \"run_number\": 173, \"metric\": null, \"status\": \"Completed\", \"run_type\": null, \"training_percent\": \"100\", \"start_time\": \"2021-04-09T03:25:43.092573Z\", \"end_time\": \"2021-04-09T03:26:12.506757Z\", \"created_time\": \"2021-04-09T03:25:42.994587Z\", \"created_time_dt\": \"2021-04-09T03:25:42.994587Z\", \"duration\": \"0:00:29\", \"iteration\": \"19\", \"goal\": \"accuracy_max\", \"run_name\": \"RobustScaler, ExtremeRandomTrees\", \"run_properties\": \"copy=True, quantile_range=[10, 90], with_centering=True,\\n             with_scaling=False\", \"primary_metric\": 0.89142857, \"best_metric\": 0.89142857}, {\"run_id\": \"AutoML_08564e6b-b5ae-43f2-8279-72b59211afff_20\", \"run_number\": 174, \"metric\": null, \"status\": \"Completed\", \"run_type\": null, \"training_percent\": \"100\", \"start_time\": \"2021-04-09T03:26:13.900071Z\", \"end_time\": \"2021-04-09T03:26:43.794804Z\", \"created_time\": \"2021-04-09T03:26:13.780523Z\", \"created_time_dt\": \"2021-04-09T03:26:13.780523Z\", \"duration\": \"0:00:30\", \"iteration\": \"20\", \"goal\": \"accuracy_max\", \"run_name\": \"MaxAbsScaler, LightGBM\", \"run_properties\": \"copy=True\", \"primary_metric\": 0.82095238, \"best_metric\": 0.89142857}, {\"run_id\": \"AutoML_08564e6b-b5ae-43f2-8279-72b59211afff_21\", \"run_number\": 175, \"metric\": null, \"status\": \"Completed\", \"run_type\": null, \"training_percent\": \"100\", \"start_time\": \"2021-04-09T03:26:45.137396Z\", \"end_time\": \"2021-04-09T03:27:15.956133Z\", \"created_time\": \"2021-04-09T03:26:45.029928Z\", \"created_time_dt\": \"2021-04-09T03:26:45.029928Z\", \"duration\": \"0:00:30\", \"iteration\": \"21\", \"goal\": \"accuracy_max\", \"run_name\": \"MinMaxScaler, LightGBM\", \"run_properties\": \"copy=True, feature_range=(0, 1\", \"primary_metric\": 0.8647619, \"best_metric\": 0.89142857}, {\"run_id\": \"AutoML_08564e6b-b5ae-43f2-8279-72b59211afff_22\", \"run_number\": 176, \"metric\": null, \"status\": \"Completed\", \"run_type\": null, \"training_percent\": \"100\", \"start_time\": \"2021-04-09T03:27:17.306427Z\", \"end_time\": \"2021-04-09T03:27:47.214396Z\", \"created_time\": \"2021-04-09T03:27:17.190597Z\", \"created_time_dt\": \"2021-04-09T03:27:17.190597Z\", \"duration\": \"0:00:30\", \"iteration\": \"22\", \"goal\": \"accuracy_max\", \"run_name\": \"MinMaxScaler, LightGBM\", \"run_properties\": \"copy=True, feature_range=(0, 1\", \"primary_metric\": 0.8352381, \"best_metric\": 0.89142857}, {\"run_id\": \"AutoML_08564e6b-b5ae-43f2-8279-72b59211afff_23\", \"run_number\": 177, \"metric\": null, \"status\": \"Completed\", \"run_type\": null, \"training_percent\": \"100\", \"start_time\": \"2021-04-09T03:27:48.419627Z\", \"end_time\": \"2021-04-09T03:28:13.164658Z\", \"created_time\": \"2021-04-09T03:27:48.315828Z\", \"created_time_dt\": \"2021-04-09T03:27:48.315828Z\", \"duration\": \"0:00:24\", \"iteration\": \"23\", \"goal\": \"accuracy_max\", \"run_name\": \"MaxAbsScaler, LightGBM\", \"run_properties\": \"copy=True\", \"primary_metric\": 0.79333333, \"best_metric\": 0.89142857}, {\"run_id\": \"AutoML_08564e6b-b5ae-43f2-8279-72b59211afff_24\", \"run_number\": 178, \"metric\": null, \"status\": \"Completed\", \"run_type\": null, \"training_percent\": \"100\", \"start_time\": \"2021-04-09T03:28:14.429789Z\", \"end_time\": \"2021-04-09T03:28:39.624204Z\", \"created_time\": \"2021-04-09T03:28:14.331891Z\", \"created_time_dt\": \"2021-04-09T03:28:14.331891Z\", \"duration\": \"0:00:25\", \"iteration\": \"24\", \"goal\": \"accuracy_max\", \"run_name\": \"MinMaxScaler, LogisticRegression\", \"run_properties\": \"copy=True, feature_range=(0, 1\", \"primary_metric\": 0.91714286, \"best_metric\": 0.91714286}, {\"run_id\": \"AutoML_08564e6b-b5ae-43f2-8279-72b59211afff_25\", \"run_number\": 179, \"metric\": null, \"status\": \"Completed\", \"run_type\": null, \"training_percent\": \"100\", \"start_time\": \"2021-04-09T03:28:41.903067Z\", \"end_time\": \"2021-04-09T03:29:05.695324Z\", \"created_time\": \"2021-04-09T03:28:41.788932Z\", \"created_time_dt\": \"2021-04-09T03:28:41.788932Z\", \"duration\": \"0:00:23\", \"iteration\": \"25\", \"goal\": \"accuracy_max\", \"run_name\": \"TruncatedSVDWrapper, LogisticRegression\", \"run_properties\": \"n_components=0.40578947368421053, random_state=None\", \"primary_metric\": 0.8352381, \"best_metric\": 0.91714286}, {\"run_id\": \"AutoML_08564e6b-b5ae-43f2-8279-72b59211afff_26\", \"run_number\": 180, \"metric\": null, \"status\": \"Completed\", \"run_type\": null, \"training_percent\": \"100\", \"start_time\": \"2021-04-09T03:29:06.962602Z\", \"end_time\": \"2021-04-09T03:29:34.362476Z\", \"created_time\": \"2021-04-09T03:29:06.867797Z\", \"created_time_dt\": \"2021-04-09T03:29:06.867797Z\", \"duration\": \"0:00:27\", \"iteration\": \"26\", \"goal\": \"accuracy_max\", \"run_name\": \"MaxAbsScaler, ExtremeRandomTrees\", \"run_properties\": \"copy=True\", \"primary_metric\": 0.84952381, \"best_metric\": 0.91714286}, {\"run_id\": \"AutoML_08564e6b-b5ae-43f2-8279-72b59211afff_27\", \"run_number\": 181, \"metric\": null, \"status\": \"Completed\", \"run_type\": null, \"training_percent\": \"100\", \"start_time\": \"2021-04-09T03:29:35.747424Z\", \"end_time\": \"2021-04-09T03:30:00.36391Z\", \"created_time\": \"2021-04-09T03:29:35.575615Z\", \"created_time_dt\": \"2021-04-09T03:29:35.575615Z\", \"duration\": \"0:00:24\", \"iteration\": \"27\", \"goal\": \"accuracy_max\", \"run_name\": \"StandardScalerWrapper, LogisticRegression\", \"run_properties\": \"<azureml.automl.runtime.shared.model_wrappers.StandardScalerWrapper object at 0x7fa37cf16128\", \"primary_metric\": 0.86190476, \"best_metric\": 0.91714286}, {\"run_id\": \"AutoML_08564e6b-b5ae-43f2-8279-72b59211afff_28\", \"run_number\": 182, \"metric\": null, \"status\": \"Completed\", \"run_type\": null, \"training_percent\": \"100\", \"start_time\": \"2021-04-09T03:30:01.635137Z\", \"end_time\": \"2021-04-09T03:30:31.542299Z\", \"created_time\": \"2021-04-09T03:30:01.514569Z\", \"created_time_dt\": \"2021-04-09T03:30:01.514569Z\", \"duration\": \"0:00:30\", \"iteration\": \"28\", \"goal\": \"accuracy_max\", \"run_name\": \"StandardScalerWrapper, LogisticRegression\", \"run_properties\": \"<azureml.automl.runtime.shared.model_wrappers.StandardScalerWrapper object at 0x7fa3313fd9b0\", \"primary_metric\": 0.86190476, \"best_metric\": 0.91714286}, {\"run_id\": \"AutoML_08564e6b-b5ae-43f2-8279-72b59211afff_29\", \"run_number\": 183, \"metric\": null, \"status\": \"Completed\", \"run_type\": null, \"training_percent\": \"100\", \"start_time\": \"2021-04-09T03:30:32.86596Z\", \"end_time\": \"2021-04-09T03:30:58.109281Z\", \"created_time\": \"2021-04-09T03:30:32.773049Z\", \"created_time_dt\": \"2021-04-09T03:30:32.773049Z\", \"duration\": \"0:00:25\", \"iteration\": \"29\", \"goal\": \"accuracy_max\", \"run_name\": \"RobustScaler, KNN\", \"run_properties\": \"copy=True, quantile_range=[25, 75], with_centering=True,\\n             with_scaling=False\", \"primary_metric\": 0.84857143, \"best_metric\": 0.91714286}, {\"run_id\": \"AutoML_08564e6b-b5ae-43f2-8279-72b59211afff_30\", \"run_number\": 184, \"metric\": null, \"status\": \"Completed\", \"run_type\": null, \"training_percent\": \"100\", \"start_time\": \"2021-04-09T03:31:00.41994Z\", \"end_time\": \"2021-04-09T03:31:26.990764Z\", \"created_time\": \"2021-04-09T03:31:00.312999Z\", \"created_time_dt\": \"2021-04-09T03:31:00.312999Z\", \"duration\": \"0:00:26\", \"iteration\": \"30\", \"goal\": \"accuracy_max\", \"run_name\": \"StandardScalerWrapper, LogisticRegression\", \"run_properties\": \"<azureml.automl.runtime.shared.model_wrappers.StandardScalerWrapper object at 0x7fa37d07a908\", \"primary_metric\": 0.89047619, \"best_metric\": 0.91714286}, {\"run_id\": \"AutoML_08564e6b-b5ae-43f2-8279-72b59211afff_31\", \"run_number\": 185, \"metric\": null, \"status\": \"Completed\", \"run_type\": null, \"training_percent\": \"100\", \"start_time\": \"2021-04-09T03:31:28.309349Z\", \"end_time\": \"2021-04-09T03:31:52.674701Z\", \"created_time\": \"2021-04-09T03:31:28.186507Z\", \"created_time_dt\": \"2021-04-09T03:31:28.186507Z\", \"duration\": \"0:00:24\", \"iteration\": \"31\", \"goal\": \"accuracy_max\", \"run_name\": \"SparseNormalizer, GradientBoosting\", \"run_properties\": \"<azureml.automl.runtime.shared.model_wrappers.SparseNormalizer object at 0x7fa1fc9ebd30\", \"primary_metric\": 0.83619048, \"best_metric\": 0.91714286}, {\"run_id\": \"AutoML_08564e6b-b5ae-43f2-8279-72b59211afff_32\", \"run_number\": 186, \"metric\": null, \"status\": \"Completed\", \"run_type\": null, \"training_percent\": \"100\", \"start_time\": \"2021-04-09T03:31:54.026251Z\", \"end_time\": \"2021-04-09T03:32:20.860847Z\", \"created_time\": \"2021-04-09T03:31:53.922784Z\", \"created_time_dt\": \"2021-04-09T03:31:53.922784Z\", \"duration\": \"0:00:26\", \"iteration\": \"32\", \"goal\": \"accuracy_max\", \"run_name\": \"MaxAbsScaler, ExtremeRandomTrees\", \"run_properties\": \"copy=True\", \"primary_metric\": 0.82095238, \"best_metric\": 0.91714286}, {\"run_id\": \"AutoML_08564e6b-b5ae-43f2-8279-72b59211afff_33\", \"run_number\": 187, \"metric\": null, \"status\": \"Completed\", \"run_type\": null, \"training_percent\": \"100\", \"start_time\": \"2021-04-09T03:32:22.217171Z\", \"end_time\": \"2021-04-09T03:32:54.292255Z\", \"created_time\": \"2021-04-09T03:32:22.118621Z\", \"created_time_dt\": \"2021-04-09T03:32:22.118621Z\", \"duration\": \"0:00:32\", \"iteration\": \"33\", \"goal\": \"accuracy_max\", \"run_name\": \"RobustScaler, RandomForest\", \"run_properties\": \"copy=True, quantile_range=[10, 90], with_centering=True,\\n             with_scaling=True\", \"primary_metric\": 0.83714286, \"best_metric\": 0.91714286}, {\"run_id\": \"AutoML_08564e6b-b5ae-43f2-8279-72b59211afff_34\", \"run_number\": 188, \"metric\": null, \"status\": \"Completed\", \"run_type\": null, \"training_percent\": \"100\", \"start_time\": \"2021-04-09T03:32:55.517059Z\", \"end_time\": \"2021-04-09T03:33:30.490121Z\", \"created_time\": \"2021-04-09T03:32:55.422025Z\", \"created_time_dt\": \"2021-04-09T03:32:55.422025Z\", \"duration\": \"0:00:35\", \"iteration\": \"34\", \"goal\": \"accuracy_max\", \"run_name\": \"StandardScalerWrapper, LightGBM\", \"run_properties\": \"<azureml.automl.runtime.shared.model_wrappers.StandardScalerWrapper object at 0x7fa1fcae6080\", \"primary_metric\": 0.8352381, \"best_metric\": 0.91714286}, {\"run_id\": \"AutoML_08564e6b-b5ae-43f2-8279-72b59211afff_35\", \"run_number\": 189, \"metric\": null, \"status\": \"Completed\", \"run_type\": null, \"training_percent\": \"100\", \"start_time\": \"2021-04-09T03:33:32.571552Z\", \"end_time\": \"2021-04-09T03:34:03.223737Z\", \"created_time\": \"2021-04-09T03:33:32.482631Z\", \"created_time_dt\": \"2021-04-09T03:33:32.482631Z\", \"duration\": \"0:00:30\", \"iteration\": \"35\", \"goal\": \"accuracy_max\", \"run_name\": \"StandardScalerWrapper, LogisticRegression\", \"run_properties\": \"<azureml.automl.runtime.shared.model_wrappers.StandardScalerWrapper object at 0x7fa37d0fe3c8\", \"primary_metric\": 0.83333333, \"best_metric\": 0.91714286}, {\"run_id\": \"AutoML_08564e6b-b5ae-43f2-8279-72b59211afff_36\", \"run_number\": 190, \"metric\": null, \"status\": \"Completed\", \"run_type\": null, \"training_percent\": \"100\", \"start_time\": \"2021-04-09T03:34:04.476669Z\", \"end_time\": \"2021-04-09T03:34:29.547945Z\", \"created_time\": \"2021-04-09T03:34:04.374704Z\", \"created_time_dt\": \"2021-04-09T03:34:04.374704Z\", \"duration\": \"0:00:25\", \"iteration\": \"36\", \"goal\": \"accuracy_max\", \"run_name\": \"MinMaxScaler, LightGBM\", \"run_properties\": \"copy=True, feature_range=(0, 1\", \"primary_metric\": 0.82190476, \"best_metric\": 0.91714286}, {\"run_id\": \"AutoML_08564e6b-b5ae-43f2-8279-72b59211afff_37\", \"run_number\": 191, \"metric\": null, \"status\": \"Completed\", \"run_type\": null, \"training_percent\": \"100\", \"start_time\": \"2021-04-09T03:34:31.132946Z\", \"end_time\": \"2021-04-09T03:34:56.866405Z\", \"created_time\": \"2021-04-09T03:34:31.038753Z\", \"created_time_dt\": \"2021-04-09T03:34:31.038753Z\", \"duration\": \"0:00:25\", \"iteration\": \"37\", \"goal\": \"accuracy_max\", \"run_name\": \"SparseNormalizer, LightGBM\", \"run_properties\": \"<azureml.automl.runtime.shared.model_wrappers.SparseNormalizer object at 0x7fa37cf7b400\", \"primary_metric\": 0.80857143, \"best_metric\": 0.91714286}, {\"run_id\": \"AutoML_08564e6b-b5ae-43f2-8279-72b59211afff_38\", \"run_number\": 192, \"metric\": null, \"status\": \"Completed\", \"run_type\": null, \"training_percent\": \"100\", \"start_time\": \"2021-04-09T03:34:58.214598Z\", \"end_time\": \"2021-04-09T03:35:29.027118Z\", \"created_time\": \"2021-04-09T03:34:58.086321Z\", \"created_time_dt\": \"2021-04-09T03:34:58.086321Z\", \"duration\": \"0:00:30\", \"iteration\": \"38\", \"goal\": \"accuracy_max\", \"run_name\": \"SparseNormalizer, LightGBM\", \"run_properties\": \"<azureml.automl.runtime.shared.model_wrappers.SparseNormalizer object at 0x7fa1feb40e48\", \"primary_metric\": 0.7952381, \"best_metric\": 0.91714286}, {\"run_id\": \"AutoML_08564e6b-b5ae-43f2-8279-72b59211afff_39\", \"run_number\": 193, \"metric\": null, \"status\": \"Completed\", \"run_type\": null, \"training_percent\": \"100\", \"start_time\": \"2021-04-09T03:35:30.293297Z\", \"end_time\": \"2021-04-09T03:35:56.610318Z\", \"created_time\": \"2021-04-09T03:35:30.207786Z\", \"created_time_dt\": \"2021-04-09T03:35:30.207786Z\", \"duration\": \"0:00:26\", \"iteration\": \"39\", \"goal\": \"accuracy_max\", \"run_name\": \"RobustScaler, KNN\", \"run_properties\": \"copy=True, quantile_range=[10, 90], with_centering=True,\\n             with_scaling=True\", \"primary_metric\": 0.84952381, \"best_metric\": 0.91714286}, {\"run_id\": \"AutoML_08564e6b-b5ae-43f2-8279-72b59211afff_40\", \"run_number\": 194, \"metric\": null, \"status\": \"Completed\", \"run_type\": null, \"training_percent\": \"100\", \"start_time\": \"2021-04-09T03:35:59.464053Z\", \"end_time\": \"2021-04-09T03:36:25.396862Z\", \"created_time\": \"2021-04-09T03:35:59.149596Z\", \"created_time_dt\": \"2021-04-09T03:35:59.149596Z\", \"duration\": \"0:00:26\", \"iteration\": \"40\", \"goal\": \"accuracy_max\", \"run_name\": \"PCA, LogisticRegression\", \"run_properties\": \"copy=True, iterated_power='auto', n_components=0.95, random_state=None,\\n    svd_solver='auto', tol=0.0, whiten=True\", \"primary_metric\": 0.9047619, \"best_metric\": 0.91714286}, {\"run_id\": \"AutoML_08564e6b-b5ae-43f2-8279-72b59211afff_41\", \"run_number\": 195, \"metric\": null, \"status\": \"Completed\", \"run_type\": null, \"training_percent\": \"100\", \"start_time\": \"2021-04-09T03:36:26.679162Z\", \"end_time\": \"2021-04-09T03:36:51.855549Z\", \"created_time\": \"2021-04-09T03:36:26.578392Z\", \"created_time_dt\": \"2021-04-09T03:36:26.578392Z\", \"duration\": \"0:00:25\", \"iteration\": \"41\", \"goal\": \"accuracy_max\", \"run_name\": \"SparseNormalizer, LightGBM\", \"run_properties\": \"<azureml.automl.runtime.shared.model_wrappers.SparseNormalizer object at 0x7fa37cee1b38\", \"primary_metric\": 0.80761905, \"best_metric\": 0.91714286}, {\"run_id\": \"AutoML_08564e6b-b5ae-43f2-8279-72b59211afff_42\", \"run_number\": 196, \"metric\": null, \"status\": \"Completed\", \"run_type\": null, \"training_percent\": \"100\", \"start_time\": \"2021-04-09T03:36:53.129036Z\", \"end_time\": \"2021-04-09T03:37:24.620518Z\", \"created_time\": \"2021-04-09T03:36:53.035906Z\", \"created_time_dt\": \"2021-04-09T03:36:53.035906Z\", \"duration\": \"0:00:31\", \"iteration\": \"42\", \"goal\": \"accuracy_max\", \"run_name\": \"StandardScalerWrapper, LightGBM\", \"run_properties\": \"<azureml.automl.runtime.shared.model_wrappers.StandardScalerWrapper object at 0x7fa37cf67e48\", \"primary_metric\": 0.78, \"best_metric\": 0.91714286}, {\"run_id\": \"AutoML_08564e6b-b5ae-43f2-8279-72b59211afff_43\", \"run_number\": 197, \"metric\": null, \"status\": \"Completed\", \"run_type\": null, \"training_percent\": \"100\", \"start_time\": \"2021-04-09T03:37:25.85297Z\", \"end_time\": \"2021-04-09T03:37:50.367492Z\", \"created_time\": \"2021-04-09T03:37:25.74329Z\", \"created_time_dt\": \"2021-04-09T03:37:25.74329Z\", \"duration\": \"0:00:24\", \"iteration\": \"43\", \"goal\": \"accuracy_max\", \"run_name\": \"MinMaxScaler, LightGBM\", \"run_properties\": \"copy=True, feature_range=(0, 1\", \"primary_metric\": 0.80761905, \"best_metric\": 0.91714286}, {\"run_id\": \"AutoML_08564e6b-b5ae-43f2-8279-72b59211afff_44\", \"run_number\": 198, \"metric\": null, \"status\": \"Completed\", \"run_type\": null, \"training_percent\": \"100\", \"start_time\": \"2021-04-09T03:37:51.153513Z\", \"end_time\": \"2021-04-09T03:38:17.371113Z\", \"created_time\": \"2021-04-09T03:37:50.891628Z\", \"created_time_dt\": \"2021-04-09T03:37:50.891628Z\", \"duration\": \"0:00:26\", \"iteration\": \"44\", \"goal\": \"accuracy_max\", \"run_name\": \"VotingEnsemble\", \"run_properties\": \"classification_labels=None,\\n                              estimators=[('24',\\n                                           Pipeline(memory=None,\\n                                                    steps=[('minmaxscaler',\\n                                                            MinMaxScaler(copy=True,\\n                                                                         feature_range=(0,\\n                                                                                        1\", \"primary_metric\": 0.91809524, \"best_metric\": 0.91809524}, {\"run_id\": \"AutoML_08564e6b-b5ae-43f2-8279-72b59211afff_45\", \"run_number\": 199, \"metric\": null, \"status\": \"Completed\", \"run_type\": null, \"training_percent\": \"100\", \"start_time\": \"2021-04-09T03:38:17.724328Z\", \"end_time\": \"2021-04-09T03:38:43.621415Z\", \"created_time\": \"2021-04-09T03:38:17.627943Z\", \"created_time_dt\": \"2021-04-09T03:38:17.627943Z\", \"duration\": \"0:00:25\", \"iteration\": \"45\", \"goal\": \"accuracy_max\", \"run_name\": \"StackEnsemble\", \"run_properties\": \"base_learners=[('24',\\n                                        Pipeline(memory=None,\\n                                                 steps=[('minmaxscaler',\\n                                                         MinMaxScaler(copy=True,\\n                                                                      feature_range=(0,\\n                                                                                     1\", \"primary_metric\": 0.89142857, \"best_metric\": 0.91809524}], \"children_metrics\": {\"categories\": [0], \"series\": {\"f1_score_weighted\": [{\"categories\": [\"0\", \"2\", \"3\", \"4\", \"5\", \"6\", \"7\", \"9\", \"10\", \"11\", \"12\", \"14\", \"15\", \"16\", \"17\", \"18\", \"19\", \"20\", \"21\", \"22\", \"23\", \"24\", \"25\", \"26\", \"27\", \"28\", \"29\", \"30\", \"31\", \"32\", \"33\", \"34\", \"35\", \"36\", \"37\", \"38\", \"39\", \"40\", \"41\", \"42\", \"43\", \"44\", \"45\"], \"mode\": \"markers\", \"name\": \"f1_score_weighted\", \"stepped\": false, \"type\": \"scatter\", \"data\": [0.8064644791601314, 0.8256190476190476, 0.8538486312399357, 0.8531410652234452, 0.8476977499272367, 0.8277867494824017, 0.8613031921041074, 0.8780807782050019, 0.7695134575569359, 0.8904014978156856, 0.8105463538072234, 0.822533931446975, 0.8398179936006024, 0.7888648986164514, 0.7856655373611895, 0.6545383022774327, 0.8868917748917748, 0.7997965756350849, 0.8521923165401427, 0.818061881757534, 0.7670226667742195, 0.9153218795781726, 0.8323472416218411, 0.8387184265010352, 0.8669690098261527, 0.8669690098261527, 0.8340660225442834, 0.8867671957671959, 0.8116233766233766, 0.8071302047389004, 0.8393358098804324, 0.818061881757534, 0.8403399407609934, 0.7962196499153021, 0.8018672647803082, 0.7804399888610415, 0.8215526874781534, 0.9087542087542086, 0.8030904280904281, 0.7282820820166358, 0.7852879728966686, 0.9173544973544974, 0.886095238095238]}, {\"categories\": [\"0\", \"2\", \"3\", \"4\", \"5\", \"6\", \"7\", \"9\", \"10\", \"11\", \"12\", \"14\", \"15\", \"16\", \"17\", \"18\", \"19\", \"20\", \"21\", \"22\", \"23\", \"24\", \"25\", \"26\", \"27\", \"28\", \"29\", \"30\", \"31\", \"32\", \"33\", \"34\", \"35\", \"36\", \"37\", \"38\", \"39\", \"40\", \"41\", \"42\", \"43\", \"44\", \"45\"], \"mode\": \"lines\", \"name\": \"f1_score_weighted_max\", \"stepped\": true, \"type\": \"scatter\", \"data\": [0.8064644791601314, 0.8256190476190476, 0.8538486312399357, 0.8538486312399357, 0.8538486312399357, 0.8538486312399357, 0.8613031921041074, 0.8780807782050019, 0.8780807782050019, 0.8904014978156856, 0.8904014978156856, 0.8904014978156856, 0.8904014978156856, 0.8904014978156856, 0.8904014978156856, 0.8904014978156856, 0.8904014978156856, 0.8904014978156856, 0.8904014978156856, 0.8904014978156856, 0.8904014978156856, 0.9153218795781726, 0.9153218795781726, 0.9153218795781726, 0.9153218795781726, 0.9153218795781726, 0.9153218795781726, 0.9153218795781726, 0.9153218795781726, 0.9153218795781726, 0.9153218795781726, 0.9153218795781726, 0.9153218795781726, 0.9153218795781726, 0.9153218795781726, 0.9153218795781726, 0.9153218795781726, 0.9153218795781726, 0.9153218795781726, 0.9153218795781726, 0.9153218795781726, 0.9173544973544974, 0.9173544973544974]}], \"precision_score_micro\": [{\"categories\": [\"0\", \"2\", \"3\", \"4\", \"5\", \"6\", \"7\", \"9\", \"10\", \"11\", \"12\", \"14\", \"15\", \"16\", \"17\", \"18\", \"19\", \"20\", \"21\", \"22\", \"23\", \"24\", \"25\", \"26\", \"27\", \"28\", \"29\", \"30\", \"31\", \"32\", \"33\", \"34\", \"35\", \"36\", \"37\", \"38\", \"39\", \"40\", \"41\", \"42\", \"43\", \"44\", \"45\"], \"mode\": \"markers\", \"name\": \"precision_score_micro\", \"stepped\": false, \"type\": \"scatter\", \"data\": [0.8085714285714285, 0.8342857142857143, 0.8628571428571428, 0.8619047619047618, 0.8485714285714285, 0.8352380952380951, 0.8628571428571428, 0.8761904761904761, 0.8085714285714285, 0.8914285714285715, 0.8219047619047618, 0.8352380952380951, 0.8638095238095239, 0.8066666666666666, 0.7933333333333333, 0.7371428571428571, 0.8914285714285715, 0.8209523809523809, 0.8647619047619048, 0.8352380952380953, 0.7933333333333333, 0.917142857142857, 0.8352380952380953, 0.8495238095238096, 0.8619047619047618, 0.8619047619047618, 0.8485714285714285, 0.8904761904761905, 0.8361904761904763, 0.8209523809523809, 0.837142857142857, 0.8352380952380953, 0.8333333333333333, 0.821904761904762, 0.8085714285714285, 0.7952380952380953, 0.8495238095238096, 0.9047619047619048, 0.8076190476190476, 0.7799999999999999, 0.8076190476190476, 0.9180952380952381, 0.8914285714285715]}, {\"categories\": [\"0\", \"2\", \"3\", \"4\", \"5\", \"6\", \"7\", \"9\", \"10\", \"11\", \"12\", \"14\", \"15\", \"16\", \"17\", \"18\", \"19\", \"20\", \"21\", \"22\", \"23\", \"24\", \"25\", \"26\", \"27\", \"28\", \"29\", \"30\", \"31\", \"32\", \"33\", \"34\", \"35\", \"36\", \"37\", \"38\", \"39\", \"40\", \"41\", \"42\", \"43\", \"44\", \"45\"], \"mode\": \"lines\", \"name\": \"precision_score_micro_max\", \"stepped\": true, \"type\": \"scatter\", \"data\": [0.8085714285714285, 0.8342857142857143, 0.8628571428571428, 0.8628571428571428, 0.8628571428571428, 0.8628571428571428, 0.8628571428571428, 0.8761904761904761, 0.8761904761904761, 0.8914285714285715, 0.8914285714285715, 0.8914285714285715, 0.8914285714285715, 0.8914285714285715, 0.8914285714285715, 0.8914285714285715, 0.8914285714285715, 0.8914285714285715, 0.8914285714285715, 0.8914285714285715, 0.8914285714285715, 0.917142857142857, 0.917142857142857, 0.917142857142857, 0.917142857142857, 0.917142857142857, 0.917142857142857, 0.917142857142857, 0.917142857142857, 0.917142857142857, 0.917142857142857, 0.917142857142857, 0.917142857142857, 0.917142857142857, 0.917142857142857, 0.917142857142857, 0.917142857142857, 0.917142857142857, 0.917142857142857, 0.917142857142857, 0.917142857142857, 0.9180952380952381, 0.9180952380952381]}], \"recall_score_weighted\": [{\"categories\": [\"0\", \"2\", \"3\", \"4\", \"5\", \"6\", \"7\", \"9\", \"10\", \"11\", \"12\", \"14\", \"15\", \"16\", \"17\", \"18\", \"19\", \"20\", \"21\", \"22\", \"23\", \"24\", \"25\", \"26\", \"27\", \"28\", \"29\", \"30\", \"31\", \"32\", \"33\", \"34\", \"35\", \"36\", \"37\", \"38\", \"39\", \"40\", \"41\", \"42\", \"43\", \"44\", \"45\"], \"mode\": \"markers\", \"name\": \"recall_score_weighted\", \"stepped\": false, \"type\": \"scatter\", \"data\": [0.8085714285714285, 0.8342857142857143, 0.8628571428571428, 0.8619047619047618, 0.8485714285714285, 0.8352380952380951, 0.8628571428571428, 0.8761904761904761, 0.8085714285714285, 0.8914285714285715, 0.8219047619047618, 0.8352380952380951, 0.8638095238095239, 0.8066666666666666, 0.7933333333333333, 0.7371428571428571, 0.8914285714285715, 0.8209523809523809, 0.8647619047619048, 0.8352380952380953, 0.7933333333333333, 0.917142857142857, 0.8352380952380953, 0.8495238095238096, 0.8619047619047618, 0.8619047619047618, 0.8485714285714285, 0.8904761904761905, 0.8361904761904763, 0.8209523809523809, 0.837142857142857, 0.8352380952380953, 0.8333333333333333, 0.821904761904762, 0.8085714285714285, 0.7952380952380953, 0.8495238095238096, 0.9047619047619048, 0.8076190476190476, 0.7799999999999999, 0.8076190476190476, 0.9180952380952381, 0.8914285714285715]}, {\"categories\": [\"0\", \"2\", \"3\", \"4\", \"5\", \"6\", \"7\", \"9\", \"10\", \"11\", \"12\", \"14\", \"15\", \"16\", \"17\", \"18\", \"19\", \"20\", \"21\", \"22\", \"23\", \"24\", \"25\", \"26\", \"27\", \"28\", \"29\", \"30\", \"31\", \"32\", \"33\", \"34\", \"35\", \"36\", \"37\", \"38\", \"39\", \"40\", \"41\", \"42\", \"43\", \"44\", \"45\"], \"mode\": \"lines\", \"name\": \"recall_score_weighted_max\", \"stepped\": true, \"type\": \"scatter\", \"data\": [0.8085714285714285, 0.8342857142857143, 0.8628571428571428, 0.8628571428571428, 0.8628571428571428, 0.8628571428571428, 0.8628571428571428, 0.8761904761904761, 0.8761904761904761, 0.8914285714285715, 0.8914285714285715, 0.8914285714285715, 0.8914285714285715, 0.8914285714285715, 0.8914285714285715, 0.8914285714285715, 0.8914285714285715, 0.8914285714285715, 0.8914285714285715, 0.8914285714285715, 0.8914285714285715, 0.917142857142857, 0.917142857142857, 0.917142857142857, 0.917142857142857, 0.917142857142857, 0.917142857142857, 0.917142857142857, 0.917142857142857, 0.917142857142857, 0.917142857142857, 0.917142857142857, 0.917142857142857, 0.917142857142857, 0.917142857142857, 0.917142857142857, 0.917142857142857, 0.917142857142857, 0.917142857142857, 0.917142857142857, 0.917142857142857, 0.9180952380952381, 0.9180952380952381]}], \"f1_score_micro\": [{\"categories\": [\"0\", \"2\", \"3\", \"4\", \"5\", \"6\", \"7\", \"9\", \"10\", \"11\", \"12\", \"14\", \"15\", \"16\", \"17\", \"18\", \"19\", \"20\", \"21\", \"22\", \"23\", \"24\", \"25\", \"26\", \"27\", \"28\", \"29\", \"30\", \"31\", \"32\", \"33\", \"34\", \"35\", \"36\", \"37\", \"38\", \"39\", \"40\", \"41\", \"42\", \"43\", \"44\", \"45\"], \"mode\": \"markers\", \"name\": \"f1_score_micro\", \"stepped\": false, \"type\": \"scatter\", \"data\": [0.8085714285714285, 0.8342857142857143, 0.8628571428571428, 0.8619047619047618, 0.8485714285714285, 0.8352380952380951, 0.8628571428571428, 0.8761904761904761, 0.8085714285714285, 0.8914285714285715, 0.8219047619047618, 0.8352380952380951, 0.8638095238095239, 0.8066666666666666, 0.7933333333333333, 0.7371428571428571, 0.8914285714285715, 0.8209523809523809, 0.8647619047619048, 0.8352380952380953, 0.7933333333333333, 0.917142857142857, 0.8352380952380953, 0.8495238095238096, 0.8619047619047618, 0.8619047619047618, 0.8485714285714285, 0.8904761904761905, 0.8361904761904763, 0.8209523809523809, 0.837142857142857, 0.8352380952380953, 0.8333333333333334, 0.821904761904762, 0.8085714285714285, 0.7952380952380953, 0.8495238095238096, 0.9047619047619048, 0.8076190476190476, 0.7799999999999999, 0.8076190476190476, 0.9180952380952381, 0.8914285714285715]}, {\"categories\": [\"0\", \"2\", \"3\", \"4\", \"5\", \"6\", \"7\", \"9\", \"10\", \"11\", \"12\", \"14\", \"15\", \"16\", \"17\", \"18\", \"19\", \"20\", \"21\", \"22\", \"23\", \"24\", \"25\", \"26\", \"27\", \"28\", \"29\", \"30\", \"31\", \"32\", \"33\", \"34\", \"35\", \"36\", \"37\", \"38\", \"39\", \"40\", \"41\", \"42\", \"43\", \"44\", \"45\"], \"mode\": \"lines\", \"name\": \"f1_score_micro_max\", \"stepped\": true, \"type\": \"scatter\", \"data\": [0.8085714285714285, 0.8342857142857143, 0.8628571428571428, 0.8628571428571428, 0.8628571428571428, 0.8628571428571428, 0.8628571428571428, 0.8761904761904761, 0.8761904761904761, 0.8914285714285715, 0.8914285714285715, 0.8914285714285715, 0.8914285714285715, 0.8914285714285715, 0.8914285714285715, 0.8914285714285715, 0.8914285714285715, 0.8914285714285715, 0.8914285714285715, 0.8914285714285715, 0.8914285714285715, 0.917142857142857, 0.917142857142857, 0.917142857142857, 0.917142857142857, 0.917142857142857, 0.917142857142857, 0.917142857142857, 0.917142857142857, 0.917142857142857, 0.917142857142857, 0.917142857142857, 0.917142857142857, 0.917142857142857, 0.917142857142857, 0.917142857142857, 0.917142857142857, 0.917142857142857, 0.917142857142857, 0.917142857142857, 0.917142857142857, 0.9180952380952381, 0.9180952380952381]}], \"f1_score_macro\": [{\"categories\": [\"0\", \"2\", \"3\", \"4\", \"5\", \"6\", \"7\", \"9\", \"10\", \"11\", \"12\", \"14\", \"15\", \"16\", \"17\", \"18\", \"19\", \"20\", \"21\", \"22\", \"23\", \"24\", \"25\", \"26\", \"27\", \"28\", \"29\", \"30\", \"31\", \"32\", \"33\", \"34\", \"35\", \"36\", \"37\", \"38\", \"39\", \"40\", \"41\", \"42\", \"43\", \"44\", \"45\"], \"mode\": \"markers\", \"name\": \"f1_score_macro\", \"stepped\": false, \"type\": \"scatter\", \"data\": [0.7514386096994793, 0.7777777777777779, 0.8046100759144238, 0.8068693472812466, 0.8011307583847629, 0.7833229813664596, 0.820178377432382, 0.8337198067632849, 0.7102173913043478, 0.867171882274857, 0.7566908212560387, 0.7709247757073843, 0.8067603990212685, 0.7244340924775707, 0.7241370223978919, 0.5358260869565218, 0.8675757575757576, 0.7391442374051069, 0.8064009661835749, 0.7612870945479641, 0.7015264445699229, 0.8788810795103702, 0.7792566396227724, 0.7980331262939959, 0.8403174603174604, 0.8403174603174604, 0.78432022084196, 0.8522698412698413, 0.7627272727272727, 0.7465769496204278, 0.7951861868109008, 0.7612870945479641, 0.7960287081339713, 0.7383794466403162, 0.7525914423740512, 0.733813700918964, 0.7846175418784115, 0.8821789321789322, 0.7531673881673882, 0.6264808034579201, 0.7236693017127799, 0.8797979797979798, 0.8475757575757576]}, {\"categories\": [\"0\", \"2\", \"3\", \"4\", \"5\", \"6\", \"7\", \"9\", \"10\", \"11\", \"12\", \"14\", \"15\", \"16\", \"17\", \"18\", \"19\", \"20\", \"21\", \"22\", \"23\", \"24\", \"25\", \"26\", \"27\", \"28\", \"29\", \"30\", \"31\", \"32\", \"33\", \"34\", \"35\", \"36\", \"37\", \"38\", \"39\", \"40\", \"41\", \"42\", \"43\", \"44\", \"45\"], \"mode\": \"lines\", \"name\": \"f1_score_macro_max\", \"stepped\": true, \"type\": \"scatter\", \"data\": [0.7514386096994793, 0.7777777777777779, 0.8046100759144238, 0.8068693472812466, 0.8068693472812466, 0.8068693472812466, 0.820178377432382, 0.8337198067632849, 0.8337198067632849, 0.867171882274857, 0.867171882274857, 0.867171882274857, 0.867171882274857, 0.867171882274857, 0.867171882274857, 0.867171882274857, 0.8675757575757576, 0.8675757575757576, 0.8675757575757576, 0.8675757575757576, 0.8675757575757576, 0.8788810795103702, 0.8788810795103702, 0.8788810795103702, 0.8788810795103702, 0.8788810795103702, 0.8788810795103702, 0.8788810795103702, 0.8788810795103702, 0.8788810795103702, 0.8788810795103702, 0.8788810795103702, 0.8788810795103702, 0.8788810795103702, 0.8788810795103702, 0.8788810795103702, 0.8788810795103702, 0.8821789321789322, 0.8821789321789322, 0.8821789321789322, 0.8821789321789322, 0.8821789321789322, 0.8821789321789322]}], \"average_precision_score_macro\": [{\"categories\": [\"0\", \"2\", \"3\", \"4\", \"5\", \"6\", \"7\", \"9\", \"10\", \"11\", \"12\", \"14\", \"15\", \"16\", \"17\", \"18\", \"19\", \"20\", \"21\", \"22\", \"23\", \"24\", \"25\", \"26\", \"27\", \"28\", \"29\", \"30\", \"31\", \"32\", \"33\", \"34\", \"35\", \"36\", \"37\", \"38\", \"39\", \"40\", \"41\", \"42\", \"43\", \"44\", \"45\"], \"mode\": \"markers\", \"name\": \"average_precision_score_macro\", \"stepped\": false, \"type\": \"scatter\", \"data\": [0.8999873422032513, 0.908116769143555, 0.9059483463866581, 0.9338783686551544, 0.9302127287395144, 0.9243294205794207, 0.9177654974895233, 0.9503725688993546, 0.913658633033633, 0.924855006105006, 0.8804726712681259, 0.923756659105685, 0.9114188888512482, 0.8417276315855862, 0.9475118185386042, 0.8145553801357373, 0.9066708688137259, 0.8856221776960413, 0.8805127403260521, 0.9584973607741466, 0.8768724065436728, 0.9415626807956354, 0.9328086924999803, 0.9479044566544566, 0.9546944206587064, 0.9546944206587064, 0.9196886248671963, 0.9412555920510467, 0.9306932423636969, 0.9428006616399474, 0.9075572929956047, 0.9409787434787434, 0.9333512568780427, 0.9109972558105675, 0.9049944747712605, 0.8671272250476797, 0.942660927456382, 0.9260229790952194, 0.8895968754569944, 0.8706310644622333, 0.8765312010320129, 0.9428224296446699, 0.9428224296446699]}, {\"categories\": [\"0\", \"2\", \"3\", \"4\", \"5\", \"6\", \"7\", \"9\", \"10\", \"11\", \"12\", \"14\", \"15\", \"16\", \"17\", \"18\", \"19\", \"20\", \"21\", \"22\", \"23\", \"24\", \"25\", \"26\", \"27\", \"28\", \"29\", \"30\", \"31\", \"32\", \"33\", \"34\", \"35\", \"36\", \"37\", \"38\", \"39\", \"40\", \"41\", \"42\", \"43\", \"44\", \"45\"], \"mode\": \"lines\", \"name\": \"average_precision_score_macro_max\", \"stepped\": true, \"type\": \"scatter\", \"data\": [0.8999873422032513, 0.908116769143555, 0.908116769143555, 0.9338783686551544, 0.9338783686551544, 0.9338783686551544, 0.9338783686551544, 0.9503725688993546, 0.9503725688993546, 0.9503725688993546, 0.9503725688993546, 0.9503725688993546, 0.9503725688993546, 0.9503725688993546, 0.9503725688993546, 0.9503725688993546, 0.9503725688993546, 0.9503725688993546, 0.9503725688993546, 0.9584973607741466, 0.9584973607741466, 0.9584973607741466, 0.9584973607741466, 0.9584973607741466, 0.9584973607741466, 0.9584973607741466, 0.9584973607741466, 0.9584973607741466, 0.9584973607741466, 0.9584973607741466, 0.9584973607741466, 0.9584973607741466, 0.9584973607741466, 0.9584973607741466, 0.9584973607741466, 0.9584973607741466, 0.9584973607741466, 0.9584973607741466, 0.9584973607741466, 0.9584973607741466, 0.9584973607741466, 0.9584973607741466, 0.9584973607741466]}], \"AUC_weighted\": [{\"categories\": [\"0\", \"2\", \"3\", \"4\", \"5\", \"6\", \"7\", \"9\", \"10\", \"11\", \"12\", \"14\", \"15\", \"16\", \"17\", \"18\", \"19\", \"20\", \"21\", \"22\", \"23\", \"24\", \"25\", \"26\", \"27\", \"28\", \"29\", \"30\", \"31\", \"32\", \"33\", \"34\", \"35\", \"36\", \"37\", \"38\", \"39\", \"40\", \"41\", \"42\", \"43\", \"44\", \"45\"], \"mode\": \"markers\", \"name\": \"AUC_weighted\", \"stepped\": false, \"type\": \"scatter\", \"data\": [0.9016233766233765, 0.9104545454545455, 0.8987012987012987, 0.944047619047619, 0.9403679653679655, 0.9228354978354979, 0.9167748917748918, 0.9583333333333334, 0.9176406926406926, 0.9476190476190476, 0.8975108225108224, 0.9266233766233766, 0.9100505050505051, 0.8500541125541126, 0.9535714285714285, 0.8299242424242423, 0.925, 0.8856060606060605, 0.8908008658008658, 0.9654761904761905, 0.8642316017316019, 0.9337662337662337, 0.9363419913419915, 0.954978354978355, 0.9637301587301588, 0.9637301587301588, 0.9293831168831168, 0.9365800865800866, 0.9367821067821069, 0.9464285714285715, 0.9042207792207793, 0.9454545454545455, 0.9383910533910533, 0.9082251082251082, 0.9183982683982684, 0.8958730158730159, 0.9346176046176046, 0.9516233766233766, 0.8977056277056278, 0.8864177489177489, 0.8902597402597403, 0.9480519480519479, 0.9480519480519479]}, {\"categories\": [\"0\", \"2\", \"3\", \"4\", \"5\", \"6\", \"7\", \"9\", \"10\", \"11\", \"12\", \"14\", \"15\", \"16\", \"17\", \"18\", \"19\", \"20\", \"21\", \"22\", \"23\", \"24\", \"25\", \"26\", \"27\", \"28\", \"29\", \"30\", \"31\", \"32\", \"33\", \"34\", \"35\", \"36\", \"37\", \"38\", \"39\", \"40\", \"41\", \"42\", \"43\", \"44\", \"45\"], \"mode\": \"lines\", \"name\": \"AUC_weighted_max\", \"stepped\": true, \"type\": \"scatter\", \"data\": [0.9016233766233765, 0.9104545454545455, 0.9104545454545455, 0.944047619047619, 0.944047619047619, 0.944047619047619, 0.944047619047619, 0.9583333333333334, 0.9583333333333334, 0.9583333333333334, 0.9583333333333334, 0.9583333333333334, 0.9583333333333334, 0.9583333333333334, 0.9583333333333334, 0.9583333333333334, 0.9583333333333334, 0.9583333333333334, 0.9583333333333334, 0.9654761904761905, 0.9654761904761905, 0.9654761904761905, 0.9654761904761905, 0.9654761904761905, 0.9654761904761905, 0.9654761904761905, 0.9654761904761905, 0.9654761904761905, 0.9654761904761905, 0.9654761904761905, 0.9654761904761905, 0.9654761904761905, 0.9654761904761905, 0.9654761904761905, 0.9654761904761905, 0.9654761904761905, 0.9654761904761905, 0.9654761904761905, 0.9654761904761905, 0.9654761904761905, 0.9654761904761905, 0.9654761904761905, 0.9654761904761905]}], \"precision_score_weighted\": [{\"categories\": [\"0\", \"2\", \"3\", \"4\", \"5\", \"6\", \"7\", \"9\", \"10\", \"11\", \"12\", \"14\", \"15\", \"16\", \"17\", \"18\", \"19\", \"20\", \"21\", \"22\", \"23\", \"24\", \"25\", \"26\", \"27\", \"28\", \"29\", \"30\", \"31\", \"32\", \"33\", \"34\", \"35\", \"36\", \"37\", \"38\", \"39\", \"40\", \"41\", \"42\", \"43\", \"44\", \"45\"], \"mode\": \"markers\", \"name\": \"precision_score_weighted\", \"stepped\": false, \"type\": \"scatter\", \"data\": [0.8643447293447293, 0.8561660561660563, 0.8990248640248639, 0.8983899433899433, 0.8674531024531025, 0.8542135642135641, 0.8781673881673882, 0.8917647907647905, 0.7692814962814962, 0.9113708513708513, 0.8587434787434788, 0.8784015984015984, 0.9055000555000554, 0.8565401265401265, 0.8268370518370517, 0.6118758067329496, 0.9101587301587302, 0.8626007326007328, 0.8881807081807083, 0.8713669663669664, 0.8518514818514819, 0.9250158730158731, 0.8629028379028378, 0.8602741702741703, 0.8929523809523812, 0.8929523809523812, 0.8817088467088467, 0.90610323010323, 0.8797735597735598, 0.8653063603063602, 0.8602837902837901, 0.8713669663669664, 0.8615079365079363, 0.8666783216783216, 0.858002738002738, 0.795959706959707, 0.8967338217338217, 0.9283809523809523, 0.861026307026307, 0.7103049965907109, 0.8606177156177155, 0.9234285714285715, 0.9092063492063491]}, {\"categories\": [\"0\", \"2\", \"3\", \"4\", \"5\", \"6\", \"7\", \"9\", \"10\", \"11\", \"12\", \"14\", \"15\", \"16\", \"17\", \"18\", \"19\", \"20\", \"21\", \"22\", \"23\", \"24\", \"25\", \"26\", \"27\", \"28\", \"29\", \"30\", \"31\", \"32\", \"33\", \"34\", \"35\", \"36\", \"37\", \"38\", \"39\", \"40\", \"41\", \"42\", \"43\", \"44\", \"45\"], \"mode\": \"lines\", \"name\": \"precision_score_weighted_max\", \"stepped\": true, \"type\": \"scatter\", \"data\": [0.8643447293447293, 0.8643447293447293, 0.8990248640248639, 0.8990248640248639, 0.8990248640248639, 0.8990248640248639, 0.8990248640248639, 0.8990248640248639, 0.8990248640248639, 0.9113708513708513, 0.9113708513708513, 0.9113708513708513, 0.9113708513708513, 0.9113708513708513, 0.9113708513708513, 0.9113708513708513, 0.9113708513708513, 0.9113708513708513, 0.9113708513708513, 0.9113708513708513, 0.9113708513708513, 0.9250158730158731, 0.9250158730158731, 0.9250158730158731, 0.9250158730158731, 0.9250158730158731, 0.9250158730158731, 0.9250158730158731, 0.9250158730158731, 0.9250158730158731, 0.9250158730158731, 0.9250158730158731, 0.9250158730158731, 0.9250158730158731, 0.9250158730158731, 0.9250158730158731, 0.9250158730158731, 0.9283809523809523, 0.9283809523809523, 0.9283809523809523, 0.9283809523809523, 0.9283809523809523, 0.9283809523809523]}], \"average_precision_score_weighted\": [{\"categories\": [\"0\", \"2\", \"3\", \"4\", \"5\", \"6\", \"7\", \"9\", \"10\", \"11\", \"12\", \"14\", \"15\", \"16\", \"17\", \"18\", \"19\", \"20\", \"21\", \"22\", \"23\", \"24\", \"25\", \"26\", \"27\", \"28\", \"29\", \"30\", \"31\", \"32\", \"33\", \"34\", \"35\", \"36\", \"37\", \"38\", \"39\", \"40\", \"41\", \"42\", \"43\", \"44\", \"45\"], \"mode\": \"markers\", \"name\": \"average_precision_score_weighted\", \"stepped\": false, \"type\": \"scatter\", \"data\": [0.9293849113849115, 0.9337239189382046, 0.9307642357642358, 0.9505628815628816, 0.9552214452214451, 0.9484140674140675, 0.9392380212380212, 0.9677411477411478, 0.9335874125874126, 0.9540584917727776, 0.9251135108277966, 0.9472866022866022, 0.9289103753389469, 0.8954827474113187, 0.9679556739556741, 0.8678553192838907, 0.9416101993244851, 0.9212687682687684, 0.9169547806690664, 0.9753542013542014, 0.9083601213601215, 0.9680172605172604, 0.9588011882297597, 0.9617392237392238, 0.9733022533022533, 0.9733022533022533, 0.9416646686646686, 0.9682391048105334, 0.9521127391127392, 0.9628246198246198, 0.9317469197469197, 0.9627505457505456, 0.9576217750503465, 0.929944314944315, 0.9357106227106227, 0.9084667131809988, 0.9482467532467531, 0.9635724592867451, 0.9235517709803425, 0.912653489367775, 0.9213191940334797, 0.9658592518592519, 0.9658592518592519]}, {\"categories\": [\"0\", \"2\", \"3\", \"4\", \"5\", \"6\", \"7\", \"9\", \"10\", \"11\", \"12\", \"14\", \"15\", \"16\", \"17\", \"18\", \"19\", \"20\", \"21\", \"22\", \"23\", \"24\", \"25\", \"26\", \"27\", \"28\", \"29\", \"30\", \"31\", \"32\", \"33\", \"34\", \"35\", \"36\", \"37\", \"38\", \"39\", \"40\", \"41\", \"42\", \"43\", \"44\", \"45\"], \"mode\": \"lines\", \"name\": \"average_precision_score_weighted_max\", \"stepped\": true, \"type\": \"scatter\", \"data\": [0.9293849113849115, 0.9337239189382046, 0.9337239189382046, 0.9505628815628816, 0.9552214452214451, 0.9552214452214451, 0.9552214452214451, 0.9677411477411478, 0.9677411477411478, 0.9677411477411478, 0.9677411477411478, 0.9677411477411478, 0.9677411477411478, 0.9677411477411478, 0.9679556739556741, 0.9679556739556741, 0.9679556739556741, 0.9679556739556741, 0.9679556739556741, 0.9753542013542014, 0.9753542013542014, 0.9753542013542014, 0.9753542013542014, 0.9753542013542014, 0.9753542013542014, 0.9753542013542014, 0.9753542013542014, 0.9753542013542014, 0.9753542013542014, 0.9753542013542014, 0.9753542013542014, 0.9753542013542014, 0.9753542013542014, 0.9753542013542014, 0.9753542013542014, 0.9753542013542014, 0.9753542013542014, 0.9753542013542014, 0.9753542013542014, 0.9753542013542014, 0.9753542013542014, 0.9753542013542014, 0.9753542013542014]}], \"weighted_accuracy\": [{\"categories\": [\"0\", \"2\", \"3\", \"4\", \"5\", \"6\", \"7\", \"9\", \"10\", \"11\", \"12\", \"14\", \"15\", \"16\", \"17\", \"18\", \"19\", \"20\", \"21\", \"22\", \"23\", \"24\", \"25\", \"26\", \"27\", \"28\", \"29\", \"30\", \"31\", \"32\", \"33\", \"34\", \"35\", \"36\", \"37\", \"38\", \"39\", \"40\", \"41\", \"42\", \"43\", \"44\", \"45\"], \"mode\": \"markers\", \"name\": \"weighted_accuracy\", \"stepped\": false, \"type\": \"scatter\", \"data\": [0.8280717628382508, 0.8670145381611537, 0.8924631615362187, 0.888868615330462, 0.8689515954599507, 0.8640513295879033, 0.8858746723830275, 0.8907749382550751, 0.859193276103792, 0.8980113373498814, 0.8563128114043235, 0.8723712055649073, 0.8982536735247605, 0.8583218586853718, 0.8373803126979082, 0.8216606200805702, 0.891461372877302, 0.874538074901588, 0.8913969521488415, 0.8839720371657389, 0.8459324781543984, 0.941028941696589, 0.8664150318043282, 0.8802675458041195, 0.857550429222826, 0.857550429222826, 0.8898114532241331, 0.9156944073274864, 0.8761980412501501, 0.8677558209495227, 0.8471334521654267, 0.8839720371657389, 0.8399748391219373, 0.8715826566347655, 0.8300354391415498, 0.8187802448765064, 0.8888197112606097, 0.9048326021260585, 0.8298776170859175, 0.8431802529209576, 0.8553664404185494, 0.934404509800156, 0.9096257487382091]}, {\"categories\": [\"0\", \"2\", \"3\", \"4\", \"5\", \"6\", \"7\", \"9\", \"10\", \"11\", \"12\", \"14\", \"15\", \"16\", \"17\", \"18\", \"19\", \"20\", \"21\", \"22\", \"23\", \"24\", \"25\", \"26\", \"27\", \"28\", \"29\", \"30\", \"31\", \"32\", \"33\", \"34\", \"35\", \"36\", \"37\", \"38\", \"39\", \"40\", \"41\", \"42\", \"43\", \"44\", \"45\"], \"mode\": \"lines\", \"name\": \"weighted_accuracy_max\", \"stepped\": true, \"type\": \"scatter\", \"data\": [0.8280717628382508, 0.8670145381611537, 0.8924631615362187, 0.8924631615362187, 0.8924631615362187, 0.8924631615362187, 0.8924631615362187, 0.8924631615362187, 0.8924631615362187, 0.8980113373498814, 0.8980113373498814, 0.8980113373498814, 0.8982536735247605, 0.8982536735247605, 0.8982536735247605, 0.8982536735247605, 0.8982536735247605, 0.8982536735247605, 0.8982536735247605, 0.8982536735247605, 0.8982536735247605, 0.941028941696589, 0.941028941696589, 0.941028941696589, 0.941028941696589, 0.941028941696589, 0.941028941696589, 0.941028941696589, 0.941028941696589, 0.941028941696589, 0.941028941696589, 0.941028941696589, 0.941028941696589, 0.941028941696589, 0.941028941696589, 0.941028941696589, 0.941028941696589, 0.941028941696589, 0.941028941696589, 0.941028941696589, 0.941028941696589, 0.941028941696589, 0.941028941696589]}], \"log_loss\": [{\"categories\": [\"0\", \"2\", \"3\", \"4\", \"5\", \"6\", \"7\", \"9\", \"10\", \"11\", \"12\", \"14\", \"15\", \"16\", \"17\", \"18\", \"19\", \"20\", \"21\", \"22\", \"23\", \"24\", \"25\", \"26\", \"27\", \"28\", \"29\", \"30\", \"31\", \"32\", \"33\", \"34\", \"35\", \"36\", \"37\", \"38\", \"39\", \"40\", \"41\", \"42\", \"43\", \"44\", \"45\"], \"mode\": \"markers\", \"name\": \"log_loss\", \"stepped\": false, \"type\": \"scatter\", \"data\": [0.43363170374045434, 0.7507400140755431, 0.40323466496124316, 0.7672697438740544, 0.26560895619576913, 0.3670821734654822, 0.3461358723883928, 0.25132547849600956, 0.423506417247821, 0.35470845872472934, 0.40069948423339846, 0.37614765764617847, 0.41014028597707586, 0.46902376779983135, 0.3831017516795179, 0.5212927763510801, 0.3613501468223374, 0.4447066700797656, 0.4044946249522551, 0.36069976995603403, 0.4784213299569296, 0.23109577433163123, 0.2943074186369109, 0.3321657901400841, 0.3694442033473466, 0.34164177437407095, 0.7143145181981448, 0.24858953308232015, 0.34138300302212216, 0.33319629963040065, 0.3734731048800579, 0.3644995766988864, 0.3961944189760915, 0.41351051387758125, 0.38651283712480666, 0.4181651181197553, 0.40790922421227094, 0.35581163634966617, 0.38199061644991883, 0.48008532431025513, 0.458047726241522, 0.24165389674909057, 0.2760491063835769]}, {\"categories\": [\"0\", \"2\", \"3\", \"4\", \"5\", \"6\", \"7\", \"9\", \"10\", \"11\", \"12\", \"14\", \"15\", \"16\", \"17\", \"18\", \"19\", \"20\", \"21\", \"22\", \"23\", \"24\", \"25\", \"26\", \"27\", \"28\", \"29\", \"30\", \"31\", \"32\", \"33\", \"34\", \"35\", \"36\", \"37\", \"38\", \"39\", \"40\", \"41\", \"42\", \"43\", \"44\", \"45\"], \"mode\": \"lines\", \"name\": \"log_loss_min\", \"stepped\": true, \"type\": \"scatter\", \"data\": [0.43363170374045434, 0.43363170374045434, 0.40323466496124316, 0.40323466496124316, 0.26560895619576913, 0.26560895619576913, 0.26560895619576913, 0.25132547849600956, 0.25132547849600956, 0.25132547849600956, 0.25132547849600956, 0.25132547849600956, 0.25132547849600956, 0.25132547849600956, 0.25132547849600956, 0.25132547849600956, 0.25132547849600956, 0.25132547849600956, 0.25132547849600956, 0.25132547849600956, 0.25132547849600956, 0.23109577433163123, 0.23109577433163123, 0.23109577433163123, 0.23109577433163123, 0.23109577433163123, 0.23109577433163123, 0.23109577433163123, 0.23109577433163123, 0.23109577433163123, 0.23109577433163123, 0.23109577433163123, 0.23109577433163123, 0.23109577433163123, 0.23109577433163123, 0.23109577433163123, 0.23109577433163123, 0.23109577433163123, 0.23109577433163123, 0.23109577433163123, 0.23109577433163123, 0.23109577433163123, 0.23109577433163123]}], \"accuracy\": [{\"categories\": [\"0\", \"2\", \"3\", \"4\", \"5\", \"6\", \"7\", \"9\", \"10\", \"11\", \"12\", \"14\", \"15\", \"16\", \"17\", \"18\", \"19\", \"20\", \"21\", \"22\", \"23\", \"24\", \"25\", \"26\", \"27\", \"28\", \"29\", \"30\", \"31\", \"32\", \"33\", \"34\", \"35\", \"36\", \"37\", \"38\", \"39\", \"40\", \"41\", \"42\", \"43\", \"44\", \"45\"], \"mode\": \"markers\", \"name\": \"accuracy\", \"stepped\": false, \"type\": \"scatter\", \"data\": [0.8085714285714285, 0.8342857142857143, 0.8628571428571428, 0.8619047619047618, 0.8485714285714285, 0.8352380952380951, 0.8628571428571428, 0.8761904761904761, 0.8085714285714285, 0.8914285714285715, 0.8219047619047618, 0.8352380952380951, 0.8638095238095239, 0.8066666666666666, 0.7933333333333333, 0.7371428571428571, 0.8914285714285715, 0.8209523809523809, 0.8647619047619048, 0.8352380952380953, 0.7933333333333333, 0.917142857142857, 0.8352380952380953, 0.8495238095238096, 0.8619047619047618, 0.8619047619047618, 0.8485714285714285, 0.8904761904761905, 0.8361904761904763, 0.8209523809523809, 0.837142857142857, 0.8352380952380953, 0.8333333333333333, 0.821904761904762, 0.8085714285714285, 0.7952380952380953, 0.8495238095238096, 0.9047619047619048, 0.8076190476190476, 0.7799999999999999, 0.8076190476190476, 0.9180952380952381, 0.8914285714285715]}, {\"categories\": [\"0\", \"2\", \"3\", \"4\", \"5\", \"6\", \"7\", \"9\", \"10\", \"11\", \"12\", \"14\", \"15\", \"16\", \"17\", \"18\", \"19\", \"20\", \"21\", \"22\", \"23\", \"24\", \"25\", \"26\", \"27\", \"28\", \"29\", \"30\", \"31\", \"32\", \"33\", \"34\", \"35\", \"36\", \"37\", \"38\", \"39\", \"40\", \"41\", \"42\", \"43\", \"44\", \"45\"], \"mode\": \"lines\", \"name\": \"accuracy_max\", \"stepped\": true, \"type\": \"scatter\", \"data\": [0.8085714285714285, 0.8342857142857143, 0.8628571428571428, 0.8628571428571428, 0.8628571428571428, 0.8628571428571428, 0.8628571428571428, 0.8761904761904761, 0.8761904761904761, 0.8914285714285715, 0.8914285714285715, 0.8914285714285715, 0.8914285714285715, 0.8914285714285715, 0.8914285714285715, 0.8914285714285715, 0.8914285714285715, 0.8914285714285715, 0.8914285714285715, 0.8914285714285715, 0.8914285714285715, 0.917142857142857, 0.917142857142857, 0.917142857142857, 0.917142857142857, 0.917142857142857, 0.917142857142857, 0.917142857142857, 0.917142857142857, 0.917142857142857, 0.917142857142857, 0.917142857142857, 0.917142857142857, 0.917142857142857, 0.917142857142857, 0.917142857142857, 0.917142857142857, 0.917142857142857, 0.917142857142857, 0.917142857142857, 0.917142857142857, 0.9180952380952381, 0.9180952380952381]}], \"recall_score_macro\": [{\"categories\": [\"0\", \"2\", \"3\", \"4\", \"5\", \"6\", \"7\", \"9\", \"10\", \"11\", \"12\", \"14\", \"15\", \"16\", \"17\", \"18\", \"19\", \"20\", \"21\", \"22\", \"23\", \"24\", \"25\", \"26\", \"27\", \"28\", \"29\", \"30\", \"31\", \"32\", \"33\", \"34\", \"35\", \"36\", \"37\", \"38\", \"39\", \"40\", \"41\", \"42\", \"43\", \"44\", \"45\"], \"mode\": \"markers\", \"name\": \"recall_score_macro\", \"stepped\": false, \"type\": \"scatter\", \"data\": [0.767965367965368, 0.7723015873015873, 0.8035714285714285, 0.8085714285714285, 0.8095995670995672, 0.7844047619047618, 0.8186904761904763, 0.8438852813852815, 0.7183333333333334, 0.8886904761904763, 0.7628138528138528, 0.7719047619047619, 0.7992857142857142, 0.7185714285714285, 0.7177380952380952, 0.5916666666666666, 0.8994047619047618, 0.7269047619047619, 0.8111471861471861, 0.7469047619047618, 0.7042857142857143, 0.868095238095238, 0.7732034632034631, 0.7927380952380952, 0.879440836940837, 0.879440836940837, 0.7719047619047619, 0.8382467532467534, 0.7659523809523809, 0.7385714285714284, 0.811417748917749, 0.7469047619047618, 0.8164213564213565, 0.7326190476190476, 0.7696320346320347, 0.7491594516594516, 0.7792857142857142, 0.9115800865800866, 0.7703896103896104, 0.6633333333333333, 0.7242857142857142, 0.879004329004329, 0.8504329004329005]}, {\"categories\": [\"0\", \"2\", \"3\", \"4\", \"5\", \"6\", \"7\", \"9\", \"10\", \"11\", \"12\", \"14\", \"15\", \"16\", \"17\", \"18\", \"19\", \"20\", \"21\", \"22\", \"23\", \"24\", \"25\", \"26\", \"27\", \"28\", \"29\", \"30\", \"31\", \"32\", \"33\", \"34\", \"35\", \"36\", \"37\", \"38\", \"39\", \"40\", \"41\", \"42\", \"43\", \"44\", \"45\"], \"mode\": \"lines\", \"name\": \"recall_score_macro_max\", \"stepped\": true, \"type\": \"scatter\", \"data\": [0.767965367965368, 0.7723015873015873, 0.8035714285714285, 0.8085714285714285, 0.8095995670995672, 0.8095995670995672, 0.8186904761904763, 0.8438852813852815, 0.8438852813852815, 0.8886904761904763, 0.8886904761904763, 0.8886904761904763, 0.8886904761904763, 0.8886904761904763, 0.8886904761904763, 0.8886904761904763, 0.8994047619047618, 0.8994047619047618, 0.8994047619047618, 0.8994047619047618, 0.8994047619047618, 0.8994047619047618, 0.8994047619047618, 0.8994047619047618, 0.8994047619047618, 0.8994047619047618, 0.8994047619047618, 0.8994047619047618, 0.8994047619047618, 0.8994047619047618, 0.8994047619047618, 0.8994047619047618, 0.8994047619047618, 0.8994047619047618, 0.8994047619047618, 0.8994047619047618, 0.8994047619047618, 0.9115800865800866, 0.9115800865800866, 0.9115800865800866, 0.9115800865800866, 0.9115800865800866, 0.9115800865800866]}], \"balanced_accuracy\": [{\"categories\": [\"0\", \"2\", \"3\", \"4\", \"5\", \"6\", \"7\", \"9\", \"10\", \"11\", \"12\", \"14\", \"15\", \"16\", \"17\", \"18\", \"19\", \"20\", \"21\", \"22\", \"23\", \"24\", \"25\", \"26\", \"27\", \"28\", \"29\", \"30\", \"31\", \"32\", \"33\", \"34\", \"35\", \"36\", \"37\", \"38\", \"39\", \"40\", \"41\", \"42\", \"43\", \"44\", \"45\"], \"mode\": \"markers\", \"name\": \"balanced_accuracy\", \"stepped\": false, \"type\": \"scatter\", \"data\": [0.767965367965368, 0.7723015873015873, 0.8035714285714285, 0.8085714285714285, 0.8095995670995672, 0.7844047619047618, 0.8186904761904763, 0.8438852813852815, 0.7183333333333334, 0.8886904761904763, 0.7628138528138528, 0.7719047619047619, 0.7992857142857142, 0.7185714285714285, 0.7177380952380952, 0.5916666666666666, 0.8994047619047618, 0.7269047619047619, 0.8111471861471861, 0.7469047619047618, 0.7042857142857143, 0.868095238095238, 0.7732034632034631, 0.7927380952380952, 0.879440836940837, 0.879440836940837, 0.7719047619047619, 0.8382467532467534, 0.7659523809523809, 0.7385714285714284, 0.811417748917749, 0.7469047619047618, 0.8164213564213565, 0.7326190476190476, 0.7696320346320347, 0.7491594516594516, 0.7792857142857142, 0.9115800865800866, 0.7703896103896104, 0.6633333333333333, 0.7242857142857142, 0.879004329004329, 0.8504329004329005]}, {\"categories\": [\"0\", \"2\", \"3\", \"4\", \"5\", \"6\", \"7\", \"9\", \"10\", \"11\", \"12\", \"14\", \"15\", \"16\", \"17\", \"18\", \"19\", \"20\", \"21\", \"22\", \"23\", \"24\", \"25\", \"26\", \"27\", \"28\", \"29\", \"30\", \"31\", \"32\", \"33\", \"34\", \"35\", \"36\", \"37\", \"38\", \"39\", \"40\", \"41\", \"42\", \"43\", \"44\", \"45\"], \"mode\": \"lines\", \"name\": \"balanced_accuracy_max\", \"stepped\": true, \"type\": \"scatter\", \"data\": [0.767965367965368, 0.7723015873015873, 0.8035714285714285, 0.8085714285714285, 0.8095995670995672, 0.8095995670995672, 0.8186904761904763, 0.8438852813852815, 0.8438852813852815, 0.8886904761904763, 0.8886904761904763, 0.8886904761904763, 0.8886904761904763, 0.8886904761904763, 0.8886904761904763, 0.8886904761904763, 0.8994047619047618, 0.8994047619047618, 0.8994047619047618, 0.8994047619047618, 0.8994047619047618, 0.8994047619047618, 0.8994047619047618, 0.8994047619047618, 0.8994047619047618, 0.8994047619047618, 0.8994047619047618, 0.8994047619047618, 0.8994047619047618, 0.8994047619047618, 0.8994047619047618, 0.8994047619047618, 0.8994047619047618, 0.8994047619047618, 0.8994047619047618, 0.8994047619047618, 0.8994047619047618, 0.9115800865800866, 0.9115800865800866, 0.9115800865800866, 0.9115800865800866, 0.9115800865800866, 0.9115800865800866]}], \"AUC_macro\": [{\"categories\": [\"0\", \"2\", \"3\", \"4\", \"5\", \"6\", \"7\", \"9\", \"10\", \"11\", \"12\", \"14\", \"15\", \"16\", \"17\", \"18\", \"19\", \"20\", \"21\", \"22\", \"23\", \"24\", \"25\", \"26\", \"27\", \"28\", \"29\", \"30\", \"31\", \"32\", \"33\", \"34\", \"35\", \"36\", \"37\", \"38\", \"39\", \"40\", \"41\", \"42\", \"43\", \"44\", \"45\"], \"mode\": \"markers\", \"name\": \"AUC_macro\", \"stepped\": false, \"type\": \"scatter\", \"data\": [0.9016233766233765, 0.9104545454545455, 0.8987012987012987, 0.944047619047619, 0.9403679653679653, 0.9228354978354979, 0.9167748917748918, 0.9583333333333334, 0.9176406926406926, 0.9476190476190476, 0.8975108225108224, 0.9266233766233766, 0.9100505050505051, 0.8500541125541126, 0.9535714285714285, 0.8299242424242423, 0.925, 0.8856060606060605, 0.8908008658008658, 0.9654761904761905, 0.8642316017316016, 0.9337662337662337, 0.9363419913419915, 0.954978354978355, 0.9637301587301588, 0.9637301587301588, 0.9293831168831168, 0.9365800865800866, 0.9367821067821069, 0.9464285714285715, 0.9042207792207793, 0.9454545454545455, 0.9383910533910533, 0.9082251082251082, 0.9183982683982684, 0.8958730158730159, 0.9346176046176046, 0.9516233766233766, 0.8977056277056278, 0.8864177489177489, 0.8902597402597403, 0.9480519480519479, 0.9480519480519479]}, {\"categories\": [\"0\", \"2\", \"3\", \"4\", \"5\", \"6\", \"7\", \"9\", \"10\", \"11\", \"12\", \"14\", \"15\", \"16\", \"17\", \"18\", \"19\", \"20\", \"21\", \"22\", \"23\", \"24\", \"25\", \"26\", \"27\", \"28\", \"29\", \"30\", \"31\", \"32\", \"33\", \"34\", \"35\", \"36\", \"37\", \"38\", \"39\", \"40\", \"41\", \"42\", \"43\", \"44\", \"45\"], \"mode\": \"lines\", \"name\": \"AUC_macro_max\", \"stepped\": true, \"type\": \"scatter\", \"data\": [0.9016233766233765, 0.9104545454545455, 0.9104545454545455, 0.944047619047619, 0.944047619047619, 0.944047619047619, 0.944047619047619, 0.9583333333333334, 0.9583333333333334, 0.9583333333333334, 0.9583333333333334, 0.9583333333333334, 0.9583333333333334, 0.9583333333333334, 0.9583333333333334, 0.9583333333333334, 0.9583333333333334, 0.9583333333333334, 0.9583333333333334, 0.9654761904761905, 0.9654761904761905, 0.9654761904761905, 0.9654761904761905, 0.9654761904761905, 0.9654761904761905, 0.9654761904761905, 0.9654761904761905, 0.9654761904761905, 0.9654761904761905, 0.9654761904761905, 0.9654761904761905, 0.9654761904761905, 0.9654761904761905, 0.9654761904761905, 0.9654761904761905, 0.9654761904761905, 0.9654761904761905, 0.9654761904761905, 0.9654761904761905, 0.9654761904761905, 0.9654761904761905, 0.9654761904761905, 0.9654761904761905]}], \"average_precision_score_micro\": [{\"categories\": [\"0\", \"2\", \"3\", \"4\", \"5\", \"6\", \"7\", \"9\", \"10\", \"11\", \"12\", \"14\", \"15\", \"16\", \"17\", \"18\", \"19\", \"20\", \"21\", \"22\", \"23\", \"24\", \"25\", \"26\", \"27\", \"28\", \"29\", \"30\", \"31\", \"32\", \"33\", \"34\", \"35\", \"36\", \"37\", \"38\", \"39\", \"40\", \"41\", \"42\", \"43\", \"44\", \"45\"], \"mode\": \"markers\", \"name\": \"average_precision_score_micro\", \"stepped\": false, \"type\": \"scatter\", \"data\": [0.8952515088233796, 0.9200182238191967, 0.9227223538988245, 0.9304200125639754, 0.94856594774662, 0.9370940277227318, 0.9243875958342527, 0.9580114389967331, 0.9067579415731274, 0.9306956879099737, 0.9192419054772591, 0.9290838821024099, 0.9069012046989491, 0.8711910293205738, 0.9356826572734356, 0.8451202421137618, 0.9233460960509833, 0.8935441059153796, 0.9046636306757424, 0.9338837815705352, 0.87836240885918, 0.958964353962253, 0.9472708175856118, 0.9303183009873586, 0.953105813400484, 0.951481630393948, 0.9239897035566613, 0.958511183682568, 0.9294149025454862, 0.9281677807179797, 0.9180415629377997, 0.9340914276471072, 0.9344597398195363, 0.9138083570403264, 0.9141534627547212, 0.8928609324099968, 0.9109824603586809, 0.9495050301967595, 0.9128796457811706, 0.8851775905757551, 0.8948180435974331, 0.9581682864615194, 0.9555690079450583]}, {\"categories\": [\"0\", \"2\", \"3\", \"4\", \"5\", \"6\", \"7\", \"9\", \"10\", \"11\", \"12\", \"14\", \"15\", \"16\", \"17\", \"18\", \"19\", \"20\", \"21\", \"22\", \"23\", \"24\", \"25\", \"26\", \"27\", \"28\", \"29\", \"30\", \"31\", \"32\", \"33\", \"34\", \"35\", \"36\", \"37\", \"38\", \"39\", \"40\", \"41\", \"42\", \"43\", \"44\", \"45\"], \"mode\": \"lines\", \"name\": \"average_precision_score_micro_max\", \"stepped\": true, \"type\": \"scatter\", \"data\": [0.8952515088233796, 0.9200182238191967, 0.9227223538988245, 0.9304200125639754, 0.94856594774662, 0.94856594774662, 0.94856594774662, 0.9580114389967331, 0.9580114389967331, 0.9580114389967331, 0.9580114389967331, 0.9580114389967331, 0.9580114389967331, 0.9580114389967331, 0.9580114389967331, 0.9580114389967331, 0.9580114389967331, 0.9580114389967331, 0.9580114389967331, 0.9580114389967331, 0.9580114389967331, 0.958964353962253, 0.958964353962253, 0.958964353962253, 0.958964353962253, 0.958964353962253, 0.958964353962253, 0.958964353962253, 0.958964353962253, 0.958964353962253, 0.958964353962253, 0.958964353962253, 0.958964353962253, 0.958964353962253, 0.958964353962253, 0.958964353962253, 0.958964353962253, 0.958964353962253, 0.958964353962253, 0.958964353962253, 0.958964353962253, 0.958964353962253, 0.958964353962253]}], \"recall_score_micro\": [{\"categories\": [\"0\", \"2\", \"3\", \"4\", \"5\", \"6\", \"7\", \"9\", \"10\", \"11\", \"12\", \"14\", \"15\", \"16\", \"17\", \"18\", \"19\", \"20\", \"21\", \"22\", \"23\", \"24\", \"25\", \"26\", \"27\", \"28\", \"29\", \"30\", \"31\", \"32\", \"33\", \"34\", \"35\", \"36\", \"37\", \"38\", \"39\", \"40\", \"41\", \"42\", \"43\", \"44\", \"45\"], \"mode\": \"markers\", \"name\": \"recall_score_micro\", \"stepped\": false, \"type\": \"scatter\", \"data\": [0.8085714285714285, 0.8342857142857143, 0.8628571428571428, 0.8619047619047618, 0.8485714285714285, 0.8352380952380951, 0.8628571428571428, 0.8761904761904761, 0.8085714285714285, 0.8914285714285715, 0.8219047619047618, 0.8352380952380951, 0.8638095238095239, 0.8066666666666666, 0.7933333333333333, 0.7371428571428571, 0.8914285714285715, 0.8209523809523809, 0.8647619047619048, 0.8352380952380953, 0.7933333333333333, 0.917142857142857, 0.8352380952380953, 0.8495238095238096, 0.8619047619047618, 0.8619047619047618, 0.8485714285714285, 0.8904761904761905, 0.8361904761904763, 0.8209523809523809, 0.837142857142857, 0.8352380952380953, 0.8333333333333333, 0.821904761904762, 0.8085714285714285, 0.7952380952380953, 0.8495238095238096, 0.9047619047619048, 0.8076190476190476, 0.7799999999999999, 0.8076190476190476, 0.9180952380952381, 0.8914285714285715]}, {\"categories\": [\"0\", \"2\", \"3\", \"4\", \"5\", \"6\", \"7\", \"9\", \"10\", \"11\", \"12\", \"14\", \"15\", \"16\", \"17\", \"18\", \"19\", \"20\", \"21\", \"22\", \"23\", \"24\", \"25\", \"26\", \"27\", \"28\", \"29\", \"30\", \"31\", \"32\", \"33\", \"34\", \"35\", \"36\", \"37\", \"38\", \"39\", \"40\", \"41\", \"42\", \"43\", \"44\", \"45\"], \"mode\": \"lines\", \"name\": \"recall_score_micro_max\", \"stepped\": true, \"type\": \"scatter\", \"data\": [0.8085714285714285, 0.8342857142857143, 0.8628571428571428, 0.8628571428571428, 0.8628571428571428, 0.8628571428571428, 0.8628571428571428, 0.8761904761904761, 0.8761904761904761, 0.8914285714285715, 0.8914285714285715, 0.8914285714285715, 0.8914285714285715, 0.8914285714285715, 0.8914285714285715, 0.8914285714285715, 0.8914285714285715, 0.8914285714285715, 0.8914285714285715, 0.8914285714285715, 0.8914285714285715, 0.917142857142857, 0.917142857142857, 0.917142857142857, 0.917142857142857, 0.917142857142857, 0.917142857142857, 0.917142857142857, 0.917142857142857, 0.917142857142857, 0.917142857142857, 0.917142857142857, 0.917142857142857, 0.917142857142857, 0.917142857142857, 0.917142857142857, 0.917142857142857, 0.917142857142857, 0.917142857142857, 0.917142857142857, 0.917142857142857, 0.9180952380952381, 0.9180952380952381]}], \"AUC_micro\": [{\"categories\": [\"0\", \"2\", \"3\", \"4\", \"5\", \"6\", \"7\", \"9\", \"10\", \"11\", \"12\", \"14\", \"15\", \"16\", \"17\", \"18\", \"19\", \"20\", \"21\", \"22\", \"23\", \"24\", \"25\", \"26\", \"27\", \"28\", \"29\", \"30\", \"31\", \"32\", \"33\", \"34\", \"35\", \"36\", \"37\", \"38\", \"39\", \"40\", \"41\", \"42\", \"43\", \"44\", \"45\"], \"mode\": \"markers\", \"name\": \"AUC_micro\", \"stepped\": false, \"type\": \"scatter\", \"data\": [0.88481179138322, 0.9205986394557822, 0.9128253968253969, 0.930108843537415, 0.941764172335601, 0.9279047619047619, 0.9178956916099773, 0.9543401360544218, 0.8932380952380953, 0.9310657596371883, 0.9092380952380953, 0.919278911564626, 0.8938639455782313, 0.857655328798186, 0.9244489795918367, 0.8373424036281178, 0.9183582766439908, 0.8790839002267573, 0.8909659863945578, 0.9273786848072563, 0.8618004535147392, 0.9563492063492063, 0.9398231292517008, 0.923328798185941, 0.9491746031746032, 0.9473968253968256, 0.9230975056689343, 0.9535827664399094, 0.922702947845805, 0.9240544217687076, 0.9083492063492062, 0.9281678004535147, 0.9318594104308391, 0.8998866213151928, 0.9068344671201813, 0.8821451247165534, 0.8979138321995463, 0.9476916099773243, 0.9033469387755101, 0.8740136054421768, 0.8776689342403629, 0.9557551020408163, 0.9524625850340136]}, {\"categories\": [\"0\", \"2\", \"3\", \"4\", \"5\", \"6\", \"7\", \"9\", \"10\", \"11\", \"12\", \"14\", \"15\", \"16\", \"17\", \"18\", \"19\", \"20\", \"21\", \"22\", \"23\", \"24\", \"25\", \"26\", \"27\", \"28\", \"29\", \"30\", \"31\", \"32\", \"33\", \"34\", \"35\", \"36\", \"37\", \"38\", \"39\", \"40\", \"41\", \"42\", \"43\", \"44\", \"45\"], \"mode\": \"lines\", \"name\": \"AUC_micro_max\", \"stepped\": true, \"type\": \"scatter\", \"data\": [0.88481179138322, 0.9205986394557822, 0.9205986394557822, 0.930108843537415, 0.941764172335601, 0.941764172335601, 0.941764172335601, 0.9543401360544218, 0.9543401360544218, 0.9543401360544218, 0.9543401360544218, 0.9543401360544218, 0.9543401360544218, 0.9543401360544218, 0.9543401360544218, 0.9543401360544218, 0.9543401360544218, 0.9543401360544218, 0.9543401360544218, 0.9543401360544218, 0.9543401360544218, 0.9563492063492063, 0.9563492063492063, 0.9563492063492063, 0.9563492063492063, 0.9563492063492063, 0.9563492063492063, 0.9563492063492063, 0.9563492063492063, 0.9563492063492063, 0.9563492063492063, 0.9563492063492063, 0.9563492063492063, 0.9563492063492063, 0.9563492063492063, 0.9563492063492063, 0.9563492063492063, 0.9563492063492063, 0.9563492063492063, 0.9563492063492063, 0.9563492063492063, 0.9563492063492063, 0.9563492063492063]}], \"norm_macro_recall\": [{\"categories\": [\"0\", \"2\", \"3\", \"4\", \"5\", \"6\", \"7\", \"9\", \"10\", \"11\", \"12\", \"14\", \"15\", \"16\", \"17\", \"18\", \"19\", \"20\", \"21\", \"22\", \"23\", \"24\", \"25\", \"26\", \"27\", \"28\", \"29\", \"30\", \"31\", \"32\", \"33\", \"34\", \"35\", \"36\", \"37\", \"38\", \"39\", \"40\", \"41\", \"42\", \"43\", \"44\", \"45\"], \"mode\": \"markers\", \"name\": \"norm_macro_recall\", \"stepped\": false, \"type\": \"scatter\", \"data\": [0.5359307359307359, 0.5446031746031746, 0.6071428571428571, 0.6171428571428572, 0.6191991341991343, 0.5688095238095239, 0.6373809523809524, 0.6877705627705628, 0.43666666666666665, 0.7773809523809524, 0.5256277056277057, 0.5438095238095239, 0.5985714285714285, 0.4371428571428571, 0.43547619047619046, 0.1833333333333333, 0.7988095238095239, 0.4538095238095237, 0.6222943722943722, 0.49380952380952375, 0.40857142857142853, 0.7361904761904763, 0.5464069264069263, 0.5854761904761905, 0.7588816738816739, 0.7588816738816739, 0.5438095238095237, 0.6764935064935066, 0.5319047619047619, 0.47714285714285715, 0.6228354978354979, 0.49380952380952375, 0.6328427128427129, 0.4652380952380952, 0.5392640692640693, 0.49831890331890333, 0.5585714285714285, 0.8231601731601732, 0.5407792207792208, 0.3266666666666667, 0.44857142857142857, 0.758008658008658, 0.7008658008658009]}, {\"categories\": [\"0\", \"2\", \"3\", \"4\", \"5\", \"6\", \"7\", \"9\", \"10\", \"11\", \"12\", \"14\", \"15\", \"16\", \"17\", \"18\", \"19\", \"20\", \"21\", \"22\", \"23\", \"24\", \"25\", \"26\", \"27\", \"28\", \"29\", \"30\", \"31\", \"32\", \"33\", \"34\", \"35\", \"36\", \"37\", \"38\", \"39\", \"40\", \"41\", \"42\", \"43\", \"44\", \"45\"], \"mode\": \"lines\", \"name\": \"norm_macro_recall_max\", \"stepped\": true, \"type\": \"scatter\", \"data\": [0.5359307359307359, 0.5446031746031746, 0.6071428571428571, 0.6171428571428572, 0.6191991341991343, 0.6191991341991343, 0.6373809523809524, 0.6877705627705628, 0.6877705627705628, 0.7773809523809524, 0.7773809523809524, 0.7773809523809524, 0.7773809523809524, 0.7773809523809524, 0.7773809523809524, 0.7773809523809524, 0.7988095238095239, 0.7988095238095239, 0.7988095238095239, 0.7988095238095239, 0.7988095238095239, 0.7988095238095239, 0.7988095238095239, 0.7988095238095239, 0.7988095238095239, 0.7988095238095239, 0.7988095238095239, 0.7988095238095239, 0.7988095238095239, 0.7988095238095239, 0.7988095238095239, 0.7988095238095239, 0.7988095238095239, 0.7988095238095239, 0.7988095238095239, 0.7988095238095239, 0.7988095238095239, 0.8231601731601732, 0.8231601731601732, 0.8231601731601732, 0.8231601731601732, 0.8231601731601732, 0.8231601731601732]}], \"precision_score_macro\": [{\"categories\": [\"0\", \"2\", \"3\", \"4\", \"5\", \"6\", \"7\", \"9\", \"10\", \"11\", \"12\", \"14\", \"15\", \"16\", \"17\", \"18\", \"19\", \"20\", \"21\", \"22\", \"23\", \"24\", \"25\", \"26\", \"27\", \"28\", \"29\", \"30\", \"31\", \"32\", \"33\", \"34\", \"35\", \"36\", \"37\", \"38\", \"39\", \"40\", \"41\", \"42\", \"43\", \"44\", \"45\"], \"mode\": \"markers\", \"name\": \"precision_score_macro\", \"stepped\": false, \"type\": \"scatter\", \"data\": [0.8070940170940171, 0.8307264957264957, 0.8691142191142192, 0.8674475524475523, 0.8195454545454546, 0.8227272727272726, 0.8445454545454545, 0.840909090909091, 0.753100233100233, 0.8803030303030303, 0.8175990675990675, 0.8522144522144522, 0.922935397935398, 0.837062937062937, 0.7981002331002331, 0.5224725274725275, 0.875, 0.8544871794871793, 0.8532051282051281, 0.8613053613053612, 0.8326673326673326, 0.9033333333333333, 0.8267676767676766, 0.8401515151515152, 0.8388888888888889, 0.8388888888888889, 0.8683566433566433, 0.9041258741258741, 0.8652430902430902, 0.8438811188811188, 0.8017676767676768, 0.8613053613053612, 0.7973809523809524, 0.8569097569097568, 0.8064879564879565, 0.7505128205128205, 0.9161172161172161, 0.8800000000000001, 0.8083566433566434, 0.6307625707625708, 0.8394855144855145, 0.8875757575757575, 0.8742424242424243]}, {\"categories\": [\"0\", \"2\", \"3\", \"4\", \"5\", \"6\", \"7\", \"9\", \"10\", \"11\", \"12\", \"14\", \"15\", \"16\", \"17\", \"18\", \"19\", \"20\", \"21\", \"22\", \"23\", \"24\", \"25\", \"26\", \"27\", \"28\", \"29\", \"30\", \"31\", \"32\", \"33\", \"34\", \"35\", \"36\", \"37\", \"38\", \"39\", \"40\", \"41\", \"42\", \"43\", \"44\", \"45\"], \"mode\": \"lines\", \"name\": \"precision_score_macro_max\", \"stepped\": true, \"type\": \"scatter\", \"data\": [0.8070940170940171, 0.8307264957264957, 0.8691142191142192, 0.8691142191142192, 0.8691142191142192, 0.8691142191142192, 0.8691142191142192, 0.8691142191142192, 0.8691142191142192, 0.8803030303030303, 0.8803030303030303, 0.8803030303030303, 0.922935397935398, 0.922935397935398, 0.922935397935398, 0.922935397935398, 0.922935397935398, 0.922935397935398, 0.922935397935398, 0.922935397935398, 0.922935397935398, 0.922935397935398, 0.922935397935398, 0.922935397935398, 0.922935397935398, 0.922935397935398, 0.922935397935398, 0.922935397935398, 0.922935397935398, 0.922935397935398, 0.922935397935398, 0.922935397935398, 0.922935397935398, 0.922935397935398, 0.922935397935398, 0.922935397935398, 0.922935397935398, 0.922935397935398, 0.922935397935398, 0.922935397935398, 0.922935397935398, 0.922935397935398, 0.922935397935398]}], \"matthews_correlation\": [{\"categories\": [\"0\", \"2\", \"3\", \"4\", \"5\", \"6\", \"7\", \"9\", \"10\", \"11\", \"12\", \"14\", \"15\", \"16\", \"17\", \"18\", \"19\", \"20\", \"21\", \"22\", \"23\", \"24\", \"25\", \"26\", \"27\", \"28\", \"29\", \"30\", \"31\", \"32\", \"33\", \"34\", \"35\", \"36\", \"37\", \"38\", \"39\", \"40\", \"41\", \"42\", \"43\", \"44\", \"45\"], \"mode\": \"markers\", \"name\": \"matthews_correlation\", \"stepped\": false, \"type\": \"scatter\", \"data\": [0.5651038560794749, 0.5958821127714569, 0.6628947428111339, 0.6667691307781354, 0.626029908075149, 0.6029037601152039, 0.6608853433061949, 0.682320446900527, 0.50989906239412, 0.7634256363335079, 0.5712995246216528, 0.6109348483659219, 0.6989771507070527, 0.5366967419119953, 0.5053847488097245, 0.2134220604509315, 0.7691886311604442, 0.5631765508838326, 0.6576495236444159, 0.5937618493318735, 0.5099768121170991, 0.7700559895395657, 0.5949060532061157, 0.6293835690870411, 0.7123739806156062, 0.7123739806156062, 0.6295043617320453, 0.7337892014279217, 0.6106947275428628, 0.5672820403600363, 0.6115125199891864, 0.5937618493318735, 0.6115771886398719, 0.5670419195369771, 0.5670101649338567, 0.49888411026877505, 0.6683918522590118, 0.7868855922550766, 0.5693227885267069, 0.3566478789638657, 0.5405621105651399, 0.7663373043552061, 0.7220560119164849]}, {\"categories\": [\"0\", \"2\", \"3\", \"4\", \"5\", \"6\", \"7\", \"9\", \"10\", \"11\", \"12\", \"14\", \"15\", \"16\", \"17\", \"18\", \"19\", \"20\", \"21\", \"22\", \"23\", \"24\", \"25\", \"26\", \"27\", \"28\", \"29\", \"30\", \"31\", \"32\", \"33\", \"34\", \"35\", \"36\", \"37\", \"38\", \"39\", \"40\", \"41\", \"42\", \"43\", \"44\", \"45\"], \"mode\": \"lines\", \"name\": \"matthews_correlation_max\", \"stepped\": true, \"type\": \"scatter\", \"data\": [0.5651038560794749, 0.5958821127714569, 0.6628947428111339, 0.6667691307781354, 0.6667691307781354, 0.6667691307781354, 0.6667691307781354, 0.682320446900527, 0.682320446900527, 0.7634256363335079, 0.7634256363335079, 0.7634256363335079, 0.7634256363335079, 0.7634256363335079, 0.7634256363335079, 0.7634256363335079, 0.7691886311604442, 0.7691886311604442, 0.7691886311604442, 0.7691886311604442, 0.7691886311604442, 0.7700559895395657, 0.7700559895395657, 0.7700559895395657, 0.7700559895395657, 0.7700559895395657, 0.7700559895395657, 0.7700559895395657, 0.7700559895395657, 0.7700559895395657, 0.7700559895395657, 0.7700559895395657, 0.7700559895395657, 0.7700559895395657, 0.7700559895395657, 0.7700559895395657, 0.7700559895395657, 0.7868855922550766, 0.7868855922550766, 0.7868855922550766, 0.7868855922550766, 0.7868855922550766, 0.7868855922550766]}]}, \"metricName\": null, \"primaryMetricName\": \"accuracy\", \"showLegend\": false}, \"run_metrics\": [{\"name\": \"average_precision_score_micro\", \"run_id\": \"AutoML_08564e6b-b5ae-43f2-8279-72b59211afff\", \"categories\": [0], \"series\": [{\"data\": [0.9581682864615194]}]}, {\"name\": \"norm_macro_recall\", \"run_id\": \"AutoML_08564e6b-b5ae-43f2-8279-72b59211afff\", \"categories\": [0], \"series\": [{\"data\": [0.758008658008658]}]}, {\"name\": \"balanced_accuracy\", \"run_id\": \"AutoML_08564e6b-b5ae-43f2-8279-72b59211afff\", \"categories\": [0], \"series\": [{\"data\": [0.879004329004329]}]}, {\"name\": \"f1_score_macro\", \"run_id\": \"AutoML_08564e6b-b5ae-43f2-8279-72b59211afff\", \"categories\": [0], \"series\": [{\"data\": [0.8797979797979798]}]}, {\"name\": \"average_precision_score_weighted\", \"run_id\": \"AutoML_08564e6b-b5ae-43f2-8279-72b59211afff\", \"categories\": [0], \"series\": [{\"data\": [0.9658592518592519]}]}, {\"name\": \"AUC_weighted\", \"run_id\": \"AutoML_08564e6b-b5ae-43f2-8279-72b59211afff\", \"categories\": [0], \"series\": [{\"data\": [0.9480519480519479]}]}, {\"name\": \"weighted_accuracy\", \"run_id\": \"AutoML_08564e6b-b5ae-43f2-8279-72b59211afff\", \"categories\": [0], \"series\": [{\"data\": [0.934404509800156]}]}, {\"name\": \"recall_score_macro\", \"run_id\": \"AutoML_08564e6b-b5ae-43f2-8279-72b59211afff\", \"categories\": [0], \"series\": [{\"data\": [0.879004329004329]}]}, {\"name\": \"f1_score_micro\", \"run_id\": \"AutoML_08564e6b-b5ae-43f2-8279-72b59211afff\", \"categories\": [0], \"series\": [{\"data\": [0.9180952380952381]}]}, {\"name\": \"precision_score_weighted\", \"run_id\": \"AutoML_08564e6b-b5ae-43f2-8279-72b59211afff\", \"categories\": [0], \"series\": [{\"data\": [0.9234285714285715]}]}, {\"name\": \"average_precision_score_macro\", \"run_id\": \"AutoML_08564e6b-b5ae-43f2-8279-72b59211afff\", \"categories\": [0], \"series\": [{\"data\": [0.9428224296446699]}]}, {\"name\": \"recall_score_weighted\", \"run_id\": \"AutoML_08564e6b-b5ae-43f2-8279-72b59211afff\", \"categories\": [0], \"series\": [{\"data\": [0.9180952380952381]}]}, {\"name\": \"precision_score_micro\", \"run_id\": \"AutoML_08564e6b-b5ae-43f2-8279-72b59211afff\", \"categories\": [0], \"series\": [{\"data\": [0.9180952380952381]}]}, {\"name\": \"AUC_macro\", \"run_id\": \"AutoML_08564e6b-b5ae-43f2-8279-72b59211afff\", \"categories\": [0], \"series\": [{\"data\": [0.9480519480519479]}]}, {\"name\": \"matthews_correlation\", \"run_id\": \"AutoML_08564e6b-b5ae-43f2-8279-72b59211afff\", \"categories\": [0], \"series\": [{\"data\": [0.7663373043552061]}]}, {\"name\": \"precision_score_macro\", \"run_id\": \"AutoML_08564e6b-b5ae-43f2-8279-72b59211afff\", \"categories\": [0], \"series\": [{\"data\": [0.8875757575757575]}]}, {\"name\": \"accuracy\", \"run_id\": \"AutoML_08564e6b-b5ae-43f2-8279-72b59211afff\", \"categories\": [0], \"series\": [{\"data\": [0.9180952380952381]}]}, {\"name\": \"recall_score_micro\", \"run_id\": \"AutoML_08564e6b-b5ae-43f2-8279-72b59211afff\", \"categories\": [0], \"series\": [{\"data\": [0.9180952380952381]}]}, {\"name\": \"log_loss\", \"run_id\": \"AutoML_08564e6b-b5ae-43f2-8279-72b59211afff\", \"categories\": [0], \"series\": [{\"data\": [0.24165389674909057]}]}, {\"name\": \"AUC_micro\", \"run_id\": \"AutoML_08564e6b-b5ae-43f2-8279-72b59211afff\", \"categories\": [0], \"series\": [{\"data\": [0.9557551020408163]}]}, {\"name\": \"f1_score_weighted\", \"run_id\": \"AutoML_08564e6b-b5ae-43f2-8279-72b59211afff\", \"categories\": [0], \"series\": [{\"data\": [0.9173544973544974]}]}], \"run_logs\": \"\\nRun is completed.\", \"graph\": {}, \"widget_settings\": {\"childWidgetDisplay\": \"popup\", \"send_telemetry\": false, \"log_level\": \"INFO\", \"sdk_version\": \"1.22.0\"}, \"loading\": false}"
          },
          "metadata": {}
        }
      ],
      "execution_count": 15,
      "metadata": {
        "gather": {
          "logged": 1617940502192
        },
        "jupyter": {
          "outputs_hidden": false,
          "source_hidden": false
        },
        "nteract": {
          "transient": {
            "deleting": false
          }
        }
      }
    },
    {
      "cell_type": "markdown",
      "source": [
        "## Best Model\n",
        "\n",
        "TODO: In the cell below, get the best model from the automl experiments and display all the properties of the model.\n",
        "\n"
      ],
      "metadata": {}
    },
    {
      "cell_type": "code",
      "source": [
        "# Get best run and model\r\n",
        "best_run, fitted_model = remote_run.get_output()\r\n",
        "\r\n",
        "# Print the best run\r\n",
        "print(best_run)\r\n",
        "\r\n",
        "# Get all metrics of the best run\r\n",
        "best_run_metrics = best_run.get_metrics()\r\n",
        "\r\n",
        "# Print all metrics of the best run\r\n",
        "for metric_name in best_run_metrics:\r\n",
        "    metric = best_run_metrics[metric_name]\r\n",
        "    print(metric_name, metric)"
      ],
      "outputs": [
        {
          "output_type": "stream",
          "name": "stdout",
          "text": [
            "Run(Experiment: Cervical-Cancer-Predict,\n",
            "Id: AutoML_08564e6b-b5ae-43f2-8279-72b59211afff_44,\n",
            "Type: None,\n",
            "Status: Completed)\n",
            "f1_score_weighted 0.9173544973544974\n",
            "precision_score_micro 0.9180952380952381\n",
            "recall_score_weighted 0.9180952380952381\n",
            "f1_score_micro 0.9180952380952381\n",
            "f1_score_macro 0.8797979797979798\n",
            "average_precision_score_macro 0.9428224296446699\n",
            "AUC_weighted 0.9480519480519479\n",
            "precision_score_weighted 0.9234285714285715\n",
            "average_precision_score_weighted 0.9658592518592519\n",
            "weighted_accuracy 0.934404509800156\n",
            "log_loss 0.24165389674909057\n",
            "accuracy 0.9180952380952381\n",
            "recall_score_macro 0.879004329004329\n",
            "balanced_accuracy 0.879004329004329\n",
            "AUC_macro 0.9480519480519479\n",
            "average_precision_score_micro 0.9581682864615194\n",
            "recall_score_micro 0.9180952380952381\n",
            "AUC_micro 0.9557551020408163\n",
            "norm_macro_recall 0.758008658008658\n",
            "precision_score_macro 0.8875757575757575\n",
            "matthews_correlation 0.7663373043552061\n",
            "accuracy_table aml://artifactId/ExperimentRun/dcid.AutoML_08564e6b-b5ae-43f2-8279-72b59211afff_44/accuracy_table\n",
            "confusion_matrix aml://artifactId/ExperimentRun/dcid.AutoML_08564e6b-b5ae-43f2-8279-72b59211afff_44/confusion_matrix\n"
          ]
        }
      ],
      "execution_count": 17,
      "metadata": {
        "collapsed": true,
        "jupyter": {
          "source_hidden": false,
          "outputs_hidden": false
        },
        "nteract": {
          "transient": {
            "deleting": false
          }
        },
        "gather": {
          "logged": 1617940663465
        }
      }
    },
    {
      "cell_type": "code",
      "source": [
        "# Print detailed parameters of the fitted model\r\n",
        "def print_model(model, prefix=\"\"):\r\n",
        "    for step in model.steps:\r\n",
        "        print(prefix + step[0])\r\n",
        "        if hasattr(step[1], 'estimators') and hasattr(step[1], 'weights'):\r\n",
        "            pprint({'estimators': list(\r\n",
        "                e[0] for e in step[1].estimators), 'weights': step[1].weights})\r\n",
        "            print()\r\n",
        "            for estimator in step[1].estimators:\r\n",
        "                print_model(estimator[1], estimator[0] + ' - ')\r\n",
        "        else:\r\n",
        "            pprint(step[1].get_params())\r\n",
        "            print()\r\n",
        "\r\n",
        "print_model(fitted_model)"
      ],
      "outputs": [
        {
          "output_type": "stream",
          "name": "stdout",
          "text": [
            "datatransformer\n",
            "{'enable_dnn': None,\n",
            " 'enable_feature_sweeping': None,\n",
            " 'feature_sweeping_config': None,\n",
            " 'feature_sweeping_timeout': None,\n",
            " 'featurization_config': None,\n",
            " 'force_text_dnn': None,\n",
            " 'is_cross_validation': None,\n",
            " 'is_onnx_compatible': None,\n",
            " 'logger': None,\n",
            " 'observer': None,\n",
            " 'task': None,\n",
            " 'working_dir': None}\n",
            "\n",
            "prefittedsoftvotingclassifier\n",
            "{'estimators': ['24', '40', '19', '11', '30'],\n",
            " 'weights': [0.16666666666666666,\n",
            "             0.3333333333333333,\n",
            "             0.16666666666666666,\n",
            "             0.16666666666666666,\n",
            "             0.16666666666666666]}\n",
            "\n",
            "24 - minmaxscaler\n",
            "{'copy': True, 'feature_range': (0, 1)}\n",
            "\n",
            "24 - logisticregression\n",
            "{'C': 494.1713361323828,\n",
            " 'class_weight': None,\n",
            " 'dual': False,\n",
            " 'fit_intercept': True,\n",
            " 'intercept_scaling': 1,\n",
            " 'l1_ratio': None,\n",
            " 'max_iter': 100,\n",
            " 'multi_class': 'ovr',\n",
            " 'n_jobs': 1,\n",
            " 'penalty': 'l2',\n",
            " 'random_state': None,\n",
            " 'solver': 'saga',\n",
            " 'tol': 0.0001,\n",
            " 'verbose': 0,\n",
            " 'warm_start': False}\n",
            "\n",
            "40 - pca\n",
            "{'copy': True,\n",
            " 'iterated_power': 'auto',\n",
            " 'n_components': 0.95,\n",
            " 'random_state': None,\n",
            " 'svd_solver': 'auto',\n",
            " 'tol': 0.0,\n",
            " 'whiten': True}\n",
            "\n",
            "40 - logisticregression\n",
            "{'C': 719.6856730011514,\n",
            " 'class_weight': None,\n",
            " 'dual': False,\n",
            " 'fit_intercept': True,\n",
            " 'intercept_scaling': 1,\n",
            " 'l1_ratio': None,\n",
            " 'max_iter': 100,\n",
            " 'multi_class': 'ovr',\n",
            " 'n_jobs': 1,\n",
            " 'penalty': 'l1',\n",
            " 'random_state': None,\n",
            " 'solver': 'saga',\n",
            " 'tol': 0.0001,\n",
            " 'verbose': 0,\n",
            " 'warm_start': False}\n",
            "\n",
            "19 - robustscaler\n",
            "{'copy': True,\n",
            " 'quantile_range': [10, 90],\n",
            " 'with_centering': True,\n",
            " 'with_scaling': False}\n",
            "\n",
            "19 - extratreesclassifier\n",
            "{'bootstrap': False,\n",
            " 'ccp_alpha': 0.0,\n",
            " 'class_weight': 'balanced',\n",
            " 'criterion': 'entropy',\n",
            " 'max_depth': None,\n",
            " 'max_features': 0.5,\n",
            " 'max_leaf_nodes': None,\n",
            " 'max_samples': None,\n",
            " 'min_impurity_decrease': 0.0,\n",
            " 'min_impurity_split': None,\n",
            " 'min_samples_leaf': 0.035789473684210524,\n",
            " 'min_samples_split': 0.29105263157894734,\n",
            " 'min_weight_fraction_leaf': 0.0,\n",
            " 'n_estimators': 50,\n",
            " 'n_jobs': 1,\n",
            " 'oob_score': False,\n",
            " 'random_state': None,\n",
            " 'verbose': 0,\n",
            " 'warm_start': False}\n",
            "\n",
            "11 - robustscaler\n",
            "{'copy': True,\n",
            " 'quantile_range': [25, 75],\n",
            " 'with_centering': False,\n",
            " 'with_scaling': False}\n",
            "\n",
            "11 - extratreesclassifier\n",
            "{'bootstrap': False,\n",
            " 'ccp_alpha': 0.0,\n",
            " 'class_weight': 'balanced',\n",
            " 'criterion': 'gini',\n",
            " 'max_depth': None,\n",
            " 'max_features': 0.3,\n",
            " 'max_leaf_nodes': None,\n",
            " 'max_samples': None,\n",
            " 'min_impurity_decrease': 0.0,\n",
            " 'min_impurity_split': None,\n",
            " 'min_samples_leaf': 0.06157894736842105,\n",
            " 'min_samples_split': 0.15052631578947367,\n",
            " 'min_weight_fraction_leaf': 0.0,\n",
            " 'n_estimators': 400,\n",
            " 'n_jobs': 1,\n",
            " 'oob_score': False,\n",
            " 'random_state': None,\n",
            " 'verbose': 0,\n",
            " 'warm_start': False}\n",
            "\n",
            "30 - standardscalerwrapper\n",
            "{'class_name': 'StandardScaler',\n",
            " 'copy': True,\n",
            " 'module_name': 'sklearn.preprocessing._data',\n",
            " 'with_mean': False,\n",
            " 'with_std': False}\n",
            "\n",
            "30 - logisticregression\n",
            "{'C': 51.79474679231202,\n",
            " 'class_weight': None,\n",
            " 'dual': False,\n",
            " 'fit_intercept': True,\n",
            " 'intercept_scaling': 1,\n",
            " 'l1_ratio': None,\n",
            " 'max_iter': 100,\n",
            " 'multi_class': 'ovr',\n",
            " 'n_jobs': 1,\n",
            " 'penalty': 'l2',\n",
            " 'random_state': None,\n",
            " 'solver': 'saga',\n",
            " 'tol': 0.0001,\n",
            " 'verbose': 0,\n",
            " 'warm_start': False}\n",
            "\n"
          ]
        }
      ],
      "execution_count": 18,
      "metadata": {
        "collapsed": true,
        "jupyter": {
          "source_hidden": false,
          "outputs_hidden": false
        },
        "nteract": {
          "transient": {
            "deleting": false
          }
        },
        "gather": {
          "logged": 1617940707735
        }
      }
    },
    {
      "cell_type": "code",
      "source": [
        "#TODO: Save the best model\r\n",
        "CancerModel = best_run.register_model(model_path='outputs/model.pkl', model_name='cancer_Model_automl',\r\n",
        "                        tags={'Training context':'Auto ML'},\r\n",
        "                        properties={'Accuracy': best_run_metrics['accuracy']})\r\n",
        "\r\n",
        "print(CancerModel)"
      ],
      "outputs": [
        {
          "output_type": "stream",
          "name": "stdout",
          "text": [
            "Model(workspace=Workspace.create(name='udacity-projects', subscription_id='08429d2c-c480-438d-b360-41b472ce37a7', resource_group='ml'), name=cancer_Model_automl, id=cancer_Model_automl:3, version=3, tags={'Training context': 'Auto ML'}, properties={'Accuracy': '0.9180952380952381'})\n"
          ]
        }
      ],
      "execution_count": 20,
      "metadata": {
        "collapsed": true,
        "jupyter": {
          "source_hidden": false,
          "outputs_hidden": false
        },
        "nteract": {
          "transient": {
            "deleting": false
          }
        },
        "gather": {
          "logged": 1617940729687
        }
      }
    },
    {
      "cell_type": "code",
      "source": [
        "# List registered models to verify if model has been saved\r\n",
        "for model in CancerModel.list(ws):\r\n",
        "    print(model.name, 'version:', model.version)\r\n",
        "    for tag_name in model.tags:\r\n",
        "        tag = model.tags[tag_name]\r\n",
        "        print ('\\t',tag_name, ':', tag)\r\n",
        "    for prop_name in model.properties:\r\n",
        "        prop = model.properties[prop_name]\r\n",
        "        print ('\\t',prop_name, ':', prop)\r\n",
        "    print('\\n')\r\n"
      ],
      "outputs": [
        {
          "output_type": "stream",
          "name": "stdout",
          "text": [
            "cancer_Model_automl version: 3\n",
            "\t Training context : Auto ML\n",
            "\t Accuracy : 0.9180952380952381\n",
            "\n",
            "\n"
          ]
        }
      ],
      "execution_count": 21,
      "metadata": {
        "collapsed": true,
        "jupyter": {
          "source_hidden": false,
          "outputs_hidden": false
        },
        "nteract": {
          "transient": {
            "deleting": false
          }
        },
        "gather": {
          "logged": 1617940732213
        }
      }
    },
    {
      "cell_type": "code",
      "source": [
        "import pandas as pd\r\n",
        "from sklearn.metrics import confusion_matrix\r\n",
        "from sklearn import metrics\r\n",
        "from sklearn.model_selection import train_test_split\r\n",
        "import matplotlib.pyplot as plt\r\n",
        "\r\n",
        "# Load Test Cancer Dataset\r\n",
        "X = df.drop(['ca_cervix'], axis=1)\r\n",
        "y = df['ca_cervix']\r\n",
        "#Split the Dataset\r\n",
        "X_train, X_test, y_train, y_test = train_test_split(X,y,test_size=0.33, random_state=44)"
      ],
      "outputs": [],
      "execution_count": 22,
      "metadata": {
        "collapsed": true,
        "jupyter": {
          "source_hidden": false,
          "outputs_hidden": false
        },
        "nteract": {
          "transient": {
            "deleting": false
          }
        },
        "gather": {
          "logged": 1617940734967
        }
      }
    },
    {
      "cell_type": "code",
      "source": [
        "#Predictions :\r\n",
        "y_pred = fitted_model.predict(X_test)\r\n",
        "cm = confusion_matrix(y_test, y_pred)"
      ],
      "outputs": [],
      "execution_count": 23,
      "metadata": {
        "collapsed": true,
        "jupyter": {
          "source_hidden": false,
          "outputs_hidden": false
        },
        "nteract": {
          "transient": {
            "deleting": false
          }
        },
        "gather": {
          "logged": 1617940739026
        }
      }
    },
    {
      "cell_type": "markdown",
      "source": [
        "# Model Metrics Vizualisation : "
      ],
      "metadata": {
        "nteract": {
          "transient": {
            "deleting": false
          }
        }
      }
    },
    {
      "cell_type": "code",
      "source": [
        "\r\n",
        "# Confusion matrix\r\n",
        "pd.DataFrame(cm).style.background_gradient(cmap='Blues', low=0, high=0.9)\r\n"
      ],
      "outputs": [
        {
          "output_type": "execute_result",
          "execution_count": 24,
          "data": {
            "text/plain": "<pandas.io.formats.style.Styler at 0x7fa200fe0358>",
            "text/html": "<style  type=\"text/css\" >\n    #T_ebb81010_98e7_11eb_84f1_e1788eeea605row0_col0 {\n            background-color:  #63a8d3;\n            color:  #000000;\n        }    #T_ebb81010_98e7_11eb_84f1_e1788eeea605row0_col1 {\n            background-color:  #f7fbff;\n            color:  #000000;\n        }    #T_ebb81010_98e7_11eb_84f1_e1788eeea605row1_col0 {\n            background-color:  #f7fbff;\n            color:  #000000;\n        }    #T_ebb81010_98e7_11eb_84f1_e1788eeea605row1_col1 {\n            background-color:  #63a8d3;\n            color:  #000000;\n        }</style><table id=\"T_ebb81010_98e7_11eb_84f1_e1788eeea605\" ><thead>    <tr>        <th class=\"blank level0\" ></th>        <th class=\"col_heading level0 col0\" >0</th>        <th class=\"col_heading level0 col1\" >1</th>    </tr></thead><tbody>\n                <tr>\n                        <th id=\"T_ebb81010_98e7_11eb_84f1_e1788eeea605level0_row0\" class=\"row_heading level0 row0\" >0</th>\n                        <td id=\"T_ebb81010_98e7_11eb_84f1_e1788eeea605row0_col0\" class=\"data row0 col0\" >17</td>\n                        <td id=\"T_ebb81010_98e7_11eb_84f1_e1788eeea605row0_col1\" class=\"data row0 col1\" >0</td>\n            </tr>\n            <tr>\n                        <th id=\"T_ebb81010_98e7_11eb_84f1_e1788eeea605level0_row1\" class=\"row_heading level0 row1\" >1</th>\n                        <td id=\"T_ebb81010_98e7_11eb_84f1_e1788eeea605row1_col0\" class=\"data row1 col0\" >0</td>\n                        <td id=\"T_ebb81010_98e7_11eb_84f1_e1788eeea605row1_col1\" class=\"data row1 col1\" >7</td>\n            </tr>\n    </tbody></table>"
          },
          "metadata": {}
        }
      ],
      "execution_count": 24,
      "metadata": {
        "collapsed": true,
        "jupyter": {
          "source_hidden": false,
          "outputs_hidden": false
        },
        "nteract": {
          "transient": {
            "deleting": false
          }
        },
        "gather": {
          "logged": 1617940741848
        }
      }
    },
    {
      "cell_type": "code",
      "source": [
        "# AUC Curve\r\n",
        "y_pred_proba = fitted_model.predict_proba(X_test)[::,1]\r\n",
        "fpr, tpr, _ = metrics.roc_curve(y_test,  y_pred_proba)\r\n",
        "auc = metrics.roc_auc_score(y_test, y_pred_proba)\r\n",
        "plt.plot(fpr,tpr,label=\"data 1, auc=\"+str(auc))\r\n",
        "plt.legend(loc=4)\r\n",
        "plt.show()"
      ],
      "outputs": [
        {
          "output_type": "display_data",
          "data": {
            "text/plain": "<Figure size 432x288 with 1 Axes>",
            "image/png": "[encoded data removed]"
          },
          "metadata": {
            "needs_background": "light"
          }
        }
      ],
      "execution_count": 25,
      "metadata": {
        "collapsed": true,
        "jupyter": {
          "source_hidden": false,
          "outputs_hidden": false
        },
        "nteract": {
          "transient": {
            "deleting": false
          }
        },
        "gather": {
          "logged": 1617940744650
        }
      }
    },
    {
      "cell_type": "markdown",
      "source": [
        "## Model Deployment\r\n",
        "\r\n",
        "Remember you have to deploy only one of the two models you trained.. Perform the steps in the rest of this notebook only if you wish to deploy this model.\r\n",
        "\r\n",
        "TODO: In the cell below, register the model, create an inference config and deploy the model as a web service."
      ],
      "metadata": {
        "nteract": {
          "transient": {
            "deleting": false
          }
        }
      }
    },
    {
      "cell_type": "code",
      "source": [
        "# Download scoring file \r\n",
        "best_run.download_file('outputs/scoring_file_v_1_0_0.py', 'score.py')\r\n",
        "\r\n",
        "# Download environment file\r\n",
        "from azureml.core.environment import Environment\r\n",
        "best_run.download_file('outputs/conda_env_v_1_0_0.yml', 'envFile.yml')\r\n",
        "env = Environment.from_conda_specification(name='cancer-environment', file_path='envFile.yml')\r\n"
      ],
      "outputs": [],
      "execution_count": 26,
      "metadata": {
        "collapsed": true,
        "jupyter": {
          "source_hidden": false,
          "outputs_hidden": false
        },
        "nteract": {
          "transient": {
            "deleting": false
          }
        },
        "gather": {
          "logged": 1617940748252
        }
      }
    },
    {
      "cell_type": "code",
      "source": [
        "\r\n",
        "from azureml.core.model import InferenceConfig\r\n",
        "\r\n",
        "inference_config = InferenceConfig(entry_script='score.py',\r\n",
        "                                    environment=env)\r\n",
        "\r\n",
        "# deploy\r\n",
        "from azureml.core.webservice import AciWebservice\r\n",
        "\r\n",
        "deployment_config = AciWebservice.deploy_configuration(cpu_cores = 1, memory_gb = 1)\r\n",
        "service = Model.deploy(ws, \"myservice\", [CancerModel], inference_config, deployment_config)\r\n",
        "service.wait_for_deployment(show_output = True)\r\n",
        "\r\n",
        "print(service.state)\r\n",
        "print(service.scoring_uri)\r\n",
        "print(service.swagger_uri)"
      ],
      "outputs": [
        {
          "output_type": "stream",
          "name": "stdout",
          "text": [
            "Tips: You can try get_logs(): https://aka.ms/debugimage#dockerlog or local deployment: https://aka.ms/debugimage#debug-locally to debug if deployment takes longer than 10 minutes.\n",
            "Running........................................................\n",
            "Succeeded\n",
            "ACI service creation operation finished, operation \"Succeeded\"\n",
            "Healthy\n",
            "http://bad17886-8048-42dc-a277-819ef8c7e391.eastus2.azurecontainer.io/score\n",
            "http://bad17886-8048-42dc-a277-819ef8c7e391.eastus2.azurecontainer.io/swagger.json\n"
          ]
        }
      ],
      "execution_count": 27,
      "metadata": {
        "collapsed": true,
        "jupyter": {
          "source_hidden": false,
          "outputs_hidden": false
        },
        "nteract": {
          "transient": {
            "deleting": false
          }
        },
        "gather": {
          "logged": 1617941052477
        }
      }
    },
    {
      "cell_type": "code",
      "source": [
        "import json\r\n",
        "\r\n",
        "#Import test data\r\n",
        "test_df = df.sample(5) # data is the pandas dataframe of the original data\r\n",
        "label_df = test_df.pop('ca_cervix')\r\n",
        "\r\n",
        "test_sample = json.dumps({'data': test_df.to_dict(orient='records')})\r\n",
        "\r\n",
        "print(test_sample)"
      ],
      "outputs": [
        {
          "output_type": "stream",
          "name": "stdout",
          "text": [
            "{\"data\": [{\"behavior_sexualRisk\": 10, \"behavior_eating\": 13, \"behavior_personalHygine\": 15, \"intention_aggregation\": 10, \"intention_commitment\": 15, \"attitude_consistency\": 8, \"attitude_spontaneity\": 10, \"norm_significantPerson\": 5, \"norm_fulfillment\": 14, \"perception_vulnerability\": 6, \"perception_severity\": 8, \"motivation_strength\": 13, \"motivation_willingness\": 7, \"socialSupport_emotionality\": 3, \"socialSupport_appreciation\": 4, \"socialSupport_instrumental\": 3, \"empowerment_knowledge\": 3, \"empowerment_abilities\": 6, \"empowerment_desires\": 3}, {\"behavior_sexualRisk\": 10, \"behavior_eating\": 13, \"behavior_personalHygine\": 15, \"intention_aggregation\": 8, \"intention_commitment\": 13, \"attitude_consistency\": 7, \"attitude_spontaneity\": 8, \"norm_significantPerson\": 3, \"norm_fulfillment\": 5, \"perception_vulnerability\": 9, \"perception_severity\": 2, \"motivation_strength\": 13, \"motivation_willingness\": 11, \"socialSupport_emotionality\": 12, \"socialSupport_appreciation\": 9, \"socialSupport_instrumental\": 10, \"empowerment_knowledge\": 12, \"empowerment_abilities\": 13, \"empowerment_desires\": 12}, {\"behavior_sexualRisk\": 10, \"behavior_eating\": 14, \"behavior_personalHygine\": 14, \"intention_aggregation\": 6, \"intention_commitment\": 12, \"attitude_consistency\": 7, \"attitude_spontaneity\": 8, \"norm_significantPerson\": 5, \"norm_fulfillment\": 15, \"perception_vulnerability\": 12, \"perception_severity\": 10, \"motivation_strength\": 10, \"motivation_willingness\": 13, \"socialSupport_emotionality\": 11, \"socialSupport_appreciation\": 9, \"socialSupport_instrumental\": 14, \"empowerment_knowledge\": 13, \"empowerment_abilities\": 15, \"empowerment_desires\": 15}, {\"behavior_sexualRisk\": 10, \"behavior_eating\": 13, \"behavior_personalHygine\": 11, \"intention_aggregation\": 6, \"intention_commitment\": 14, \"attitude_consistency\": 9, \"attitude_spontaneity\": 10, \"norm_significantPerson\": 5, \"norm_fulfillment\": 15, \"perception_vulnerability\": 15, \"perception_severity\": 10, \"motivation_strength\": 15, \"motivation_willingness\": 3, \"socialSupport_emotionality\": 3, \"socialSupport_appreciation\": 4, \"socialSupport_instrumental\": 7, \"empowerment_knowledge\": 7, \"empowerment_abilities\": 7, \"empowerment_desires\": 11}, {\"behavior_sexualRisk\": 10, \"behavior_eating\": 15, \"behavior_personalHygine\": 13, \"intention_aggregation\": 10, \"intention_commitment\": 15, \"attitude_consistency\": 2, \"attitude_spontaneity\": 10, \"norm_significantPerson\": 1, \"norm_fulfillment\": 5, \"perception_vulnerability\": 6, \"perception_severity\": 2, \"motivation_strength\": 14, \"motivation_willingness\": 14, \"socialSupport_emotionality\": 14, \"socialSupport_appreciation\": 8, \"socialSupport_instrumental\": 14, \"empowerment_knowledge\": 15, \"empowerment_abilities\": 14, \"empowerment_desires\": 15}]}\n"
          ]
        }
      ],
      "execution_count": 23,
      "metadata": {
        "collapsed": true,
        "jupyter": {
          "source_hidden": false,
          "outputs_hidden": false
        },
        "nteract": {
          "transient": {
            "deleting": false
          }
        },
        "gather": {
          "logged": 1616690910842
        }
      }
    },
    {
      "cell_type": "markdown",
      "source": [
        "### Consume the endpoint with request-response"
      ],
      "metadata": {
        "nteract": {
          "transient": {
            "deleting": false
          }
        }
      }
    },
    {
      "cell_type": "code",
      "source": [
        "import requests # Used for http post request\r\n",
        "\r\n",
        "# Set the content type\r\n",
        "headers = {'Content-type': 'application/json'}\r\n",
        "\r\n",
        "\r\n",
        "response = requests.post(service.scoring_uri, test_sample, headers=headers)"
      ],
      "outputs": [],
      "execution_count": 25,
      "metadata": {
        "collapsed": true,
        "jupyter": {
          "source_hidden": false,
          "outputs_hidden": false
        },
        "nteract": {
          "transient": {
            "deleting": false
          }
        },
        "gather": {
          "logged": 1616691394728
        }
      }
    },
    {
      "cell_type": "code",
      "source": [
        "# Print results from the inference\r\n",
        "print(response.text)"
      ],
      "outputs": [
        {
          "output_type": "stream",
          "name": "stdout",
          "text": [
            "\"{\\\"result\\\": [0, 0, 0, 0, 0]}\"\n"
          ]
        }
      ],
      "execution_count": 26,
      "metadata": {
        "collapsed": true,
        "jupyter": {
          "source_hidden": false,
          "outputs_hidden": false
        },
        "nteract": {
          "transient": {
            "deleting": false
          }
        },
        "gather": {
          "logged": 1616691398065
        }
      }
    },
    {
      "cell_type": "code",
      "source": [
        "# Print original labels\r\n",
        "print(label_df)"
      ],
      "outputs": [
        {
          "output_type": "stream",
          "name": "stdout",
          "text": [
            "63    0\n",
            "26    0\n",
            "71    0\n",
            "65    0\n",
            "23    0\n",
            "Name: ca_cervix, dtype: int64\n"
          ]
        }
      ],
      "execution_count": 27,
      "metadata": {
        "collapsed": true,
        "jupyter": {
          "source_hidden": false,
          "outputs_hidden": false
        },
        "nteract": {
          "transient": {
            "deleting": false
          }
        },
        "gather": {
          "logged": 1616691411275
        }
      }
    },
    {
      "cell_type": "code",
      "source": [
        "print(service.get_logs())"
      ],
      "outputs": [
        {
          "output_type": "stream",
          "name": "stdout",
          "text": [
            "2021-03-25T16:48:00,237710800+00:00 - rsyslog/run \n",
            "2021-03-25T16:48:00,244662700+00:00 - gunicorn/run \n",
            "2021-03-25T16:48:00,260233200+00:00 - nginx/run \n",
            "2021-03-25T16:48:00,260981000+00:00 - iot-server/run \n",
            "/usr/sbin/nginx: /azureml-envs/azureml_6f3791fe7434448b4ebe2b0fd691d644/lib/libcrypto.so.1.0.0: no version information available (required by /usr/sbin/nginx)\n",
            "/usr/sbin/nginx: /azureml-envs/azureml_6f3791fe7434448b4ebe2b0fd691d644/lib/libcrypto.so.1.0.0: no version information available (required by /usr/sbin/nginx)\n",
            "/usr/sbin/nginx: /azureml-envs/azureml_6f3791fe7434448b4ebe2b0fd691d644/lib/libssl.so.1.0.0: no version information available (required by /usr/sbin/nginx)\n",
            "/usr/sbin/nginx: /azureml-envs/azureml_6f3791fe7434448b4ebe2b0fd691d644/lib/libssl.so.1.0.0: no version information available (required by /usr/sbin/nginx)\n",
            "/usr/sbin/nginx: /azureml-envs/azureml_6f3791fe7434448b4ebe2b0fd691d644/lib/libssl.so.1.0.0: no version information available (required by /usr/sbin/nginx)\n",
            "rsyslogd: /azureml-envs/azureml_6f3791fe7434448b4ebe2b0fd691d644/lib/libuuid.so.1: no version information available (required by rsyslogd)\n",
            "Starting gunicorn 19.9.0\n",
            "Listening at: http://127.0.0.1:31311 (68)\n",
            "Using worker: sync\n",
            "worker timeout is set to 300\n",
            "Booting worker with pid: 93\n",
            "EdgeHubConnectionString and IOTEDGE_IOTHUBHOSTNAME are not set. Exiting...\n",
            "2021-03-25T16:48:02,705313400+00:00 - iot-server/finish 1 0\n",
            "2021-03-25T16:48:02,712781700+00:00 - Exit code 1 is normal. Not restarting iot-server.\n",
            "SPARK_HOME not set. Skipping PySpark Initialization.\n",
            "Generating new fontManager, this may take some time...\n",
            "Initializing logger\n",
            "2021-03-25 16:48:08,186 | root | INFO | Starting up app insights client\n",
            "2021-03-25 16:48:08,186 | root | INFO | Starting up request id generator\n",
            "2021-03-25 16:48:08,186 | root | INFO | Starting up app insight hooks\n",
            "2021-03-25 16:48:08,186 | root | INFO | Invoking user's init function\n",
            "2021-03-25 16:48:18,985 | root | INFO | Users's init has completed successfully\n",
            "2021-03-25 16:48:19,007 | root | INFO | Skipping middleware: dbg_model_info as it's not enabled.\n",
            "2021-03-25 16:48:19,008 | root | INFO | Skipping middleware: dbg_resource_usage as it's not enabled.\n",
            "2021-03-25 16:48:19,015 | root | INFO | Scoring timeout is found from os.environ: 60000 ms\n",
            "2021-03-25 16:48:22,951 | root | INFO | 200\n",
            "127.0.0.1 - - [25/Mar/2021:16:48:22 +0000] \"GET /swagger.json HTTP/1.0\" 200 3721 \"-\" \"Go-http-client/1.1\"\n",
            "2021-03-25 16:48:29,449 | root | INFO | 200\n",
            "127.0.0.1 - - [25/Mar/2021:16:48:29 +0000] \"GET /swagger.json HTTP/1.0\" 200 3721 \"-\" \"Go-http-client/1.1\"\n",
            "2021-03-25 16:55:38,513 | root | INFO | 200\n",
            "127.0.0.1 - - [25/Mar/2021:16:55:38 +0000] \"GET /swagger.json HTTP/1.0\" 200 3721 \"-\" \"Go-http-client/1.1\"\n",
            "2021-03-25 16:56:34,010 | root | INFO | Validation Request Content-Type\n",
            "2021-03-25 16:56:34,010 | root | INFO | Scoring Timer is set to 60.0 seconds\n",
            "2021-03-25 16:56:34,259 | root | INFO | 200\n",
            "127.0.0.1 - - [25/Mar/2021:16:56:34 +0000] \"POST /score HTTP/1.0\" 200 31 \"-\" \"python-requests/2.25.1\"\n",
            "\n"
          ]
        }
      ],
      "execution_count": 28,
      "metadata": {
        "collapsed": true,
        "jupyter": {
          "source_hidden": false,
          "outputs_hidden": false
        },
        "nteract": {
          "transient": {
            "deleting": false
          }
        },
        "gather": {
          "logged": 1616691417023
        }
      }
    },
    {
      "cell_type": "code",
      "source": [
        "service.delete()"
      ],
      "outputs": [],
      "execution_count": 29,
      "metadata": {
        "collapsed": true,
        "jupyter": {
          "source_hidden": false,
          "outputs_hidden": false
        },
        "nteract": {
          "transient": {
            "deleting": false
          }
        },
        "gather": {
          "logged": 1616694997550
        }
      }
    }
  ],
  "metadata": {
    "kernel_info": {
      "name": "python3-azureml"
    },
    "kernelspec": {
      "name": "python3-azureml",
      "language": "python",
      "display_name": "Python 3.6 - AzureML"
    },
    "language_info": {
      "name": "python",
      "version": "3.6.9",
      "mimetype": "text/x-python",
      "codemirror_mode": {
        "name": "ipython",
        "version": 3
      },
      "pygments_lexer": "ipython3",
      "nbconvert_exporter": "python",
      "file_extension": ".py"
    },
    "nteract": {
      "version": "nteract-front-end@1.0.0"
    },
    "microsoft": {
      "host": {
        "AzureML": {
          "notebookHasBeenCompleted": true
        }
      }
    }
  },
  "nbformat": 4,
  "nbformat_minor": 2
}